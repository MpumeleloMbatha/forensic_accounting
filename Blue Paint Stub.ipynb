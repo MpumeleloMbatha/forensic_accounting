{
 "cells": [
  {
   "cell_type": "markdown",
   "metadata": {},
   "source": [
    "# The Blue Paint Incident"
   ]
  },
  {
   "cell_type": "markdown",
   "metadata": {},
   "source": [
    "You have received an anonymous tip that something 'irregular' is happening with your purchases of blue paint. Your inital meeting with the purchase manager reveals the following:\n",
    "* Your company has five vendors that deliver **blue paint** (Material ID: BLUEPAINT).\n",
    "* Each vendor has a long-running contract with a standard delivery volume of **100** liters per shipment\n",
    "* The **delivery tolerance** acceptable for good receipt of shipment of blue paint is +/- 5 percent.\n",
    "\n",
    "You have requested a copy of the data from the SAP system. You focus on the `goods receipt` events of your purchasing processes. You have received two tables:\n",
    "* `MKPF` contains the header information of the material documents.\n",
    "* `MSEG` contains the line item information of the material documents.\n",
    "\n",
    "Analyze the data to understand the irregularity. "
   ]
  },
  {
   "cell_type": "markdown",
   "metadata": {
    "ExecuteTime": {
     "end_time": "2018-04-26T22:50:25.650751Z",
     "start_time": "2018-04-26T22:50:25.644938Z"
    }
   },
   "source": [
    "## Setup"
   ]
  },
  {
   "cell_type": "markdown",
   "metadata": {
    "ExecuteTime": {
     "end_time": "2018-04-20T18:28:35.627732Z",
     "start_time": "2018-04-20T18:28:35.612855Z"
    }
   },
   "source": [
    "Some initialization to make life easier. **Make sure to run the following cell before proceeding.**"
   ]
  },
  {
   "cell_type": "code",
   "execution_count": 1,
   "metadata": {
    "ExecuteTime": {
     "end_time": "2018-04-26T23:53:05.458398Z",
     "start_time": "2018-04-26T23:53:05.199117Z"
    }
   },
   "outputs": [],
   "source": [
    "from IPython.core.interactiveshell import InteractiveShell\n",
    "InteractiveShell.ast_node_interactivity = 'all'\n",
    "import matplotlib.pyplot as plt\n",
    "%matplotlib inline"
   ]
  },
  {
   "cell_type": "markdown",
   "metadata": {},
   "source": [
    "[Pandas](https://pandas.pydata.org) is the most important workhorse in data analytics.\n",
    "[Seaborn](https://seaborn.pydata.org) is a visualization library."
   ]
  },
  {
   "cell_type": "code",
   "execution_count": 2,
   "metadata": {
    "ExecuteTime": {
     "end_time": "2018-04-26T23:53:06.395427Z",
     "start_time": "2018-04-26T23:53:05.861229Z"
    }
   },
   "outputs": [],
   "source": [
    "import pandas as pd\n",
    "import seaborn as sns\n",
    "pd.set_option('display.float_format', lambda x: '%.0f' % x)"
   ]
  },
  {
   "cell_type": "markdown",
   "metadata": {},
   "source": [
    "You have received two tables from the SAP system that contain all the information of the `goods receipt` step:\n",
    "2. The header information is stored in the table `MKPF`.\n",
    "1. The line items are stored in the table `MSEG`."
   ]
  },
  {
   "cell_type": "code",
   "execution_count": 3,
   "metadata": {
    "ExecuteTime": {
     "end_time": "2018-04-26T23:53:13.526106Z",
     "start_time": "2018-04-26T23:53:06.635061Z"
    }
   },
   "outputs": [],
   "source": [
    "mkpf_table = pd.read_csv('https://raw.githubusercontent.com/mschermann/forensic_accounting/master/MKPF.csv')\n",
    "mseg_table = pd.read_csv('https://raw.githubusercontent.com/mschermann/forensic_accounting/master/MSEG.csv')"
   ]
  },
  {
   "cell_type": "markdown",
   "metadata": {},
   "source": [
    "Both tables from with huge numbers of columns."
   ]
  },
  {
   "cell_type": "code",
   "execution_count": null,
   "metadata": {
    "ExecuteTime": {
     "end_time": "2018-04-26T23:53:14.957134Z",
     "start_time": "2018-04-26T23:53:14.933530Z"
    }
   },
   "outputs": [],
   "source": [
    "mkpf_table.columns\n",
    "mseg_table.columns"
   ]
  },
  {
   "cell_type": "markdown",
   "metadata": {},
   "source": [
    "You can find the definition of all the columns in the SAP system using the transaction code `SE16`."
   ]
  },
  {
   "cell_type": "markdown",
   "metadata": {
    "ExecuteTime": {
     "end_time": "2018-04-26T22:52:57.969779Z",
     "start_time": "2018-04-26T22:52:57.965164Z"
    }
   },
   "source": [
    "## Understanding the Data"
   ]
  },
  {
   "cell_type": "markdown",
   "metadata": {
    "ExecuteTime": {
     "end_time": "2018-04-26T22:55:41.657326Z",
     "start_time": "2018-04-26T22:55:41.652350Z"
    }
   },
   "source": [
    "### The MKPF table"
   ]
  },
  {
   "cell_type": "markdown",
   "metadata": {},
   "source": [
    "For our purposes, we use the following columns from `MKPF`:\n",
    "* `MBLNR` - Contains the material document number.\n",
    "* `USNAM` - Contains the inventory employee who posted the material document."
   ]
  },
  {
   "cell_type": "markdown",
   "metadata": {
    "ExecuteTime": {
     "end_time": "2018-04-26T22:54:20.318069Z",
     "start_time": "2018-04-26T22:54:20.299872Z"
    }
   },
   "source": [
    "**Your task:** Reduce the MKPF table on the two columns. Store the result in a variable called `mkpf`."
   ]
  },
  {
   "cell_type": "code",
   "execution_count": null,
   "metadata": {},
   "outputs": [],
   "source": []
  },
  {
   "cell_type": "markdown",
   "metadata": {},
   "source": [
    "**Your task:** Show the first five rows of the MKPF table."
   ]
  },
  {
   "cell_type": "code",
   "execution_count": null,
   "metadata": {},
   "outputs": [],
   "source": []
  },
  {
   "cell_type": "markdown",
   "metadata": {},
   "source": [
    "### The MSEG table"
   ]
  },
  {
   "cell_type": "markdown",
   "metadata": {},
   "source": [
    "For our purposes, we use the following columns from `MSEG`:\n",
    "* `MBLNR` - Contains the material document number.\n",
    "* `BWART` - Contains the movement type of the line item.\n",
    "* `MATNR` - Contains the material id.\n",
    "* `LIFNR` - Contains the vendor id.\n",
    "* `MENGE` - Contains the volume of the shipment. "
   ]
  },
  {
   "cell_type": "markdown",
   "metadata": {
    "ExecuteTime": {
     "end_time": "2018-04-26T22:54:20.318069Z",
     "start_time": "2018-04-26T22:54:20.299872Z"
    }
   },
   "source": [
    "**Your task:** Reduce the MSEG table on the columns of interest. Store the result in a variable called `mseg`."
   ]
  },
  {
   "cell_type": "code",
   "execution_count": null,
   "metadata": {},
   "outputs": [],
   "source": []
  },
  {
   "cell_type": "markdown",
   "metadata": {},
   "source": [
    "**Your task:** Show the unique movement types in the `MSEG`."
   ]
  },
  {
   "cell_type": "code",
   "execution_count": null,
   "metadata": {},
   "outputs": [],
   "source": []
  },
  {
   "cell_type": "markdown",
   "metadata": {},
   "source": [
    "The following list shows important movement types:\n",
    "* 101 - Goods receipt for a purchase order\n",
    "* 102 - Goods receipt for a purchase order - reversal\n",
    "* 122 - Return delivery to vendor\n",
    "* 161 - Return delivery to vendor for a purchase order\n",
    "* 261 - Consumption for production order from warehouse."
   ]
  },
  {
   "cell_type": "markdown",
   "metadata": {},
   "source": [
    "**Your task:** Filter the MSEG table on the movement type of interest. Store the result in a variable called `mseg`."
   ]
  },
  {
   "cell_type": "code",
   "execution_count": null,
   "metadata": {},
   "outputs": [],
   "source": []
  },
  {
   "cell_type": "markdown",
   "metadata": {},
   "source": [
    "Additionally, we are only interested in the goods movements of blue paint."
   ]
  },
  {
   "cell_type": "markdown",
   "metadata": {},
   "source": [
    "**Your task:** Filter the `MSEG` table on the material id of blue paint. Store the result in a variable called `mseg`."
   ]
  },
  {
   "cell_type": "code",
   "execution_count": null,
   "metadata": {},
   "outputs": [],
   "source": []
  },
  {
   "cell_type": "markdown",
   "metadata": {
    "ExecuteTime": {
     "end_time": "2018-04-26T23:47:34.944258Z",
     "start_time": "2018-04-26T23:47:34.928199Z"
    }
   },
   "source": [
    "**Your task:** Assign the variable type `int` to the column that contains the shipment volume."
   ]
  },
  {
   "cell_type": "code",
   "execution_count": null,
   "metadata": {},
   "outputs": [],
   "source": []
  },
  {
   "cell_type": "markdown",
   "metadata": {},
   "source": [
    "**Make sure to run the following cell before proceeding.**"
   ]
  },
  {
   "cell_type": "code",
   "execution_count": null,
   "metadata": {
    "ExecuteTime": {
     "end_time": "2018-04-26T23:56:59.830956Z",
     "start_time": "2018-04-26T23:56:59.734593Z"
    }
   },
   "outputs": [],
   "source": [
    "mseg.reset_index(inplace=True, drop=True)"
   ]
  },
  {
   "cell_type": "markdown",
   "metadata": {
    "ExecuteTime": {
     "end_time": "2018-04-26T23:17:50.387687Z",
     "start_time": "2018-04-26T23:17:50.370377Z"
    }
   },
   "source": [
    "**Your task:** Show a sample of the filtered `MSEG` table."
   ]
  },
  {
   "cell_type": "code",
   "execution_count": null,
   "metadata": {},
   "outputs": [],
   "source": []
  },
  {
   "cell_type": "markdown",
   "metadata": {
    "ExecuteTime": {
     "end_time": "2018-04-26T23:33:11.584587Z",
     "start_time": "2018-04-26T23:33:11.574337Z"
    }
   },
   "source": [
    "## Analysis of blue paint shipments"
   ]
  },
  {
   "cell_type": "markdown",
   "metadata": {
    "ExecuteTime": {
     "end_time": "2018-04-26T23:33:15.543301Z",
     "start_time": "2018-04-26T23:33:15.530214Z"
    }
   },
   "source": [
    "**Your task**: Calculate the mean, the minimum value, and the maximum value of the received shipments."
   ]
  },
  {
   "cell_type": "code",
   "execution_count": null,
   "metadata": {},
   "outputs": [],
   "source": []
  },
  {
   "cell_type": "markdown",
   "metadata": {},
   "source": [
    "**Your task**: Plot the volume of the shipments in relationship to the index (`mseg.index`)."
   ]
  },
  {
   "cell_type": "code",
   "execution_count": null,
   "metadata": {},
   "outputs": [],
   "source": []
  },
  {
   "cell_type": "markdown",
   "metadata": {},
   "source": [
    "**Your task**: Confirm that five vendors deliver blue paint."
   ]
  },
  {
   "cell_type": "code",
   "execution_count": null,
   "metadata": {},
   "outputs": [],
   "source": []
  },
  {
   "cell_type": "markdown",
   "metadata": {
    "ExecuteTime": {
     "end_time": "2018-04-26T23:28:39.480201Z",
     "start_time": "2018-04-26T23:28:39.468289Z"
    }
   },
   "source": [
    "We normalize the number of shipments per vendor. **Make sure to run the following cell before proceeding.**"
   ]
  },
  {
   "cell_type": "code",
   "execution_count": 18,
   "metadata": {
    "ExecuteTime": {
     "end_time": "2018-04-26T23:53:41.858496Z",
     "start_time": "2018-04-26T23:53:41.841896Z"
    }
   },
   "outputs": [],
   "source": [
    "mseg['order'] = mseg.groupby('LIFNR').cumcount()"
   ]
  },
  {
   "cell_type": "markdown",
   "metadata": {
    "ExecuteTime": {
     "end_time": "2018-04-26T23:29:34.434691Z",
     "start_time": "2018-04-26T23:29:34.426340Z"
    }
   },
   "source": [
    "**Your task**: Develop a chart that shows the shipment volumes across time. To do this, replace the `<PLACEHOLDER>` in the code below."
   ]
  },
  {
   "cell_type": "code",
   "execution_count": null,
   "metadata": {
    "ExecuteTime": {
     "end_time": "2018-04-26T23:51:16.713332Z",
     "start_time": "2018-04-26T23:51:16.391885Z"
    }
   },
   "outputs": [],
   "source": [
    "g = sns.FacetGrid(mseg, col='<VENDOR>', col_wrap=3);\n",
    "g.map(plt.plot, 'order', '<VOLUME OF SHIPMENT>');\n",
    "\n",
    "for a in g.axes:\n",
    "    a.axhline('<CONTRACTED VOLUME>', alpha=0.5, color='grey');"
   ]
  },
  {
   "cell_type": "markdown",
   "metadata": {
    "ExecuteTime": {
     "end_time": "2018-04-26T23:35:25.454137Z",
     "start_time": "2018-04-26T23:35:25.448470Z"
    }
   },
   "source": [
    "## Identify the person of interest in the inventory"
   ]
  },
  {
   "cell_type": "markdown",
   "metadata": {},
   "source": [
    "**Your task**: Left-Join the `MSEG` and `MKPF` tables. Store the result in a variable called `inventory`."
   ]
  },
  {
   "cell_type": "code",
   "execution_count": null,
   "metadata": {},
   "outputs": [],
   "source": []
  },
  {
   "cell_type": "markdown",
   "metadata": {},
   "source": [
    "**Your task**: Group the `inventory` by the vendor id and show the unique id's of the inventory employees that managed shipments from each vendor."
   ]
  },
  {
   "cell_type": "code",
   "execution_count": null,
   "metadata": {},
   "outputs": [],
   "source": []
  },
  {
   "cell_type": "markdown",
   "metadata": {},
   "source": [
    "**Who is the person of interest?**"
   ]
  }
 ],
 "metadata": {
  "kernelspec": {
   "display_name": "Python 3",
   "language": "python",
   "name": "python3"
  },
  "language_info": {
   "codemirror_mode": {
    "name": "ipython",
    "version": 3
   },
   "file_extension": ".py",
   "mimetype": "text/x-python",
   "name": "python",
   "nbconvert_exporter": "python",
   "pygments_lexer": "ipython3",
   "version": "3.6.4"
  },
  "toc": {
   "base_numbering": 1,
   "nav_menu": {},
   "number_sections": true,
   "sideBar": true,
   "skip_h1_title": false,
   "title_cell": "Table of Contents",
   "title_sidebar": "Contents",
   "toc_cell": false,
   "toc_position": {},
   "toc_section_display": true,
   "toc_window_display": false
  },
  "varInspector": {
   "cols": {
    "lenName": 16,
    "lenType": 16,
    "lenVar": 40
   },
   "kernels_config": {
    "python": {
     "delete_cmd_postfix": "",
     "delete_cmd_prefix": "del ",
     "library": "var_list.py",
     "varRefreshCmd": "print(var_dic_list())"
    },
    "r": {
     "delete_cmd_postfix": ") ",
     "delete_cmd_prefix": "rm(",
     "library": "var_list.r",
     "varRefreshCmd": "cat(var_dic_list()) "
    }
   },
   "types_to_exclude": [
    "module",
    "function",
    "builtin_function_or_method",
    "instance",
    "_Feature"
   ],
   "window_display": false
  }
 },
 "nbformat": 4,
 "nbformat_minor": 2
}
