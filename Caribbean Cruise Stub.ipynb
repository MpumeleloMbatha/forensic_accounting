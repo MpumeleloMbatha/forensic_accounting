{
 "cells": [
  {
   "cell_type": "markdown",
   "metadata": {},
   "source": [
    "# The Caribbean Cruise Incident"
   ]
  },
  {
   "cell_type": "markdown",
   "metadata": {},
   "source": [
    "You have received an anonymous tip that an purchase group employee in the purchasing group for industrial oils has been on a caribbean cruise for the third time in the last two years. Since spending beyond means is a red flag, you begin an investigation. \n",
    "\n",
    "You have requested a copy of the data from the SAP system. You focus on the **purchase orders**. Analyze the data to understand the irregularity. \n",
    "\n",
    "**Can you establish sufficient evidence?**"
   ]
  },
  {
   "cell_type": "markdown",
   "metadata": {
    "ExecuteTime": {
     "end_time": "2018-04-26T22:50:25.650751Z",
     "start_time": "2018-04-26T22:50:25.644938Z"
    }
   },
   "source": [
    "## Setup"
   ]
  },
  {
   "cell_type": "markdown",
   "metadata": {
    "ExecuteTime": {
     "end_time": "2018-04-20T18:28:35.627732Z",
     "start_time": "2018-04-20T18:28:35.612855Z"
    }
   },
   "source": [
    "Some initialization to make life easier. **Make sure to run the following cell before proceeding.**"
   ]
  },
  {
   "cell_type": "code",
   "execution_count": 1,
   "metadata": {
    "ExecuteTime": {
     "end_time": "2018-05-04T06:45:57.059671Z",
     "start_time": "2018-05-04T06:45:56.402362Z"
    }
   },
   "outputs": [],
   "source": [
    "#Allow multiple outputs for each cell\n",
    "from IPython.core.interactiveshell import InteractiveShell\n",
    "InteractiveShell.ast_node_interactivity = 'all'\n",
    "#Show simple plots in the notebook\n",
    "import matplotlib.pyplot as plt\n",
    "%matplotlib inline"
   ]
  },
  {
   "cell_type": "markdown",
   "metadata": {},
   "source": [
    "We use the following libraries:\n",
    "* [Pandas](https://pandas.pydata.org) is the most important workhorse in data analytics.\n",
    "* [Altair](https://altair-viz.github.io) is a visualization library."
   ]
  },
  {
   "cell_type": "code",
   "execution_count": 2,
   "metadata": {
    "ExecuteTime": {
     "end_time": "2018-05-04T06:45:57.891346Z",
     "start_time": "2018-05-04T06:45:57.071338Z"
    }
   },
   "outputs": [],
   "source": [
    "import pandas as pd\n",
    "import altair as alt\n",
    "#Format number without any decimals\n",
    "pd.set_option('display.float_format', lambda x: '%.0f' % x)\n",
    "#Show altair plots in the notebook\n",
    "alt.renderers.enable('notebook')"
   ]
  },
  {
   "cell_type": "markdown",
   "metadata": {},
   "source": [
    "You have received three tables from the SAP system that contain all the information of the `purchase order` step:\n",
    "2. The header information of the purchase orders is stored in the table `EKKO`.\n",
    "1. The line items information of the purchase orders is stored in the table `EKPO`.\n",
    "3. The sets of applicable conditions associated with the purchase orders are stores in the table `KONV`."
   ]
  },
  {
   "cell_type": "code",
   "execution_count": 3,
   "metadata": {
    "ExecuteTime": {
     "end_time": "2018-05-04T06:45:58.571412Z",
     "start_time": "2018-05-04T06:45:57.895652Z"
    }
   },
   "outputs": [],
   "source": [
    "ekko_table = pd.read_csv('https://raw.githubusercontent.com/mschermann/forensic_accounting/master/EKKO.csv')\n",
    "ekpo_table = pd.read_csv('https://raw.githubusercontent.com/mschermann/forensic_accounting/master/EKPO.csv')\n",
    "konv_table = pd.read_csv('https://raw.githubusercontent.com/mschermann/forensic_accounting/master/KONV.csv')"
   ]
  },
  {
   "cell_type": "markdown",
   "metadata": {},
   "source": [
    "The tables from with huge numbers of columns."
   ]
  },
  {
   "cell_type": "markdown",
   "metadata": {
    "ExecuteTime": {
     "end_time": "2018-04-26T22:52:57.969779Z",
     "start_time": "2018-04-26T22:52:57.965164Z"
    }
   },
   "source": [
    "## Understanding the Data"
   ]
  },
  {
   "cell_type": "markdown",
   "metadata": {},
   "source": [
    "You can find the definition of all the columns in the SAP system using the transaction code `SE16`."
   ]
  },
  {
   "cell_type": "code",
   "execution_count": 4,
   "metadata": {
    "ExecuteTime": {
     "end_time": "2018-05-04T06:45:58.595033Z",
     "start_time": "2018-05-04T06:45:58.574727Z"
    }
   },
   "outputs": [
    {
     "data": {
      "text/plain": [
       "Index(['MANDT', 'EBELN', 'BUKRS', 'BSTYP', 'BSART', 'BSAKZ', 'LOEKZ', 'STATU',\n",
       "       'AEDAT', 'ERNAM',\n",
       "       ...\n",
       "       'OTB_RES_VALUE', 'OTB_SPEC_VALUE', 'SPR_RSN_PROFILE', 'BUDG_TYPE',\n",
       "       'OTB_STATUS', 'OTB_REASON', 'CHECK_TYPE', 'CON_OTB_REQ',\n",
       "       'CON_PREBOOK_LEV', 'CON_DISTR_LEV'],\n",
       "      dtype='object', length=137)"
      ]
     },
     "execution_count": 4,
     "metadata": {},
     "output_type": "execute_result"
    },
    {
     "data": {
      "text/plain": [
       "Index(['MANDT', 'EBELN', 'EBELP', 'LOEKZ', 'STATU', 'AEDAT', 'TXZ01', 'MATNR',\n",
       "       'EMATN', 'BUKRS',\n",
       "       ...\n",
       "       'FSH_SS', 'FSH_GRID_COND_REC', 'FSH_PSM_PFM_SPLIT', 'CNFM_QTY',\n",
       "       'REF_ITEM', 'SOURCE_ID', 'SOURCE_KEY', 'PUT_BACK', 'POL_ID',\n",
       "       'CONS_ORDER'],\n",
       "      dtype='object', length=300)"
      ]
     },
     "execution_count": 4,
     "metadata": {},
     "output_type": "execute_result"
    },
    {
     "data": {
      "text/plain": [
       "Index(['MANDT', 'KNUMV', 'KPOSN', 'STUNR', 'ZAEHK', 'KAPPL', 'KSCHL', 'KDATU',\n",
       "       'KRECH', 'KAWRT', 'KBETR', 'WAERS', 'KKURS', 'KPEIN', 'KMEIN', 'KUMZA',\n",
       "       'KUMNE', 'KNTYP', 'KSTAT', 'KNPRS', 'KRUEK', 'KRELI', 'KHERK', 'KGRPE',\n",
       "       'KOUPD', 'KOLNR', 'KNUMH', 'KOPOS', 'KVSL1', 'SAKN1', 'MWSK1', 'KVSL2',\n",
       "       'SAKN2', 'MWSK2', 'LIFNR', 'KUNNR', 'KDIFF', 'KWERT', 'KSTEU', 'KINAK',\n",
       "       'KOAID', 'ZAEKO', 'KMXAW', 'KMXWR', 'KFAKTOR', 'KDUPL', 'KFAKTOR1',\n",
       "       'KZBZG', 'KSTBS', 'KONMS', 'KONWS', 'KAWRT_K', 'KWAEH', 'KWERT_K',\n",
       "       'KFKIV', 'KVARC', 'KMPRS', 'PRSQU', 'VARCOND', 'STUFE', 'WEGXX',\n",
       "       'KTREL', 'MDFLG', 'TXJLV', 'KBFLAG', 'KOLNR3', 'CPF_GUID', 'KAQTY'],\n",
       "      dtype='object')"
      ]
     },
     "execution_count": 4,
     "metadata": {},
     "output_type": "execute_result"
    }
   ],
   "source": [
    "ekko_table.columns\n",
    "ekpo_table.columns\n",
    "konv_table.columns"
   ]
  },
  {
   "cell_type": "markdown",
   "metadata": {
    "ExecuteTime": {
     "end_time": "2018-04-26T22:55:41.657326Z",
     "start_time": "2018-04-26T22:55:41.652350Z"
    }
   },
   "source": [
    "### The EKKO table"
   ]
  },
  {
   "cell_type": "markdown",
   "metadata": {},
   "source": [
    "For our purposes, we use the following columns from `EKKO`:\n",
    "* `EBELN` - Contains the purchase order number.\n",
    "* `ERNAM` - Contains the purchase group employee who authorized the purchase order.\n",
    "* `LIFNR` - Contains the vendor unique identifier that received the purchase order.\n",
    "* `KNUMV` - Contains the link to the set of conditions associated with the purchase order."
   ]
  },
  {
   "cell_type": "markdown",
   "metadata": {
    "ExecuteTime": {
     "end_time": "2018-05-04T04:05:15.603045Z",
     "start_time": "2018-05-04T04:05:15.597775Z"
    }
   },
   "source": [
    "### The EKPO table"
   ]
  },
  {
   "cell_type": "markdown",
   "metadata": {
    "ExecuteTime": {
     "end_time": "2018-05-04T04:10:17.248578Z",
     "start_time": "2018-05-04T04:10:17.235321Z"
    }
   },
   "source": [
    "For our purposes, we use the following columns from `EKPO`:\n",
    "* `EBELN` - Contains the purchase order number.\n",
    "* `EBELP` - Contains the line item identifier.\n",
    "* `TXZ01` - Contains a textual description of the material.\n",
    "* `MATNR` - Contains the material unique identifier.\n",
    "* `MENGE` - Contains the amount of material ordered.\n",
    "* `NETPR` - Contains the effective net price of material ordered.\n",
    "* `NETWR` - Contains the effective net value of material ordered (i.e., `MENGE * NETPR`)."
   ]
  },
  {
   "cell_type": "markdown",
   "metadata": {},
   "source": [
    "### The KONV table"
   ]
  },
  {
   "cell_type": "markdown",
   "metadata": {},
   "source": [
    "For our purposes, we use the following columns from `KONV`:\n",
    "* `KNUMV` - Contains the unique identifier for the condition set.\n",
    "* `KPOSN` - Contains the line item identifier.\n",
    "* `KSCHL` - Contains the type of a condition.\n",
    "* `KAWRT` - Contains the baseline of a conditon.\n",
    "* `KBETR` - Contains the effective price."
   ]
  },
  {
   "cell_type": "markdown",
   "metadata": {},
   "source": [
    "The following condition types are relevant for this case study:\n",
    "* `PBXX` - Gross price\n",
    "* `RB00` - Absolute discounts\n",
    "* `NAVM` - Tax deductions\n",
    "* `SKTO` - Cash discounts related to payment goals\n",
    "* `WOTB` - Effective price\n",
    "\n",
    "The following variable contains all relevant condition types."
   ]
  },
  {
   "cell_type": "code",
   "execution_count": 5,
   "metadata": {
    "ExecuteTime": {
     "end_time": "2018-05-04T06:45:58.604350Z",
     "start_time": "2018-05-04T06:45:58.599657Z"
    }
   },
   "outputs": [],
   "source": [
    "cond_types = ['NAVM','PBXX','RB00','SKTO','WOTB']"
   ]
  },
  {
   "cell_type": "markdown",
   "metadata": {
    "ExecuteTime": {
     "end_time": "2018-05-04T04:27:15.987078Z",
     "start_time": "2018-05-04T04:27:15.983309Z"
    }
   },
   "source": [
    "## Clean the data"
   ]
  },
  {
   "cell_type": "markdown",
   "metadata": {
    "ExecuteTime": {
     "end_time": "2018-04-26T22:54:20.318069Z",
     "start_time": "2018-04-26T22:54:20.299872Z"
    }
   },
   "source": [
    "**Your task:** Reduce the `EKKO` table to the columns of interest. Store the result in a variable called `ekko`."
   ]
  },
  {
   "cell_type": "code",
   "execution_count": null,
   "metadata": {},
   "outputs": [],
   "source": []
  },
  {
   "cell_type": "markdown",
   "metadata": {},
   "source": [
    "**Your task:** Show the first rows of `ekko`."
   ]
  },
  {
   "cell_type": "code",
   "execution_count": null,
   "metadata": {},
   "outputs": [],
   "source": []
  },
  {
   "cell_type": "markdown",
   "metadata": {
    "ExecuteTime": {
     "end_time": "2018-04-26T22:54:20.318069Z",
     "start_time": "2018-04-26T22:54:20.299872Z"
    }
   },
   "source": [
    "**Your task:** Reduce the `EKPO` table to the columns of interest. Store the result in a variable called `ekpo`."
   ]
  },
  {
   "cell_type": "code",
   "execution_count": null,
   "metadata": {},
   "outputs": [],
   "source": []
  },
  {
   "cell_type": "markdown",
   "metadata": {},
   "source": [
    "**Your task:** Show the first rows of `ekpo`."
   ]
  },
  {
   "cell_type": "code",
   "execution_count": null,
   "metadata": {},
   "outputs": [],
   "source": []
  },
  {
   "cell_type": "markdown",
   "metadata": {
    "ExecuteTime": {
     "end_time": "2018-05-04T04:20:41.861876Z",
     "start_time": "2018-05-04T04:20:41.849690Z"
    }
   },
   "source": [
    "**Your task:** Reduce the `KONV` table to the columns of interest. Store the result in a variable called `konv`."
   ]
  },
  {
   "cell_type": "code",
   "execution_count": null,
   "metadata": {},
   "outputs": [],
   "source": []
  },
  {
   "cell_type": "markdown",
   "metadata": {},
   "source": [
    "**Your task:** Show the first five rows of the `konv`."
   ]
  },
  {
   "cell_type": "code",
   "execution_count": null,
   "metadata": {},
   "outputs": [],
   "source": []
  },
  {
   "cell_type": "markdown",
   "metadata": {},
   "source": [
    "## Focus on Brent Crude Oil"
   ]
  },
  {
   "cell_type": "markdown",
   "metadata": {
    "ExecuteTime": {
     "end_time": "2018-05-04T04:29:31.332488Z",
     "start_time": "2018-05-04T04:29:31.319713Z"
    }
   },
   "source": [
    "**Your task:** Filter the line items that contain orders of Brent Crude Oil (`MATNR`: `BRENTCRUDE`). Store the result in a variable called `ekpo_bco`."
   ]
  },
  {
   "cell_type": "code",
   "execution_count": null,
   "metadata": {},
   "outputs": [],
   "source": []
  },
  {
   "cell_type": "markdown",
   "metadata": {
    "ExecuteTime": {
     "end_time": "2018-05-04T04:29:31.332488Z",
     "start_time": "2018-05-04T04:29:31.319713Z"
    }
   },
   "source": [
    "**Your task:** Show how many purchase orders contain orders of Brent Crude Oil?"
   ]
  },
  {
   "cell_type": "code",
   "execution_count": null,
   "metadata": {},
   "outputs": [],
   "source": []
  },
  {
   "cell_type": "markdown",
   "metadata": {
    "ExecuteTime": {
     "end_time": "2018-05-04T05:33:31.215339Z",
     "start_time": "2018-05-04T05:33:31.206642Z"
    }
   },
   "source": [
    "## The value of the Brent Crude Oil purchase orders"
   ]
  },
  {
   "cell_type": "markdown",
   "metadata": {},
   "source": [
    "**Your task:** What is the overall value of all purchases order of Brent Crude Oil?"
   ]
  },
  {
   "cell_type": "code",
   "execution_count": null,
   "metadata": {},
   "outputs": [],
   "source": []
  },
  {
   "cell_type": "markdown",
   "metadata": {
    "ExecuteTime": {
     "end_time": "2018-05-04T04:37:46.989304Z",
     "start_time": "2018-05-04T04:37:46.971051Z"
    }
   },
   "source": [
    "**Your task:** Show how the effective net prices (`NETPR`) of all purchase orders of Brent Crude Oil changes over time. *(Assume that the order of purchase orders represents time)*."
   ]
  },
  {
   "cell_type": "code",
   "execution_count": null,
   "metadata": {
    "ExecuteTime": {
     "end_time": "2018-05-04T06:45:59.250509Z",
     "start_time": "2018-05-04T06:45:58.823656Z"
    }
   },
   "outputs": [],
   "source": [
    "v_netpr = alt.Chart().mark_line().encode(\n",
    "    x=alt.X('index', axis=alt.Axis(title='Purchase Orders')),\n",
    "    y=alt.Y('NETPR', scale=alt.Scale(domain=(4100, 4700)), axis=alt.Axis(title='Effective Net Price of Brent Crude Oil'))\n",
    ")\n",
    "alt.layer(v_netpr, data = ekpo_bco.reset_index(), width=600, height=300)"
   ]
  },
  {
   "cell_type": "markdown",
   "metadata": {},
   "source": [
    "**Reflect:** What is your interpretation of the effective net price?"
   ]
  },
  {
   "cell_type": "markdown",
   "metadata": {
    "ExecuteTime": {
     "end_time": "2018-05-04T05:34:05.479375Z",
     "start_time": "2018-05-04T05:34:05.472850Z"
    }
   },
   "source": [
    "## The volume of the Brent Crude Oil purchase orders"
   ]
  },
  {
   "cell_type": "markdown",
   "metadata": {},
   "source": [
    "**Your task:** What is the average order volume for Brent Crude Oil?"
   ]
  },
  {
   "cell_type": "markdown",
   "metadata": {
    "ExecuteTime": {
     "end_time": "2018-05-04T04:37:46.989304Z",
     "start_time": "2018-05-04T04:37:46.971051Z"
    }
   },
   "source": [
    "**Your task:** Show how amount of all purchase orders (`MENGE`) of Brent Crude Oil. (We assume that the order of purchase orders represents time)."
   ]
  },
  {
   "cell_type": "code",
   "execution_count": null,
   "metadata": {
    "ExecuteTime": {
     "end_time": "2018-05-04T06:45:59.323120Z",
     "start_time": "2018-05-04T06:45:59.278088Z"
    }
   },
   "outputs": [],
   "source": [
    "v_menge = alt.Chart().mark_line().encode(\n",
    "    x=alt.X('index', axis=alt.Axis(title='Purchase Orders')),\n",
    "    y=alt.Y('MENGE', scale=alt.Scale(domain=(19500, 20500)), axis=alt.Axis(title='Order Volume of Brent Crude Oil'))\n",
    ")\n",
    "alt.layer(v_menge, data = ekpo_bco.reset_index(), width=600, height=300)"
   ]
  },
  {
   "cell_type": "markdown",
   "metadata": {},
   "source": [
    "**Reflect:** What is your interpretation of the order volume?"
   ]
  },
  {
   "cell_type": "markdown",
   "metadata": {
    "ExecuteTime": {
     "end_time": "2018-05-04T05:37:13.871861Z",
     "start_time": "2018-05-04T05:37:13.867298Z"
    }
   },
   "source": [
    "## Integrated analysis of `EKKO` and `EKPO`"
   ]
  },
  {
   "cell_type": "markdown",
   "metadata": {
    "ExecuteTime": {
     "end_time": "2018-05-04T04:37:46.989304Z",
     "start_time": "2018-05-04T04:37:46.971051Z"
    }
   },
   "source": [
    "**Your task:** Left join the `ekpo_bco` and the `ekko` tables. Store the result in a variable called `ekko_ekpo_bco`."
   ]
  },
  {
   "cell_type": "code",
   "execution_count": null,
   "metadata": {},
   "outputs": [],
   "source": []
  },
  {
   "cell_type": "markdown",
   "metadata": {
    "ExecuteTime": {
     "end_time": "2018-05-04T04:37:46.989304Z",
     "start_time": "2018-05-04T04:37:46.971051Z"
    }
   },
   "source": [
    "**Your task:** Show a sample of the `ekko_ekpo_bco` table."
   ]
  },
  {
   "cell_type": "code",
   "execution_count": null,
   "metadata": {},
   "outputs": [],
   "source": []
  },
  {
   "cell_type": "markdown",
   "metadata": {},
   "source": [
    "**Your task:** How many vendors (`LIFNR`) deliver Brent Crude Oil?"
   ]
  },
  {
   "cell_type": "code",
   "execution_count": null,
   "metadata": {},
   "outputs": [],
   "source": []
  },
  {
   "cell_type": "markdown",
   "metadata": {},
   "source": [
    "**Your task:** How many purchase group employees (`ERNAM`) are responsible for ordering Brent Crude Oil?"
   ]
  },
  {
   "cell_type": "code",
   "execution_count": null,
   "metadata": {},
   "outputs": [],
   "source": []
  },
  {
   "cell_type": "markdown",
   "metadata": {},
   "source": [
    "**Your task:** Are there any differences in the average order volume between the purchase group employees (`ERNAM`)?"
   ]
  },
  {
   "cell_type": "code",
   "execution_count": null,
   "metadata": {},
   "outputs": [],
   "source": []
  },
  {
   "cell_type": "code",
   "execution_count": null,
   "metadata": {
    "ExecuteTime": {
     "end_time": "2018-05-04T06:45:59.492981Z",
     "start_time": "2018-05-04T06:45:59.440826Z"
    }
   },
   "outputs": [],
   "source": [
    "base = alt.Chart().mark_line().encode(\n",
    "    x=alt.X('index', axis=alt.Axis(title='Purchase Orders')),\n",
    "    y=alt.Y('MENGE', scale=alt.Scale(domain=(19760, 20250)), axis=alt.Axis(title='Order Volume of Brent Crude Oil')),\n",
    "    color=alt.Color('ERNAM', legend=alt.Legend(title=\"Purchase Group Employee\"))\n",
    ")\n",
    "alt.layer(base, data = ekko_ekpo_bco.reset_index(), width=600, height=300)"
   ]
  },
  {
   "cell_type": "markdown",
   "metadata": {},
   "source": [
    "## Analysis of the Conditions"
   ]
  },
  {
   "cell_type": "markdown",
   "metadata": {},
   "source": [
    "**Your task:** Filter the conditions for the purchase order of Brent Crude Oil? Store the result in a variable called `konv_bco`."
   ]
  },
  {
   "cell_type": "code",
   "execution_count": null,
   "metadata": {},
   "outputs": [],
   "source": []
  },
  {
   "cell_type": "markdown",
   "metadata": {},
   "source": [
    "**Your task:** Show the first five rows of `konv_bco`."
   ]
  },
  {
   "cell_type": "code",
   "execution_count": null,
   "metadata": {},
   "outputs": [],
   "source": []
  },
  {
   "cell_type": "markdown",
   "metadata": {},
   "source": [
    "**Your task:** What is the interesting condition type?"
   ]
  },
  {
   "cell_type": "code",
   "execution_count": null,
   "metadata": {},
   "outputs": [],
   "source": []
  },
  {
   "cell_type": "markdown",
   "metadata": {},
   "source": [
    "**Your task:** Add dummies for the condition type to `konv_bco`. Store the result in a variable called `konv_bco_d`?"
   ]
  },
  {
   "cell_type": "code",
   "execution_count": null,
   "metadata": {},
   "outputs": [],
   "source": []
  },
  {
   "cell_type": "markdown",
   "metadata": {
    "ExecuteTime": {
     "end_time": "2018-05-04T05:48:03.153060Z",
     "start_time": "2018-05-04T05:48:03.142157Z"
    }
   },
   "source": [
    "**Your task:** Show the first five rows of `konv_bco_d`."
   ]
  },
  {
   "cell_type": "code",
   "execution_count": null,
   "metadata": {},
   "outputs": [],
   "source": []
  },
  {
   "cell_type": "markdown",
   "metadata": {},
   "source": [
    "**Your task:** Filter the sets of conditions that contain the condition type of interest. Store the result in a variable called by the name of the condition type."
   ]
  },
  {
   "cell_type": "code",
   "execution_count": null,
   "metadata": {},
   "outputs": [],
   "source": []
  },
  {
   "cell_type": "markdown",
   "metadata": {},
   "source": [
    "**Your task:** Left join the condition type of interest to the other tables. Store the result in a variable called `eek_bco`."
   ]
  },
  {
   "cell_type": "code",
   "execution_count": null,
   "metadata": {},
   "outputs": [],
   "source": []
  },
  {
   "cell_type": "markdown",
   "metadata": {},
   "source": [
    "## What is the fraud?"
   ]
  },
  {
   "cell_type": "markdown",
   "metadata": {},
   "source": [
    "**Your task:** What does the fraudster exploit?"
   ]
  },
  {
   "cell_type": "code",
   "execution_count": null,
   "metadata": {},
   "outputs": [],
   "source": []
  },
  {
   "cell_type": "code",
   "execution_count": null,
   "metadata": {},
   "outputs": [],
   "source": []
  },
  {
   "cell_type": "markdown",
   "metadata": {},
   "source": [
    "**Your task:** Who is the person of interest?"
   ]
  },
  {
   "cell_type": "code",
   "execution_count": null,
   "metadata": {},
   "outputs": [],
   "source": []
  },
  {
   "cell_type": "markdown",
   "metadata": {},
   "source": [
    "**Your task:** What is the financial damage?"
   ]
  },
  {
   "cell_type": "code",
   "execution_count": null,
   "metadata": {},
   "outputs": [],
   "source": []
  },
  {
   "cell_type": "markdown",
   "metadata": {
    "ExecuteTime": {
     "end_time": "2018-05-04T06:16:12.187499Z",
     "start_time": "2018-05-04T06:16:12.178351Z"
    }
   },
   "source": [
    "**Reflect:** Can you explain the fraud?"
   ]
  }
 ],
 "metadata": {
  "kernelspec": {
   "display_name": "Python 3",
   "language": "python",
   "name": "python3"
  },
  "language_info": {
   "codemirror_mode": {
    "name": "ipython",
    "version": 3
   },
   "file_extension": ".py",
   "mimetype": "text/x-python",
   "name": "python",
   "nbconvert_exporter": "python",
   "pygments_lexer": "ipython3",
   "version": "3.6.4"
  },
  "toc": {
   "base_numbering": 1,
   "nav_menu": {},
   "number_sections": true,
   "sideBar": true,
   "skip_h1_title": false,
   "title_cell": "Table of Contents",
   "title_sidebar": "Contents",
   "toc_cell": false,
   "toc_position": {},
   "toc_section_display": true,
   "toc_window_display": false
  },
  "varInspector": {
   "cols": {
    "lenName": 16,
    "lenType": 16,
    "lenVar": 40
   },
   "kernels_config": {
    "python": {
     "delete_cmd_postfix": "",
     "delete_cmd_prefix": "del ",
     "library": "var_list.py",
     "varRefreshCmd": "print(var_dic_list())"
    },
    "r": {
     "delete_cmd_postfix": ") ",
     "delete_cmd_prefix": "rm(",
     "library": "var_list.r",
     "varRefreshCmd": "cat(var_dic_list()) "
    }
   },
   "types_to_exclude": [
    "module",
    "function",
    "builtin_function_or_method",
    "instance",
    "_Feature"
   ],
   "window_display": false
  }
 },
 "nbformat": 4,
 "nbformat_minor": 2
}
