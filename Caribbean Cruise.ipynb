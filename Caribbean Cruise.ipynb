{
 "cells": [
  {
   "cell_type": "markdown",
   "metadata": {},
   "source": [
    "# The Caribbean Cruise Incident"
   ]
  },
  {
   "cell_type": "markdown",
   "metadata": {},
   "source": [
    "You have received an anonymous tip that an purchase group employee in the purchasing group for industrial oils has been on a caribbean cruise for the third time in the last two years. Since spending beyond means is a red flag, you begin an investigation. \n",
    "\n",
    "You have requested a copy of the data from the SAP system. You focus on the **purchase orders**. Analyze the data to understand the irregularity. \n",
    "\n",
    "**Can you establish sufficient evidence?**"
   ]
  },
  {
   "cell_type": "markdown",
   "metadata": {
    "ExecuteTime": {
     "end_time": "2018-04-26T22:50:25.650751Z",
     "start_time": "2018-04-26T22:50:25.644938Z"
    }
   },
   "source": [
    "## Setup"
   ]
  },
  {
   "cell_type": "markdown",
   "metadata": {
    "ExecuteTime": {
     "end_time": "2018-04-20T18:28:35.627732Z",
     "start_time": "2018-04-20T18:28:35.612855Z"
    }
   },
   "source": [
    "Some initialization to make life easier. **Make sure to run the following cell before proceeding.**"
   ]
  },
  {
   "cell_type": "code",
   "execution_count": 1,
   "metadata": {
    "ExecuteTime": {
     "end_time": "2018-05-04T06:45:57.059671Z",
     "start_time": "2018-05-04T06:45:56.402362Z"
    }
   },
   "outputs": [],
   "source": [
    "#Allow multiple outputs for each cell\n",
    "from IPython.core.interactiveshell import InteractiveShell\n",
    "InteractiveShell.ast_node_interactivity = 'all'\n",
    "#Show simple plots in the notebook\n",
    "import matplotlib.pyplot as plt\n",
    "%matplotlib inline"
   ]
  },
  {
   "cell_type": "markdown",
   "metadata": {},
   "source": [
    "We use the following libraries:\n",
    "* [Pandas](https://pandas.pydata.org) is the most important workhorse in data analytics.\n",
    "* [Altair](https://altair-viz.github.io) is a visualization library."
   ]
  },
  {
   "cell_type": "code",
   "execution_count": 2,
   "metadata": {
    "ExecuteTime": {
     "end_time": "2018-05-04T06:45:57.891346Z",
     "start_time": "2018-05-04T06:45:57.071338Z"
    }
   },
   "outputs": [],
   "source": [
    "import pandas as pd\n",
    "import altair as alt\n",
    "#Format number without any decimals\n",
    "pd.set_option('display.float_format', lambda x: '%.0f' % x)\n",
    "#Show altair plots in the notebook\n",
    "alt.renderers.enable('notebook')"
   ]
  },
  {
   "cell_type": "markdown",
   "metadata": {},
   "source": [
    "You have received three tables from the SAP system that contain all the information of the `purchase order` step:\n",
    "2. The header information of the purchase orders is stored in the table `EKKO`.\n",
    "1. The line items information of the purchase orders is stored in the table `EKPO`.\n",
    "3. The sets of applicable conditions associated with the purchase orders are stores in the table `KONV`."
   ]
  },
  {
   "cell_type": "code",
   "execution_count": 3,
   "metadata": {
    "ExecuteTime": {
     "end_time": "2018-05-04T06:45:58.571412Z",
     "start_time": "2018-05-04T06:45:57.895652Z"
    }
   },
   "outputs": [],
   "source": [
    "ekko_table = pd.read_csv('https://raw.githubusercontent.com/mschermann/forensic_accounting/master/EKKO.csv')\n",
    "ekpo_table = pd.read_csv('https://raw.githubusercontent.com/mschermann/forensic_accounting/master/EKPO.csv')\n",
    "konv_table = pd.read_csv('https://raw.githubusercontent.com/mschermann/forensic_accounting/master/KONV.csv')"
   ]
  },
  {
   "cell_type": "markdown",
   "metadata": {},
   "source": [
    "The tables from with huge numbers of columns."
   ]
  },
  {
   "cell_type": "markdown",
   "metadata": {
    "ExecuteTime": {
     "end_time": "2018-04-26T22:52:57.969779Z",
     "start_time": "2018-04-26T22:52:57.965164Z"
    }
   },
   "source": [
    "## Understanding the Data"
   ]
  },
  {
   "cell_type": "markdown",
   "metadata": {},
   "source": [
    "You can find the definition of all the columns in the SAP system using the transaction code `SE16`."
   ]
  },
  {
   "cell_type": "code",
   "execution_count": 4,
   "metadata": {
    "ExecuteTime": {
     "end_time": "2018-05-04T06:45:58.595033Z",
     "start_time": "2018-05-04T06:45:58.574727Z"
    }
   },
   "outputs": [
    {
     "data": {
      "text/plain": [
       "Index(['MANDT', 'EBELN', 'BUKRS', 'BSTYP', 'BSART', 'BSAKZ', 'LOEKZ', 'STATU',\n",
       "       'AEDAT', 'ERNAM',\n",
       "       ...\n",
       "       'OTB_RES_VALUE', 'OTB_SPEC_VALUE', 'SPR_RSN_PROFILE', 'BUDG_TYPE',\n",
       "       'OTB_STATUS', 'OTB_REASON', 'CHECK_TYPE', 'CON_OTB_REQ',\n",
       "       'CON_PREBOOK_LEV', 'CON_DISTR_LEV'],\n",
       "      dtype='object', length=137)"
      ]
     },
     "execution_count": 4,
     "metadata": {},
     "output_type": "execute_result"
    },
    {
     "data": {
      "text/plain": [
       "Index(['MANDT', 'EBELN', 'EBELP', 'LOEKZ', 'STATU', 'AEDAT', 'TXZ01', 'MATNR',\n",
       "       'EMATN', 'BUKRS',\n",
       "       ...\n",
       "       'FSH_SS', 'FSH_GRID_COND_REC', 'FSH_PSM_PFM_SPLIT', 'CNFM_QTY',\n",
       "       'REF_ITEM', 'SOURCE_ID', 'SOURCE_KEY', 'PUT_BACK', 'POL_ID',\n",
       "       'CONS_ORDER'],\n",
       "      dtype='object', length=300)"
      ]
     },
     "execution_count": 4,
     "metadata": {},
     "output_type": "execute_result"
    },
    {
     "data": {
      "text/plain": [
       "Index(['MANDT', 'KNUMV', 'KPOSN', 'STUNR', 'ZAEHK', 'KAPPL', 'KSCHL', 'KDATU',\n",
       "       'KRECH', 'KAWRT', 'KBETR', 'WAERS', 'KKURS', 'KPEIN', 'KMEIN', 'KUMZA',\n",
       "       'KUMNE', 'KNTYP', 'KSTAT', 'KNPRS', 'KRUEK', 'KRELI', 'KHERK', 'KGRPE',\n",
       "       'KOUPD', 'KOLNR', 'KNUMH', 'KOPOS', 'KVSL1', 'SAKN1', 'MWSK1', 'KVSL2',\n",
       "       'SAKN2', 'MWSK2', 'LIFNR', 'KUNNR', 'KDIFF', 'KWERT', 'KSTEU', 'KINAK',\n",
       "       'KOAID', 'ZAEKO', 'KMXAW', 'KMXWR', 'KFAKTOR', 'KDUPL', 'KFAKTOR1',\n",
       "       'KZBZG', 'KSTBS', 'KONMS', 'KONWS', 'KAWRT_K', 'KWAEH', 'KWERT_K',\n",
       "       'KFKIV', 'KVARC', 'KMPRS', 'PRSQU', 'VARCOND', 'STUFE', 'WEGXX',\n",
       "       'KTREL', 'MDFLG', 'TXJLV', 'KBFLAG', 'KOLNR3', 'CPF_GUID', 'KAQTY'],\n",
       "      dtype='object')"
      ]
     },
     "execution_count": 4,
     "metadata": {},
     "output_type": "execute_result"
    }
   ],
   "source": [
    "ekko_table.columns\n",
    "ekpo_table.columns\n",
    "konv_table.columns"
   ]
  },
  {
   "cell_type": "markdown",
   "metadata": {
    "ExecuteTime": {
     "end_time": "2018-04-26T22:55:41.657326Z",
     "start_time": "2018-04-26T22:55:41.652350Z"
    }
   },
   "source": [
    "### The EKKO table"
   ]
  },
  {
   "cell_type": "markdown",
   "metadata": {},
   "source": [
    "For our purposes, we use the following columns from `EKKO`:\n",
    "* `EBELN` - Contains the purchase order number.\n",
    "* `ERNAM` - Contains the purchase group employee who authorized the purchase order.\n",
    "* `LIFNR` - Contains the vendor unique identifier that received the purchase order.\n",
    "* `KNUMV` - Contains the link to the set of conditions associated with the purchase order."
   ]
  },
  {
   "cell_type": "markdown",
   "metadata": {
    "ExecuteTime": {
     "end_time": "2018-05-04T04:05:15.603045Z",
     "start_time": "2018-05-04T04:05:15.597775Z"
    }
   },
   "source": [
    "### The EKPO table"
   ]
  },
  {
   "cell_type": "markdown",
   "metadata": {
    "ExecuteTime": {
     "end_time": "2018-05-04T04:10:17.248578Z",
     "start_time": "2018-05-04T04:10:17.235321Z"
    }
   },
   "source": [
    "For our purposes, we use the following columns from `EKPO`:\n",
    "* `EBELN` - Contains the purchase order number.\n",
    "* `EBELP` - Contains the line item identifier.\n",
    "* `TXZ01` - Contains a textual description of the material.\n",
    "* `MATNR` - Contains the material unique identifier.\n",
    "* `MENGE` - Contains the amount of material ordered.\n",
    "* `NETPR` - Contains the effective net price of material ordered.\n",
    "* `NETWR` - Contains the effective net value of material ordered (i.e., `MENGE * NETPR`)."
   ]
  },
  {
   "cell_type": "markdown",
   "metadata": {},
   "source": [
    "### The KONV table"
   ]
  },
  {
   "attachments": {},
   "cell_type": "markdown",
   "metadata": {},
   "source": [
    "For our purposes, we use the following columns from `KONV`:\n",
    "* `KNUMV` - Contains the unique identifier for the condition set.\n",
    "* `KPOSN` - Contains the line item identifier.\n",
    "* `KSCHL` - Contains the type of a condition.\n",
    "* `KAWRT` - Contains the baseline of a conditon.\n",
    "* `KBETR` - Contains the effective price."
   ]
  },
  {
   "cell_type": "markdown",
   "metadata": {},
   "source": [
    "The following condition types are relevant for this case study:\n",
    "* `PBXX` - Gross price\n",
    "* `RB00` - Absolute discounts\n",
    "* `NAVM` - Tax deductions\n",
    "* `SKTO` - Cash discounts related to payment goals\n",
    "* `WOTB` - Effective price\n",
    "\n",
    "The following variable contains all relevant condition types."
   ]
  },
  {
   "cell_type": "code",
   "execution_count": 5,
   "metadata": {
    "ExecuteTime": {
     "end_time": "2018-05-04T06:45:58.604350Z",
     "start_time": "2018-05-04T06:45:58.599657Z"
    }
   },
   "outputs": [],
   "source": [
    "cond_types = ['NAVM','PBXX','RB00','SKTO','WOTB']"
   ]
  },
  {
   "cell_type": "markdown",
   "metadata": {
    "ExecuteTime": {
     "end_time": "2018-05-04T04:27:15.987078Z",
     "start_time": "2018-05-04T04:27:15.983309Z"
    }
   },
   "source": [
    "## Clean the data"
   ]
  },
  {
   "cell_type": "markdown",
   "metadata": {
    "ExecuteTime": {
     "end_time": "2018-04-26T22:54:20.318069Z",
     "start_time": "2018-04-26T22:54:20.299872Z"
    }
   },
   "source": [
    "**Your task:** Reduce the `EKKO` table to the columns of interest. Store the result in a variable called `ekko`."
   ]
  },
  {
   "cell_type": "code",
   "execution_count": 6,
   "metadata": {
    "ExecuteTime": {
     "end_time": "2018-05-04T06:45:58.627173Z",
     "start_time": "2018-05-04T06:45:58.611500Z"
    }
   },
   "outputs": [],
   "source": [
    "ekko = ekko_table.loc[:, ['EBELN','ERNAM','LIFNR','KNUMV']]"
   ]
  },
  {
   "cell_type": "markdown",
   "metadata": {},
   "source": [
    "**Your task:** Show the first rows of `ekko`."
   ]
  },
  {
   "cell_type": "code",
   "execution_count": 7,
   "metadata": {
    "ExecuteTime": {
     "end_time": "2018-05-04T06:45:58.662878Z",
     "start_time": "2018-05-04T06:45:58.636312Z"
    }
   },
   "outputs": [
    {
     "data": {
      "text/html": [
       "<div>\n",
       "<style scoped>\n",
       "    .dataframe tbody tr th:only-of-type {\n",
       "        vertical-align: middle;\n",
       "    }\n",
       "\n",
       "    .dataframe tbody tr th {\n",
       "        vertical-align: top;\n",
       "    }\n",
       "\n",
       "    .dataframe thead th {\n",
       "        text-align: right;\n",
       "    }\n",
       "</style>\n",
       "<table border=\"1\" class=\"dataframe\">\n",
       "  <thead>\n",
       "    <tr style=\"text-align: right;\">\n",
       "      <th></th>\n",
       "      <th>EBELN</th>\n",
       "      <th>ERNAM</th>\n",
       "      <th>LIFNR</th>\n",
       "      <th>KNUMV</th>\n",
       "    </tr>\n",
       "  </thead>\n",
       "  <tbody>\n",
       "    <tr>\n",
       "      <th>0</th>\n",
       "      <td>4500000000</td>\n",
       "      <td>COCCHI</td>\n",
       "      <td>101999</td>\n",
       "      <td>1000000000</td>\n",
       "    </tr>\n",
       "    <tr>\n",
       "      <th>1</th>\n",
       "      <td>4500000001</td>\n",
       "      <td>GBI-085</td>\n",
       "      <td>125000</td>\n",
       "      <td>1000000020</td>\n",
       "    </tr>\n",
       "    <tr>\n",
       "      <th>2</th>\n",
       "      <td>4500000002</td>\n",
       "      <td>GBI-085</td>\n",
       "      <td>125000</td>\n",
       "      <td>1000000021</td>\n",
       "    </tr>\n",
       "    <tr>\n",
       "      <th>3</th>\n",
       "      <td>4500000003</td>\n",
       "      <td>GBI-085</td>\n",
       "      <td>125000</td>\n",
       "      <td>1000000022</td>\n",
       "    </tr>\n",
       "    <tr>\n",
       "      <th>4</th>\n",
       "      <td>4500000004</td>\n",
       "      <td>GBIFAC-01</td>\n",
       "      <td>125000</td>\n",
       "      <td>1000000023</td>\n",
       "    </tr>\n",
       "  </tbody>\n",
       "</table>\n",
       "</div>"
      ],
      "text/plain": [
       "       EBELN      ERNAM  LIFNR      KNUMV\n",
       "0 4500000000     COCCHI 101999 1000000000\n",
       "1 4500000001    GBI-085 125000 1000000020\n",
       "2 4500000002    GBI-085 125000 1000000021\n",
       "3 4500000003    GBI-085 125000 1000000022\n",
       "4 4500000004  GBIFAC-01 125000 1000000023"
      ]
     },
     "execution_count": 7,
     "metadata": {},
     "output_type": "execute_result"
    }
   ],
   "source": [
    "ekko.head()"
   ]
  },
  {
   "cell_type": "markdown",
   "metadata": {
    "ExecuteTime": {
     "end_time": "2018-04-26T22:54:20.318069Z",
     "start_time": "2018-04-26T22:54:20.299872Z"
    }
   },
   "source": [
    "**Your task:** Reduce the `EKPO` table to the columns of interest. Store the result in a variable called `ekpo`."
   ]
  },
  {
   "cell_type": "code",
   "execution_count": 8,
   "metadata": {
    "ExecuteTime": {
     "end_time": "2018-05-04T06:45:58.679871Z",
     "start_time": "2018-05-04T06:45:58.668249Z"
    }
   },
   "outputs": [],
   "source": [
    "ekpo = ekpo_table.loc[:, ['EBELN','EBELP','TXZ01','MATNR','MENGE', 'NETPR', 'NETWR']]"
   ]
  },
  {
   "cell_type": "markdown",
   "metadata": {},
   "source": [
    "**Your task:** Show the first rows of `ekpo`."
   ]
  },
  {
   "cell_type": "code",
   "execution_count": 9,
   "metadata": {
    "ExecuteTime": {
     "end_time": "2018-05-04T06:45:58.705955Z",
     "start_time": "2018-05-04T06:45:58.684788Z"
    }
   },
   "outputs": [
    {
     "data": {
      "text/html": [
       "<div>\n",
       "<style scoped>\n",
       "    .dataframe tbody tr th:only-of-type {\n",
       "        vertical-align: middle;\n",
       "    }\n",
       "\n",
       "    .dataframe tbody tr th {\n",
       "        vertical-align: top;\n",
       "    }\n",
       "\n",
       "    .dataframe thead th {\n",
       "        text-align: right;\n",
       "    }\n",
       "</style>\n",
       "<table border=\"1\" class=\"dataframe\">\n",
       "  <thead>\n",
       "    <tr style=\"text-align: right;\">\n",
       "      <th></th>\n",
       "      <th>EBELN</th>\n",
       "      <th>EBELP</th>\n",
       "      <th>TXZ01</th>\n",
       "      <th>MATNR</th>\n",
       "      <th>MENGE</th>\n",
       "      <th>NETPR</th>\n",
       "      <th>NETWR</th>\n",
       "    </tr>\n",
       "  </thead>\n",
       "  <tbody>\n",
       "    <tr>\n",
       "      <th>0</th>\n",
       "      <td>4500000000</td>\n",
       "      <td>10</td>\n",
       "      <td>Off Road Helmet</td>\n",
       "      <td>OHMT1999</td>\n",
       "      <td>19689</td>\n",
       "      <td>25</td>\n",
       "      <td>1500</td>\n",
       "    </tr>\n",
       "    <tr>\n",
       "      <th>1</th>\n",
       "      <td>4500000000</td>\n",
       "      <td>20</td>\n",
       "      <td>Road Helmet</td>\n",
       "      <td>RHMT1999</td>\n",
       "      <td>150</td>\n",
       "      <td>25</td>\n",
       "      <td>3750</td>\n",
       "    </tr>\n",
       "    <tr>\n",
       "      <th>2</th>\n",
       "      <td>4500000001</td>\n",
       "      <td>10</td>\n",
       "      <td>Brent Crude Oil</td>\n",
       "      <td>BRENTCRUDE</td>\n",
       "      <td>20193</td>\n",
       "      <td>4335</td>\n",
       "      <td>87536655</td>\n",
       "    </tr>\n",
       "    <tr>\n",
       "      <th>3</th>\n",
       "      <td>4500000002</td>\n",
       "      <td>10</td>\n",
       "      <td>Brent Crude Oil</td>\n",
       "      <td>BRENTCRUDE</td>\n",
       "      <td>20103</td>\n",
       "      <td>4360</td>\n",
       "      <td>87649080</td>\n",
       "    </tr>\n",
       "    <tr>\n",
       "      <th>4</th>\n",
       "      <td>4500000003</td>\n",
       "      <td>10</td>\n",
       "      <td>Brent Crude Oil</td>\n",
       "      <td>BRENTCRUDE</td>\n",
       "      <td>20013</td>\n",
       "      <td>4340</td>\n",
       "      <td>86856420</td>\n",
       "    </tr>\n",
       "  </tbody>\n",
       "</table>\n",
       "</div>"
      ],
      "text/plain": [
       "        EBELN  EBELP            TXZ01       MATNR  MENGE  NETPR    NETWR\n",
       "0  4500000000     10  Off Road Helmet    OHMT1999  19689     25     1500\n",
       "1  4500000000     20      Road Helmet    RHMT1999    150     25     3750\n",
       "2  4500000001     10  Brent Crude Oil  BRENTCRUDE  20193   4335 87536655\n",
       "3  4500000002     10  Brent Crude Oil  BRENTCRUDE  20103   4360 87649080\n",
       "4  4500000003     10  Brent Crude Oil  BRENTCRUDE  20013   4340 86856420"
      ]
     },
     "execution_count": 9,
     "metadata": {},
     "output_type": "execute_result"
    }
   ],
   "source": [
    "ekpo.head()"
   ]
  },
  {
   "cell_type": "markdown",
   "metadata": {
    "ExecuteTime": {
     "end_time": "2018-05-04T04:20:41.861876Z",
     "start_time": "2018-05-04T04:20:41.849690Z"
    }
   },
   "source": [
    "**Your task:** Reduce the `KONV` table to the columns of interest. Store the result in a variable called `konv`."
   ]
  },
  {
   "cell_type": "code",
   "execution_count": 10,
   "metadata": {
    "ExecuteTime": {
     "end_time": "2018-05-04T06:45:58.717576Z",
     "start_time": "2018-05-04T06:45:58.708797Z"
    }
   },
   "outputs": [],
   "source": [
    "konv = konv_table.loc[:, ['KNUMV','KPOSN', 'STUNR','KSCHL','KAWRT', 'KBETR']]"
   ]
  },
  {
   "cell_type": "markdown",
   "metadata": {},
   "source": [
    "**Your task:** Show the first five rows of the `konv`."
   ]
  },
  {
   "cell_type": "code",
   "execution_count": 11,
   "metadata": {
    "ExecuteTime": {
     "end_time": "2018-05-04T06:45:58.742669Z",
     "start_time": "2018-05-04T06:45:58.721104Z"
    }
   },
   "outputs": [
    {
     "data": {
      "text/html": [
       "<div>\n",
       "<style scoped>\n",
       "    .dataframe tbody tr th:only-of-type {\n",
       "        vertical-align: middle;\n",
       "    }\n",
       "\n",
       "    .dataframe tbody tr th {\n",
       "        vertical-align: top;\n",
       "    }\n",
       "\n",
       "    .dataframe thead th {\n",
       "        text-align: right;\n",
       "    }\n",
       "</style>\n",
       "<table border=\"1\" class=\"dataframe\">\n",
       "  <thead>\n",
       "    <tr style=\"text-align: right;\">\n",
       "      <th></th>\n",
       "      <th>KNUMV</th>\n",
       "      <th>KPOSN</th>\n",
       "      <th>STUNR</th>\n",
       "      <th>KSCHL</th>\n",
       "      <th>KAWRT</th>\n",
       "      <th>KBETR</th>\n",
       "    </tr>\n",
       "  </thead>\n",
       "  <tbody>\n",
       "    <tr>\n",
       "      <th>0</th>\n",
       "      <td>1</td>\n",
       "      <td>10</td>\n",
       "      <td>11</td>\n",
       "      <td>PR00</td>\n",
       "      <td>20</td>\n",
       "      <td>3000</td>\n",
       "    </tr>\n",
       "    <tr>\n",
       "      <th>1</th>\n",
       "      <td>1</td>\n",
       "      <td>10</td>\n",
       "      <td>930</td>\n",
       "      <td>SKTO</td>\n",
       "      <td>6000</td>\n",
       "      <td>0</td>\n",
       "    </tr>\n",
       "    <tr>\n",
       "      <th>2</th>\n",
       "      <td>1</td>\n",
       "      <td>10</td>\n",
       "      <td>940</td>\n",
       "      <td>VPRS</td>\n",
       "      <td>20</td>\n",
       "      <td>1400</td>\n",
       "    </tr>\n",
       "    <tr>\n",
       "      <th>3</th>\n",
       "      <td>2</td>\n",
       "      <td>10</td>\n",
       "      <td>11</td>\n",
       "      <td>PR00</td>\n",
       "      <td>50</td>\n",
       "      <td>3000</td>\n",
       "    </tr>\n",
       "    <tr>\n",
       "      <th>4</th>\n",
       "      <td>2</td>\n",
       "      <td>10</td>\n",
       "      <td>930</td>\n",
       "      <td>SKTO</td>\n",
       "      <td>15000</td>\n",
       "      <td>0</td>\n",
       "    </tr>\n",
       "  </tbody>\n",
       "</table>\n",
       "</div>"
      ],
      "text/plain": [
       "   KNUMV  KPOSN  STUNR KSCHL  KAWRT  KBETR\n",
       "0      1     10     11  PR00     20   3000\n",
       "1      1     10    930  SKTO   6000      0\n",
       "2      1     10    940  VPRS     20   1400\n",
       "3      2     10     11  PR00     50   3000\n",
       "4      2     10    930  SKTO  15000      0"
      ]
     },
     "execution_count": 11,
     "metadata": {},
     "output_type": "execute_result"
    }
   ],
   "source": [
    "konv.head()"
   ]
  },
  {
   "cell_type": "markdown",
   "metadata": {},
   "source": [
    "## Focus on Brent Crude Oil"
   ]
  },
  {
   "cell_type": "markdown",
   "metadata": {
    "ExecuteTime": {
     "end_time": "2018-05-04T04:29:31.332488Z",
     "start_time": "2018-05-04T04:29:31.319713Z"
    }
   },
   "source": [
    "**Your task:** Filter the line items that contain orders of Brent Crude Oil (`MATNR`: `BRENTCRUDE`). Store the result in a variable called `ekpo_bco`."
   ]
  },
  {
   "cell_type": "code",
   "execution_count": 12,
   "metadata": {
    "ExecuteTime": {
     "end_time": "2018-05-04T06:45:58.762875Z",
     "start_time": "2018-05-04T06:45:58.747539Z"
    }
   },
   "outputs": [],
   "source": [
    "ekpo_bco = ekpo[ekpo['MATNR']=='BRENTCRUDE']"
   ]
  },
  {
   "cell_type": "markdown",
   "metadata": {
    "ExecuteTime": {
     "end_time": "2018-05-04T04:29:31.332488Z",
     "start_time": "2018-05-04T04:29:31.319713Z"
    }
   },
   "source": [
    "**Your task:** Show how many purchase orders contain orders of Brent Crude Oil?"
   ]
  },
  {
   "cell_type": "code",
   "execution_count": 13,
   "metadata": {
    "ExecuteTime": {
     "end_time": "2018-05-04T06:45:58.796574Z",
     "start_time": "2018-05-04T06:45:58.783178Z"
    }
   },
   "outputs": [
    {
     "data": {
      "text/plain": [
       "29"
      ]
     },
     "execution_count": 13,
     "metadata": {},
     "output_type": "execute_result"
    }
   ],
   "source": [
    "len(ekpo_bco)"
   ]
  },
  {
   "cell_type": "markdown",
   "metadata": {
    "ExecuteTime": {
     "end_time": "2018-05-04T05:33:31.215339Z",
     "start_time": "2018-05-04T05:33:31.206642Z"
    }
   },
   "source": [
    "## The value of the Brent Crude Oil purchase orders"
   ]
  },
  {
   "cell_type": "markdown",
   "metadata": {},
   "source": [
    "**Your task:** What is the overall value of all purchases order of Brent Crude Oil?"
   ]
  },
  {
   "cell_type": "code",
   "execution_count": 14,
   "metadata": {
    "ExecuteTime": {
     "end_time": "2018-05-04T06:45:58.818998Z",
     "start_time": "2018-05-04T06:45:58.807321Z"
    }
   },
   "outputs": [
    {
     "data": {
      "text/plain": [
       "2536790085.0"
      ]
     },
     "execution_count": 14,
     "metadata": {},
     "output_type": "execute_result"
    }
   ],
   "source": [
    "ekpo_bco['NETWR'].sum()"
   ]
  },
  {
   "cell_type": "markdown",
   "metadata": {
    "ExecuteTime": {
     "end_time": "2018-05-04T04:37:46.989304Z",
     "start_time": "2018-05-04T04:37:46.971051Z"
    }
   },
   "source": [
    "**Your task:** Show how the effective net prices (`NETPR`) of all purchase orders of Brent Crude Oil changes over time. *(Assume that the order of purchase orders represents time)*."
   ]
  },
  {
   "cell_type": "code",
   "execution_count": 15,
   "metadata": {
    "ExecuteTime": {
     "end_time": "2018-05-04T06:45:59.250509Z",
     "start_time": "2018-05-04T06:45:58.823656Z"
    }
   },
   "outputs": [
    {
     "data": {
      "text/html": [
       "<div class=\"vega-embed\" id=\"287533ef-bec5-4b23-abff-8d1333d58c45\"></div>\n",
       "\n",
       "<style>\n",
       ".vega-embed .vega-actions > a {\n",
       "    transition: opacity 200ms ease-in;\n",
       "    opacity: 0.3;\n",
       "    margin-right: 0.6em;\n",
       "    color: #444;\n",
       "    text-decoration: none;\n",
       "}\n",
       "\n",
       ".vega-embed .vega-actions > a:hover {\n",
       "    color: #000;\n",
       "    text-decoration: underline;\n",
       "}\n",
       "\n",
       ".vega-embed:hover .vega-actions > a {\n",
       "    opacity: 1;\n",
       "    transition: 0s;\n",
       "}\n",
       "\n",
       ".vega-embed .error p {\n",
       "    color: firebrick;\n",
       "    font-size: 1.2em;\n",
       "}\n",
       "</style>\n"
      ]
     },
     "metadata": {
      "jupyter-vega3": "#287533ef-bec5-4b23-abff-8d1333d58c45"
     },
     "output_type": "display_data"
    },
    {
     "data": {
      "application/javascript": [
       "var spec = {\"config\": {\"view\": {\"width\": 400, \"height\": 300}}, \"layer\": [{\"mark\": \"line\", \"encoding\": {\"x\": {\"type\": \"quantitative\", \"axis\": {\"title\": \"Purchase Orders\"}, \"field\": \"index\"}, \"y\": {\"type\": \"quantitative\", \"axis\": {\"title\": \"Effective Net Price of Brent Crude Oil\"}, \"field\": \"NETPR\", \"scale\": {\"domain\": [4100, 4700]}}}}], \"data\": {\"values\": [{\"index\": 2, \"EBELN\": 4500000001, \"EBELP\": 10, \"TXZ01\": \"Brent Crude Oil\", \"MATNR\": \"BRENTCRUDE\", \"MENGE\": 20193, \"NETPR\": 4335.0, \"NETWR\": 87536655.0}, {\"index\": 3, \"EBELN\": 4500000002, \"EBELP\": 10, \"TXZ01\": \"Brent Crude Oil\", \"MATNR\": \"BRENTCRUDE\", \"MENGE\": 20103, \"NETPR\": 4360.0, \"NETWR\": 87649080.0}, {\"index\": 4, \"EBELN\": 4500000003, \"EBELP\": 10, \"TXZ01\": \"Brent Crude Oil\", \"MATNR\": \"BRENTCRUDE\", \"MENGE\": 20013, \"NETPR\": 4340.0, \"NETWR\": 86856420.0}, {\"index\": 5, \"EBELN\": 4500000004, \"EBELP\": 10, \"TXZ01\": \"Brent Crude Oil\", \"MATNR\": \"BRENTCRUDE\", \"MENGE\": 20154, \"NETPR\": 4307.5, \"NETWR\": 83319972.5}, {\"index\": 6, \"EBELN\": 4500000005, \"EBELP\": 10, \"TXZ01\": \"Brent Crude Oil\", \"MATNR\": \"BRENTCRUDE\", \"MENGE\": 19985, \"NETPR\": 4277.5, \"NETWR\": 85485837.5}, {\"index\": 7, \"EBELN\": 4500000006, \"EBELP\": 10, \"TXZ01\": \"Brent Crude Oil\", \"MATNR\": \"BRENTCRUDE\", \"MENGE\": 20003, \"NETPR\": 4322.5, \"NETWR\": 86462967.5}, {\"index\": 10, \"EBELN\": 4500000009, \"EBELP\": 10, \"TXZ01\": \"Brent Crude Oil\", \"MATNR\": \"BRENTCRUDE\", \"MENGE\": 19775, \"NETPR\": 4342.5, \"NETWR\": 85872937.5}, {\"index\": 12, \"EBELN\": 4500000011, \"EBELP\": 10, \"TXZ01\": \"Brent Crude Oil\", \"MATNR\": \"BRENTCRUDE\", \"MENGE\": 19995, \"NETPR\": 4332.5, \"NETWR\": 86628337.5}, {\"index\": 64, \"EBELN\": 4500000061, \"EBELP\": 10, \"TXZ01\": \"Brent Crude Oil\", \"MATNR\": \"BRENTCRUDE\", \"MENGE\": 19903, \"NETPR\": 4205.0, \"NETWR\": 83692115.0}, {\"index\": 66, \"EBELN\": 4500000063, \"EBELP\": 10, \"TXZ01\": \"Brent Crude Oil\", \"MATNR\": \"BRENTCRUDE\", \"MENGE\": 19938, \"NETPR\": 4165.0, \"NETWR\": 83041770.0}, {\"index\": 91, \"EBELN\": 4500000085, \"EBELP\": 10, \"TXZ01\": \"Brent Crude Oil\", \"MATNR\": \"BRENTCRUDE\", \"MENGE\": 20067, \"NETPR\": 4215.0, \"NETWR\": 84582405.0}, {\"index\": 104, \"EBELN\": 4500000097, \"EBELP\": 10, \"TXZ01\": \"Brent Crude Oil\", \"MATNR\": \"BRENTCRUDE\", \"MENGE\": 20228, \"NETPR\": 4252.5, \"NETWR\": 86019570.0}, {\"index\": 108, \"EBELN\": 4500000101, \"EBELP\": 10, \"TXZ01\": \"Brent Crude Oil\", \"MATNR\": \"BRENTCRUDE\", \"MENGE\": 20028, \"NETPR\": 4227.5, \"NETWR\": 84668370.0}, {\"index\": 113, \"EBELN\": 4500000106, \"EBELP\": 10, \"TXZ01\": \"Brent Crude Oil\", \"MATNR\": \"BRENTCRUDE\", \"MENGE\": 19918, \"NETPR\": 4257.5, \"NETWR\": 84800885.0}, {\"index\": 114, \"EBELN\": 4500000107, \"EBELP\": 10, \"TXZ01\": \"Brent Crude Oil\", \"MATNR\": \"BRENTCRUDE\", \"MENGE\": 19810, \"NETPR\": 4215.0, \"NETWR\": 83499150.0}, {\"index\": 115, \"EBELN\": 4500000108, \"EBELP\": 10, \"TXZ01\": \"Brent Crude Oil\", \"MATNR\": \"BRENTCRUDE\", \"MENGE\": 19987, \"NETPR\": 4330.0, \"NETWR\": 86543710.0}, {\"index\": 123, \"EBELN\": 4500000116, \"EBELP\": 10, \"TXZ01\": \"Brent Crude Oil\", \"MATNR\": \"BRENTCRUDE\", \"MENGE\": 20184, \"NETPR\": 4345.0, \"NETWR\": 87699480.0}, {\"index\": 127, \"EBELN\": 4500000120, \"EBELP\": 10, \"TXZ01\": \"Brent Crude Oil\", \"MATNR\": \"BRENTCRUDE\", \"MENGE\": 19864, \"NETPR\": 4492.5, \"NETWR\": 89239020.0}, {\"index\": 140, \"EBELN\": 4500000133, \"EBELP\": 10, \"TXZ01\": \"Brent Crude Oil\", \"MATNR\": \"BRENTCRUDE\", \"MENGE\": 20260, \"NETPR\": 4572.5, \"NETWR\": 92638850.0}, {\"index\": 156, \"EBELN\": 4500000147, \"EBELP\": 10, \"TXZ01\": \"Brent Crude Oil\", \"MATNR\": \"BRENTCRUDE\", \"MENGE\": 19856, \"NETPR\": 4517.5, \"NETWR\": 89699480.0}, {\"index\": 181, \"EBELN\": 4500000173, \"EBELP\": 10, \"TXZ01\": \"Brent Crude Oil\", \"MATNR\": \"BRENTCRUDE\", \"MENGE\": 19780, \"NETPR\": 4510.0, \"NETWR\": 89207800.0}, {\"index\": 182, \"EBELN\": 4500000174, \"EBELP\": 10, \"TXZ01\": \"Brent Crude Oil\", \"MATNR\": \"BRENTCRUDE\", \"MENGE\": 19916, \"NETPR\": 4467.5, \"NETWR\": 88974730.0}, {\"index\": 183, \"EBELN\": 4500000175, \"EBELP\": 10, \"TXZ01\": \"Brent Crude Oil\", \"MATNR\": \"BRENTCRUDE\", \"MENGE\": 19929, \"NETPR\": 4402.5, \"NETWR\": 87737422.5}, {\"index\": 193, \"EBELN\": 4500000185, \"EBELP\": 10, \"TXZ01\": \"Brent Crude Oil\", \"MATNR\": \"BRENTCRUDE\", \"MENGE\": 19815, \"NETPR\": 4462.5, \"NETWR\": 88424437.5}, {\"index\": 228, \"EBELN\": 4500000220, \"EBELP\": 10, \"TXZ01\": \"Brent Crude Oil\", \"MATNR\": \"BRENTCRUDE\", \"MENGE\": 19860, \"NETPR\": 4605.0, \"NETWR\": 91455300.0}, {\"index\": 230, \"EBELN\": 4500000222, \"EBELP\": 10, \"TXZ01\": \"Brent Crude Oil\", \"MATNR\": \"BRENTCRUDE\", \"MENGE\": 19960, \"NETPR\": 4562.5, \"NETWR\": 91067500.0}, {\"index\": 233, \"EBELN\": 4500000225, \"EBELP\": 10, \"TXZ01\": \"Brent Crude Oil\", \"MATNR\": \"BRENTCRUDE\", \"MENGE\": 19853, \"NETPR\": 4490.0, \"NETWR\": 89139970.0}, {\"index\": 257, \"EBELN\": 4500000249, \"EBELP\": 10, \"TXZ01\": \"Brent Crude Oil\", \"MATNR\": \"BRENTCRUDE\", \"MENGE\": 20058, \"NETPR\": 4640.0, \"NETWR\": 93069120.0}, {\"index\": 264, \"EBELN\": 4500000256, \"EBELP\": 10, \"TXZ01\": \"Brent Crude Oil\", \"MATNR\": \"BRENTCRUDE\", \"MENGE\": 19919, \"NETPR\": 4607.5, \"NETWR\": 91776792.5}]}, \"height\": 300, \"width\": 600, \"$schema\": \"https://vega.github.io/schema/vega-lite/v2.3.0.json\"};\n",
       "var opt = {};\n",
       "var selector = \"#287533ef-bec5-4b23-abff-8d1333d58c45\";\n",
       "var type = \"vega-lite\";\n",
       "\n",
       "var output_area = this;\n",
       "\n",
       "require(['nbextensions/jupyter-vega3/index'], function(vega) {\n",
       "  vega.render(selector, spec, type, opt, output_area);\n",
       "}, function (err) {\n",
       "  if (err.requireType !== 'scripterror') {\n",
       "    throw(err);\n",
       "  }\n",
       "});\n"
      ]
     },
     "metadata": {
      "jupyter-vega3": "#287533ef-bec5-4b23-abff-8d1333d58c45"
     },
     "output_type": "display_data"
    },
    {
     "data": {
      "text/plain": []
     },
     "execution_count": 15,
     "metadata": {},
     "output_type": "execute_result"
    },
    {
     "data": {
      "image/png": "[encoded data removed]"
     },
     "metadata": {
      "jupyter-vega3": "#287533ef-bec5-4b23-abff-8d1333d58c45"
     },
     "output_type": "display_data"
    }
   ],
   "source": [
    "v_netpr = alt.Chart().mark_line().encode(\n",
    "    x=alt.X('index', axis=alt.Axis(title='Purchase Orders')),\n",
    "    y=alt.Y('NETPR', scale=alt.Scale(domain=(4100, 4700)), axis=alt.Axis(title='Effective Net Price of Brent Crude Oil'))\n",
    ")\n",
    "alt.layer(v_netpr, data = ekpo_bco.reset_index(), width=600, height=300)"
   ]
  },
  {
   "cell_type": "markdown",
   "metadata": {},
   "source": [
    "**Reflect:** What is your interpretation of the effective net price?"
   ]
  },
  {
   "cell_type": "markdown",
   "metadata": {
    "ExecuteTime": {
     "end_time": "2018-05-04T05:34:05.479375Z",
     "start_time": "2018-05-04T05:34:05.472850Z"
    }
   },
   "source": [
    "## The volume of the Brent Crude Oil purchase orders"
   ]
  },
  {
   "cell_type": "markdown",
   "metadata": {},
   "source": [
    "**Your task:** What is the average order volume for Brent Crude Oil?"
   ]
  },
  {
   "cell_type": "code",
   "execution_count": 16,
   "metadata": {
    "ExecuteTime": {
     "end_time": "2018-05-04T06:45:59.273019Z",
     "start_time": "2018-05-04T06:45:59.260165Z"
    }
   },
   "outputs": [
    {
     "data": {
      "text/plain": [
       "19977.724137931036"
      ]
     },
     "execution_count": 16,
     "metadata": {},
     "output_type": "execute_result"
    }
   ],
   "source": [
    "ekpo_bco['MENGE'].mean()"
   ]
  },
  {
   "cell_type": "markdown",
   "metadata": {
    "ExecuteTime": {
     "end_time": "2018-05-04T04:37:46.989304Z",
     "start_time": "2018-05-04T04:37:46.971051Z"
    }
   },
   "source": [
    "**Your task:** Show how amount of all purchase orders (`MENGE`) of Brent Crude Oil. (We assume that the order of purchase orders represents time)."
   ]
  },
  {
   "cell_type": "code",
   "execution_count": 17,
   "metadata": {
    "ExecuteTime": {
     "end_time": "2018-05-04T06:45:59.323120Z",
     "start_time": "2018-05-04T06:45:59.278088Z"
    }
   },
   "outputs": [
    {
     "data": {
      "text/html": [
       "<div class=\"vega-embed\" id=\"25d52116-3e96-48ef-9f31-b47279b62153\"></div>\n",
       "\n",
       "<style>\n",
       ".vega-embed .vega-actions > a {\n",
       "    transition: opacity 200ms ease-in;\n",
       "    opacity: 0.3;\n",
       "    margin-right: 0.6em;\n",
       "    color: #444;\n",
       "    text-decoration: none;\n",
       "}\n",
       "\n",
       ".vega-embed .vega-actions > a:hover {\n",
       "    color: #000;\n",
       "    text-decoration: underline;\n",
       "}\n",
       "\n",
       ".vega-embed:hover .vega-actions > a {\n",
       "    opacity: 1;\n",
       "    transition: 0s;\n",
       "}\n",
       "\n",
       ".vega-embed .error p {\n",
       "    color: firebrick;\n",
       "    font-size: 1.2em;\n",
       "}\n",
       "</style>\n"
      ]
     },
     "metadata": {
      "jupyter-vega3": "#25d52116-3e96-48ef-9f31-b47279b62153"
     },
     "output_type": "display_data"
    },
    {
     "data": {
      "application/javascript": [
       "var spec = {\"config\": {\"view\": {\"width\": 400, \"height\": 300}}, \"layer\": [{\"mark\": \"line\", \"encoding\": {\"x\": {\"type\": \"quantitative\", \"axis\": {\"title\": \"Purchase Orders\"}, \"field\": \"index\"}, \"y\": {\"type\": \"quantitative\", \"axis\": {\"title\": \"Order Volume of Brent Crude Oil\"}, \"field\": \"MENGE\", \"scale\": {\"domain\": [19500, 20500]}}}}], \"data\": {\"values\": [{\"index\": 2, \"EBELN\": 4500000001, \"EBELP\": 10, \"TXZ01\": \"Brent Crude Oil\", \"MATNR\": \"BRENTCRUDE\", \"MENGE\": 20193, \"NETPR\": 4335.0, \"NETWR\": 87536655.0}, {\"index\": 3, \"EBELN\": 4500000002, \"EBELP\": 10, \"TXZ01\": \"Brent Crude Oil\", \"MATNR\": \"BRENTCRUDE\", \"MENGE\": 20103, \"NETPR\": 4360.0, \"NETWR\": 87649080.0}, {\"index\": 4, \"EBELN\": 4500000003, \"EBELP\": 10, \"TXZ01\": \"Brent Crude Oil\", \"MATNR\": \"BRENTCRUDE\", \"MENGE\": 20013, \"NETPR\": 4340.0, \"NETWR\": 86856420.0}, {\"index\": 5, \"EBELN\": 4500000004, \"EBELP\": 10, \"TXZ01\": \"Brent Crude Oil\", \"MATNR\": \"BRENTCRUDE\", \"MENGE\": 20154, \"NETPR\": 4307.5, \"NETWR\": 83319972.5}, {\"index\": 6, \"EBELN\": 4500000005, \"EBELP\": 10, \"TXZ01\": \"Brent Crude Oil\", \"MATNR\": \"BRENTCRUDE\", \"MENGE\": 19985, \"NETPR\": 4277.5, \"NETWR\": 85485837.5}, {\"index\": 7, \"EBELN\": 4500000006, \"EBELP\": 10, \"TXZ01\": \"Brent Crude Oil\", \"MATNR\": \"BRENTCRUDE\", \"MENGE\": 20003, \"NETPR\": 4322.5, \"NETWR\": 86462967.5}, {\"index\": 10, \"EBELN\": 4500000009, \"EBELP\": 10, \"TXZ01\": \"Brent Crude Oil\", \"MATNR\": \"BRENTCRUDE\", \"MENGE\": 19775, \"NETPR\": 4342.5, \"NETWR\": 85872937.5}, {\"index\": 12, \"EBELN\": 4500000011, \"EBELP\": 10, \"TXZ01\": \"Brent Crude Oil\", \"MATNR\": \"BRENTCRUDE\", \"MENGE\": 19995, \"NETPR\": 4332.5, \"NETWR\": 86628337.5}, {\"index\": 64, \"EBELN\": 4500000061, \"EBELP\": 10, \"TXZ01\": \"Brent Crude Oil\", \"MATNR\": \"BRENTCRUDE\", \"MENGE\": 19903, \"NETPR\": 4205.0, \"NETWR\": 83692115.0}, {\"index\": 66, \"EBELN\": 4500000063, \"EBELP\": 10, \"TXZ01\": \"Brent Crude Oil\", \"MATNR\": \"BRENTCRUDE\", \"MENGE\": 19938, \"NETPR\": 4165.0, \"NETWR\": 83041770.0}, {\"index\": 91, \"EBELN\": 4500000085, \"EBELP\": 10, \"TXZ01\": \"Brent Crude Oil\", \"MATNR\": \"BRENTCRUDE\", \"MENGE\": 20067, \"NETPR\": 4215.0, \"NETWR\": 84582405.0}, {\"index\": 104, \"EBELN\": 4500000097, \"EBELP\": 10, \"TXZ01\": \"Brent Crude Oil\", \"MATNR\": \"BRENTCRUDE\", \"MENGE\": 20228, \"NETPR\": 4252.5, \"NETWR\": 86019570.0}, {\"index\": 108, \"EBELN\": 4500000101, \"EBELP\": 10, \"TXZ01\": \"Brent Crude Oil\", \"MATNR\": \"BRENTCRUDE\", \"MENGE\": 20028, \"NETPR\": 4227.5, \"NETWR\": 84668370.0}, {\"index\": 113, \"EBELN\": 4500000106, \"EBELP\": 10, \"TXZ01\": \"Brent Crude Oil\", \"MATNR\": \"BRENTCRUDE\", \"MENGE\": 19918, \"NETPR\": 4257.5, \"NETWR\": 84800885.0}, {\"index\": 114, \"EBELN\": 4500000107, \"EBELP\": 10, \"TXZ01\": \"Brent Crude Oil\", \"MATNR\": \"BRENTCRUDE\", \"MENGE\": 19810, \"NETPR\": 4215.0, \"NETWR\": 83499150.0}, {\"index\": 115, \"EBELN\": 4500000108, \"EBELP\": 10, \"TXZ01\": \"Brent Crude Oil\", \"MATNR\": \"BRENTCRUDE\", \"MENGE\": 19987, \"NETPR\": 4330.0, \"NETWR\": 86543710.0}, {\"index\": 123, \"EBELN\": 4500000116, \"EBELP\": 10, \"TXZ01\": \"Brent Crude Oil\", \"MATNR\": \"BRENTCRUDE\", \"MENGE\": 20184, \"NETPR\": 4345.0, \"NETWR\": 87699480.0}, {\"index\": 127, \"EBELN\": 4500000120, \"EBELP\": 10, \"TXZ01\": \"Brent Crude Oil\", \"MATNR\": \"BRENTCRUDE\", \"MENGE\": 19864, \"NETPR\": 4492.5, \"NETWR\": 89239020.0}, {\"index\": 140, \"EBELN\": 4500000133, \"EBELP\": 10, \"TXZ01\": \"Brent Crude Oil\", \"MATNR\": \"BRENTCRUDE\", \"MENGE\": 20260, \"NETPR\": 4572.5, \"NETWR\": 92638850.0}, {\"index\": 156, \"EBELN\": 4500000147, \"EBELP\": 10, \"TXZ01\": \"Brent Crude Oil\", \"MATNR\": \"BRENTCRUDE\", \"MENGE\": 19856, \"NETPR\": 4517.5, \"NETWR\": 89699480.0}, {\"index\": 181, \"EBELN\": 4500000173, \"EBELP\": 10, \"TXZ01\": \"Brent Crude Oil\", \"MATNR\": \"BRENTCRUDE\", \"MENGE\": 19780, \"NETPR\": 4510.0, \"NETWR\": 89207800.0}, {\"index\": 182, \"EBELN\": 4500000174, \"EBELP\": 10, \"TXZ01\": \"Brent Crude Oil\", \"MATNR\": \"BRENTCRUDE\", \"MENGE\": 19916, \"NETPR\": 4467.5, \"NETWR\": 88974730.0}, {\"index\": 183, \"EBELN\": 4500000175, \"EBELP\": 10, \"TXZ01\": \"Brent Crude Oil\", \"MATNR\": \"BRENTCRUDE\", \"MENGE\": 19929, \"NETPR\": 4402.5, \"NETWR\": 87737422.5}, {\"index\": 193, \"EBELN\": 4500000185, \"EBELP\": 10, \"TXZ01\": \"Brent Crude Oil\", \"MATNR\": \"BRENTCRUDE\", \"MENGE\": 19815, \"NETPR\": 4462.5, \"NETWR\": 88424437.5}, {\"index\": 228, \"EBELN\": 4500000220, \"EBELP\": 10, \"TXZ01\": \"Brent Crude Oil\", \"MATNR\": \"BRENTCRUDE\", \"MENGE\": 19860, \"NETPR\": 4605.0, \"NETWR\": 91455300.0}, {\"index\": 230, \"EBELN\": 4500000222, \"EBELP\": 10, \"TXZ01\": \"Brent Crude Oil\", \"MATNR\": \"BRENTCRUDE\", \"MENGE\": 19960, \"NETPR\": 4562.5, \"NETWR\": 91067500.0}, {\"index\": 233, \"EBELN\": 4500000225, \"EBELP\": 10, \"TXZ01\": \"Brent Crude Oil\", \"MATNR\": \"BRENTCRUDE\", \"MENGE\": 19853, \"NETPR\": 4490.0, \"NETWR\": 89139970.0}, {\"index\": 257, \"EBELN\": 4500000249, \"EBELP\": 10, \"TXZ01\": \"Brent Crude Oil\", \"MATNR\": \"BRENTCRUDE\", \"MENGE\": 20058, \"NETPR\": 4640.0, \"NETWR\": 93069120.0}, {\"index\": 264, \"EBELN\": 4500000256, \"EBELP\": 10, \"TXZ01\": \"Brent Crude Oil\", \"MATNR\": \"BRENTCRUDE\", \"MENGE\": 19919, \"NETPR\": 4607.5, \"NETWR\": 91776792.5}]}, \"height\": 300, \"width\": 600, \"$schema\": \"https://vega.github.io/schema/vega-lite/v2.3.0.json\"};\n",
       "var opt = {};\n",
       "var selector = \"#25d52116-3e96-48ef-9f31-b47279b62153\";\n",
       "var type = \"vega-lite\";\n",
       "\n",
       "var output_area = this;\n",
       "\n",
       "require(['nbextensions/jupyter-vega3/index'], function(vega) {\n",
       "  vega.render(selector, spec, type, opt, output_area);\n",
       "}, function (err) {\n",
       "  if (err.requireType !== 'scripterror') {\n",
       "    throw(err);\n",
       "  }\n",
       "});\n"
      ]
     },
     "metadata": {
      "jupyter-vega3": "#25d52116-3e96-48ef-9f31-b47279b62153"
     },
     "output_type": "display_data"
    },
    {
     "data": {
      "text/plain": []
     },
     "execution_count": 17,
     "metadata": {},
     "output_type": "execute_result"
    },
    {
     "data": {
      "image/png": "[encoded data removed]"
     },
     "metadata": {
      "jupyter-vega3": "#25d52116-3e96-48ef-9f31-b47279b62153"
     },
     "output_type": "display_data"
    }
   ],
   "source": [
    "v_menge = alt.Chart().mark_line().encode(\n",
    "    x=alt.X('index', axis=alt.Axis(title='Purchase Orders')),\n",
    "    y=alt.Y('MENGE', scale=alt.Scale(domain=(19500, 20500)), axis=alt.Axis(title='Order Volume of Brent Crude Oil'))\n",
    ")\n",
    "alt.layer(v_menge, data = ekpo_bco.reset_index(), width=600, height=300)"
   ]
  },
  {
   "cell_type": "markdown",
   "metadata": {},
   "source": [
    "**Reflect:** What is your interpretation of the order volume?"
   ]
  },
  {
   "cell_type": "markdown",
   "metadata": {
    "ExecuteTime": {
     "end_time": "2018-05-04T05:37:13.871861Z",
     "start_time": "2018-05-04T05:37:13.867298Z"
    }
   },
   "source": [
    "## Integrated analysis of `EKKO` and `EKPO`"
   ]
  },
  {
   "cell_type": "markdown",
   "metadata": {
    "ExecuteTime": {
     "end_time": "2018-05-04T04:37:46.989304Z",
     "start_time": "2018-05-04T04:37:46.971051Z"
    }
   },
   "source": [
    "**Your task:** Left join the `ekpo_bco` and the `ekko` tables. Store the result in a variable called `ekko_ekpo_bco`."
   ]
  },
  {
   "cell_type": "code",
   "execution_count": 18,
   "metadata": {
    "ExecuteTime": {
     "end_time": "2018-05-04T06:45:59.341210Z",
     "start_time": "2018-05-04T06:45:59.326982Z"
    }
   },
   "outputs": [],
   "source": [
    "ekko_ekpo_bco = pd.merge(ekpo_bco, ekko, on='EBELN')"
   ]
  },
  {
   "cell_type": "markdown",
   "metadata": {
    "ExecuteTime": {
     "end_time": "2018-05-04T04:37:46.989304Z",
     "start_time": "2018-05-04T04:37:46.971051Z"
    }
   },
   "source": [
    "**Your task:** Show a sample of the `ekko_ekpo_bco` table."
   ]
  },
  {
   "cell_type": "code",
   "execution_count": 19,
   "metadata": {
    "ExecuteTime": {
     "end_time": "2018-05-04T06:45:59.381604Z",
     "start_time": "2018-05-04T06:45:59.347239Z"
    }
   },
   "outputs": [
    {
     "data": {
      "text/html": [
       "<div>\n",
       "<style scoped>\n",
       "    .dataframe tbody tr th:only-of-type {\n",
       "        vertical-align: middle;\n",
       "    }\n",
       "\n",
       "    .dataframe tbody tr th {\n",
       "        vertical-align: top;\n",
       "    }\n",
       "\n",
       "    .dataframe thead th {\n",
       "        text-align: right;\n",
       "    }\n",
       "</style>\n",
       "<table border=\"1\" class=\"dataframe\">\n",
       "  <thead>\n",
       "    <tr style=\"text-align: right;\">\n",
       "      <th></th>\n",
       "      <th>EBELN</th>\n",
       "      <th>EBELP</th>\n",
       "      <th>TXZ01</th>\n",
       "      <th>MATNR</th>\n",
       "      <th>MENGE</th>\n",
       "      <th>NETPR</th>\n",
       "      <th>NETWR</th>\n",
       "      <th>ERNAM</th>\n",
       "      <th>LIFNR</th>\n",
       "      <th>KNUMV</th>\n",
       "    </tr>\n",
       "  </thead>\n",
       "  <tbody>\n",
       "    <tr>\n",
       "      <th>26</th>\n",
       "      <td>4500000225</td>\n",
       "      <td>10</td>\n",
       "      <td>Brent Crude Oil</td>\n",
       "      <td>BRENTCRUDE</td>\n",
       "      <td>19853</td>\n",
       "      <td>4490</td>\n",
       "      <td>89139970</td>\n",
       "      <td>GBIFAC-01</td>\n",
       "      <td>125000</td>\n",
       "      <td>1000000252</td>\n",
       "    </tr>\n",
       "    <tr>\n",
       "      <th>23</th>\n",
       "      <td>4500000185</td>\n",
       "      <td>10</td>\n",
       "      <td>Brent Crude Oil</td>\n",
       "      <td>BRENTCRUDE</td>\n",
       "      <td>19815</td>\n",
       "      <td>4462</td>\n",
       "      <td>88424438</td>\n",
       "      <td>GBIFAC-01</td>\n",
       "      <td>125000</td>\n",
       "      <td>1000000202</td>\n",
       "    </tr>\n",
       "    <tr>\n",
       "      <th>1</th>\n",
       "      <td>4500000002</td>\n",
       "      <td>10</td>\n",
       "      <td>Brent Crude Oil</td>\n",
       "      <td>BRENTCRUDE</td>\n",
       "      <td>20103</td>\n",
       "      <td>4360</td>\n",
       "      <td>87649080</td>\n",
       "      <td>GBI-085</td>\n",
       "      <td>125000</td>\n",
       "      <td>1000000021</td>\n",
       "    </tr>\n",
       "    <tr>\n",
       "      <th>10</th>\n",
       "      <td>4500000085</td>\n",
       "      <td>10</td>\n",
       "      <td>Brent Crude Oil</td>\n",
       "      <td>BRENTCRUDE</td>\n",
       "      <td>20067</td>\n",
       "      <td>4215</td>\n",
       "      <td>84582405</td>\n",
       "      <td>GBIFAC-01</td>\n",
       "      <td>125000</td>\n",
       "      <td>1000000104</td>\n",
       "    </tr>\n",
       "    <tr>\n",
       "      <th>16</th>\n",
       "      <td>4500000116</td>\n",
       "      <td>10</td>\n",
       "      <td>Brent Crude Oil</td>\n",
       "      <td>BRENTCRUDE</td>\n",
       "      <td>20184</td>\n",
       "      <td>4345</td>\n",
       "      <td>87699480</td>\n",
       "      <td>GBI-085</td>\n",
       "      <td>125000</td>\n",
       "      <td>1000000128</td>\n",
       "    </tr>\n",
       "    <tr>\n",
       "      <th>8</th>\n",
       "      <td>4500000061</td>\n",
       "      <td>10</td>\n",
       "      <td>Brent Crude Oil</td>\n",
       "      <td>BRENTCRUDE</td>\n",
       "      <td>19903</td>\n",
       "      <td>4205</td>\n",
       "      <td>83692115</td>\n",
       "      <td>GBIFAC-01</td>\n",
       "      <td>125000</td>\n",
       "      <td>1000000080</td>\n",
       "    </tr>\n",
       "    <tr>\n",
       "      <th>22</th>\n",
       "      <td>4500000175</td>\n",
       "      <td>10</td>\n",
       "      <td>Brent Crude Oil</td>\n",
       "      <td>BRENTCRUDE</td>\n",
       "      <td>19929</td>\n",
       "      <td>4402</td>\n",
       "      <td>87737422</td>\n",
       "      <td>GBIFAC-01</td>\n",
       "      <td>125000</td>\n",
       "      <td>1000000192</td>\n",
       "    </tr>\n",
       "    <tr>\n",
       "      <th>24</th>\n",
       "      <td>4500000220</td>\n",
       "      <td>10</td>\n",
       "      <td>Brent Crude Oil</td>\n",
       "      <td>BRENTCRUDE</td>\n",
       "      <td>19860</td>\n",
       "      <td>4605</td>\n",
       "      <td>91455300</td>\n",
       "      <td>GBIFAC-01</td>\n",
       "      <td>125000</td>\n",
       "      <td>1000000241</td>\n",
       "    </tr>\n",
       "    <tr>\n",
       "      <th>14</th>\n",
       "      <td>4500000107</td>\n",
       "      <td>10</td>\n",
       "      <td>Brent Crude Oil</td>\n",
       "      <td>BRENTCRUDE</td>\n",
       "      <td>19810</td>\n",
       "      <td>4215</td>\n",
       "      <td>83499150</td>\n",
       "      <td>GBIFAC-01</td>\n",
       "      <td>125000</td>\n",
       "      <td>1000000126</td>\n",
       "    </tr>\n",
       "    <tr>\n",
       "      <th>7</th>\n",
       "      <td>4500000011</td>\n",
       "      <td>10</td>\n",
       "      <td>Brent Crude Oil</td>\n",
       "      <td>BRENTCRUDE</td>\n",
       "      <td>19995</td>\n",
       "      <td>4332</td>\n",
       "      <td>86628338</td>\n",
       "      <td>GBIFAC-01</td>\n",
       "      <td>125000</td>\n",
       "      <td>1000000030</td>\n",
       "    </tr>\n",
       "  </tbody>\n",
       "</table>\n",
       "</div>"
      ],
      "text/plain": [
       "         EBELN  EBELP            TXZ01       MATNR  MENGE  NETPR    NETWR  \\\n",
       "26  4500000225     10  Brent Crude Oil  BRENTCRUDE  19853   4490 89139970   \n",
       "23  4500000185     10  Brent Crude Oil  BRENTCRUDE  19815   4462 88424438   \n",
       "1   4500000002     10  Brent Crude Oil  BRENTCRUDE  20103   4360 87649080   \n",
       "10  4500000085     10  Brent Crude Oil  BRENTCRUDE  20067   4215 84582405   \n",
       "16  4500000116     10  Brent Crude Oil  BRENTCRUDE  20184   4345 87699480   \n",
       "8   4500000061     10  Brent Crude Oil  BRENTCRUDE  19903   4205 83692115   \n",
       "22  4500000175     10  Brent Crude Oil  BRENTCRUDE  19929   4402 87737422   \n",
       "24  4500000220     10  Brent Crude Oil  BRENTCRUDE  19860   4605 91455300   \n",
       "14  4500000107     10  Brent Crude Oil  BRENTCRUDE  19810   4215 83499150   \n",
       "7   4500000011     10  Brent Crude Oil  BRENTCRUDE  19995   4332 86628338   \n",
       "\n",
       "        ERNAM  LIFNR      KNUMV  \n",
       "26  GBIFAC-01 125000 1000000252  \n",
       "23  GBIFAC-01 125000 1000000202  \n",
       "1     GBI-085 125000 1000000021  \n",
       "10  GBIFAC-01 125000 1000000104  \n",
       "16    GBI-085 125000 1000000128  \n",
       "8   GBIFAC-01 125000 1000000080  \n",
       "22  GBIFAC-01 125000 1000000192  \n",
       "24  GBIFAC-01 125000 1000000241  \n",
       "14  GBIFAC-01 125000 1000000126  \n",
       "7   GBIFAC-01 125000 1000000030  "
      ]
     },
     "execution_count": 19,
     "metadata": {},
     "output_type": "execute_result"
    }
   ],
   "source": [
    "ekko_ekpo_bco.sample(10)"
   ]
  },
  {
   "cell_type": "markdown",
   "metadata": {},
   "source": [
    "**Your task:** How many vendors (`LIFNR`) deliver Brent Crude Oil?"
   ]
  },
  {
   "cell_type": "code",
   "execution_count": 20,
   "metadata": {
    "ExecuteTime": {
     "end_time": "2018-05-04T06:45:59.397219Z",
     "start_time": "2018-05-04T06:45:59.384766Z"
    }
   },
   "outputs": [
    {
     "data": {
      "text/plain": [
       "array([125000.])"
      ]
     },
     "execution_count": 20,
     "metadata": {},
     "output_type": "execute_result"
    }
   ],
   "source": [
    "ekko_ekpo_bco['LIFNR'].unique()"
   ]
  },
  {
   "cell_type": "markdown",
   "metadata": {},
   "source": [
    "**Your task:** How many purchase group employees (`ERNAM`) are responsible for ordering Brent Crude Oil?"
   ]
  },
  {
   "cell_type": "code",
   "execution_count": 21,
   "metadata": {
    "ExecuteTime": {
     "end_time": "2018-05-04T06:45:59.413631Z",
     "start_time": "2018-05-04T06:45:59.402275Z"
    }
   },
   "outputs": [
    {
     "data": {
      "text/plain": [
       "array(['GBI-085', 'GBIFAC-01'], dtype=object)"
      ]
     },
     "execution_count": 21,
     "metadata": {},
     "output_type": "execute_result"
    }
   ],
   "source": [
    "ekko_ekpo_bco['ERNAM'].unique()"
   ]
  },
  {
   "cell_type": "markdown",
   "metadata": {},
   "source": [
    "**Your task:** Are there any differences in the average order volume between the purchase group employees (`ERNAM`)?"
   ]
  },
  {
   "cell_type": "code",
   "execution_count": 22,
   "metadata": {
    "ExecuteTime": {
     "end_time": "2018-05-04T06:45:59.435134Z",
     "start_time": "2018-05-04T06:45:59.420155Z"
    }
   },
   "outputs": [
    {
     "data": {
      "text/plain": [
       "ERNAM\n",
       "GBI-085     20119\n",
       "GBIFAC-01   19914\n",
       "Name: MENGE, dtype: float64"
      ]
     },
     "execution_count": 22,
     "metadata": {},
     "output_type": "execute_result"
    }
   ],
   "source": [
    "ekko_ekpo_bco.groupby('ERNAM')['MENGE'].mean()"
   ]
  },
  {
   "cell_type": "code",
   "execution_count": 23,
   "metadata": {
    "ExecuteTime": {
     "end_time": "2018-05-04T06:45:59.492981Z",
     "start_time": "2018-05-04T06:45:59.440826Z"
    }
   },
   "outputs": [
    {
     "data": {
      "text/html": [
       "<div class=\"vega-embed\" id=\"f0da4243-852b-4a5a-b74d-88fcccb4b9d8\"></div>\n",
       "\n",
       "<style>\n",
       ".vega-embed .vega-actions > a {\n",
       "    transition: opacity 200ms ease-in;\n",
       "    opacity: 0.3;\n",
       "    margin-right: 0.6em;\n",
       "    color: #444;\n",
       "    text-decoration: none;\n",
       "}\n",
       "\n",
       ".vega-embed .vega-actions > a:hover {\n",
       "    color: #000;\n",
       "    text-decoration: underline;\n",
       "}\n",
       "\n",
       ".vega-embed:hover .vega-actions > a {\n",
       "    opacity: 1;\n",
       "    transition: 0s;\n",
       "}\n",
       "\n",
       ".vega-embed .error p {\n",
       "    color: firebrick;\n",
       "    font-size: 1.2em;\n",
       "}\n",
       "</style>\n"
      ]
     },
     "metadata": {
      "jupyter-vega3": "#f0da4243-852b-4a5a-b74d-88fcccb4b9d8"
     },
     "output_type": "display_data"
    },
    {
     "data": {
      "application/javascript": [
       "var spec = {\"config\": {\"view\": {\"width\": 400, \"height\": 300}}, \"layer\": [{\"mark\": \"line\", \"encoding\": {\"color\": {\"type\": \"nominal\", \"field\": \"ERNAM\", \"legend\": {\"title\": \"Purchase Group Employee\"}}, \"x\": {\"type\": \"quantitative\", \"axis\": {\"title\": \"Purchase Orders\"}, \"field\": \"index\"}, \"y\": {\"type\": \"quantitative\", \"axis\": {\"title\": \"Order Volume of Brent Crude Oil\"}, \"field\": \"MENGE\", \"scale\": {\"domain\": [19760, 20250]}}}}], \"data\": {\"values\": [{\"index\": 0, \"EBELN\": 4500000001, \"EBELP\": 10, \"TXZ01\": \"Brent Crude Oil\", \"MATNR\": \"BRENTCRUDE\", \"MENGE\": 20193, \"NETPR\": 4335.0, \"NETWR\": 87536655.0, \"ERNAM\": \"GBI-085\", \"LIFNR\": 125000.0, \"KNUMV\": 1000000020.0}, {\"index\": 1, \"EBELN\": 4500000002, \"EBELP\": 10, \"TXZ01\": \"Brent Crude Oil\", \"MATNR\": \"BRENTCRUDE\", \"MENGE\": 20103, \"NETPR\": 4360.0, \"NETWR\": 87649080.0, \"ERNAM\": \"GBI-085\", \"LIFNR\": 125000.0, \"KNUMV\": 1000000021.0}, {\"index\": 2, \"EBELN\": 4500000003, \"EBELP\": 10, \"TXZ01\": \"Brent Crude Oil\", \"MATNR\": \"BRENTCRUDE\", \"MENGE\": 20013, \"NETPR\": 4340.0, \"NETWR\": 86856420.0, \"ERNAM\": \"GBI-085\", \"LIFNR\": 125000.0, \"KNUMV\": 1000000022.0}, {\"index\": 3, \"EBELN\": 4500000004, \"EBELP\": 10, \"TXZ01\": \"Brent Crude Oil\", \"MATNR\": \"BRENTCRUDE\", \"MENGE\": 20154, \"NETPR\": 4307.5, \"NETWR\": 83319972.5, \"ERNAM\": \"GBIFAC-01\", \"LIFNR\": 125000.0, \"KNUMV\": 1000000023.0}, {\"index\": 4, \"EBELN\": 4500000005, \"EBELP\": 10, \"TXZ01\": \"Brent Crude Oil\", \"MATNR\": \"BRENTCRUDE\", \"MENGE\": 19985, \"NETPR\": 4277.5, \"NETWR\": 85485837.5, \"ERNAM\": \"GBIFAC-01\", \"LIFNR\": 125000.0, \"KNUMV\": 1000000024.0}, {\"index\": 5, \"EBELN\": 4500000006, \"EBELP\": 10, \"TXZ01\": \"Brent Crude Oil\", \"MATNR\": \"BRENTCRUDE\", \"MENGE\": 20003, \"NETPR\": 4322.5, \"NETWR\": 86462967.5, \"ERNAM\": \"GBI-085\", \"LIFNR\": 125000.0, \"KNUMV\": 1000000025.0}, {\"index\": 6, \"EBELN\": 4500000009, \"EBELP\": 10, \"TXZ01\": \"Brent Crude Oil\", \"MATNR\": \"BRENTCRUDE\", \"MENGE\": 19775, \"NETPR\": 4342.5, \"NETWR\": 85872937.5, \"ERNAM\": \"GBIFAC-01\", \"LIFNR\": 125000.0, \"KNUMV\": 1000000028.0}, {\"index\": 7, \"EBELN\": 4500000011, \"EBELP\": 10, \"TXZ01\": \"Brent Crude Oil\", \"MATNR\": \"BRENTCRUDE\", \"MENGE\": 19995, \"NETPR\": 4332.5, \"NETWR\": 86628337.5, \"ERNAM\": \"GBIFAC-01\", \"LIFNR\": 125000.0, \"KNUMV\": 1000000030.0}, {\"index\": 8, \"EBELN\": 4500000061, \"EBELP\": 10, \"TXZ01\": \"Brent Crude Oil\", \"MATNR\": \"BRENTCRUDE\", \"MENGE\": 19903, \"NETPR\": 4205.0, \"NETWR\": 83692115.0, \"ERNAM\": \"GBIFAC-01\", \"LIFNR\": 125000.0, \"KNUMV\": 1000000080.0}, {\"index\": 9, \"EBELN\": 4500000063, \"EBELP\": 10, \"TXZ01\": \"Brent Crude Oil\", \"MATNR\": \"BRENTCRUDE\", \"MENGE\": 19938, \"NETPR\": 4165.0, \"NETWR\": 83041770.0, \"ERNAM\": \"GBIFAC-01\", \"LIFNR\": 125000.0, \"KNUMV\": 1000000082.0}, {\"index\": 10, \"EBELN\": 4500000085, \"EBELP\": 10, \"TXZ01\": \"Brent Crude Oil\", \"MATNR\": \"BRENTCRUDE\", \"MENGE\": 20067, \"NETPR\": 4215.0, \"NETWR\": 84582405.0, \"ERNAM\": \"GBIFAC-01\", \"LIFNR\": 125000.0, \"KNUMV\": 1000000104.0}, {\"index\": 11, \"EBELN\": 4500000097, \"EBELP\": 10, \"TXZ01\": \"Brent Crude Oil\", \"MATNR\": \"BRENTCRUDE\", \"MENGE\": 20228, \"NETPR\": 4252.5, \"NETWR\": 86019570.0, \"ERNAM\": \"GBI-085\", \"LIFNR\": 125000.0, \"KNUMV\": 1000000116.0}, {\"index\": 12, \"EBELN\": 4500000101, \"EBELP\": 10, \"TXZ01\": \"Brent Crude Oil\", \"MATNR\": \"BRENTCRUDE\", \"MENGE\": 20028, \"NETPR\": 4227.5, \"NETWR\": 84668370.0, \"ERNAM\": \"GBI-085\", \"LIFNR\": 125000.0, \"KNUMV\": 1000000120.0}, {\"index\": 13, \"EBELN\": 4500000106, \"EBELP\": 10, \"TXZ01\": \"Brent Crude Oil\", \"MATNR\": \"BRENTCRUDE\", \"MENGE\": 19918, \"NETPR\": 4257.5, \"NETWR\": 84800885.0, \"ERNAM\": \"GBIFAC-01\", \"LIFNR\": 125000.0, \"KNUMV\": 1000000125.0}, {\"index\": 14, \"EBELN\": 4500000107, \"EBELP\": 10, \"TXZ01\": \"Brent Crude Oil\", \"MATNR\": \"BRENTCRUDE\", \"MENGE\": 19810, \"NETPR\": 4215.0, \"NETWR\": 83499150.0, \"ERNAM\": \"GBIFAC-01\", \"LIFNR\": 125000.0, \"KNUMV\": 1000000126.0}, {\"index\": 15, \"EBELN\": 4500000108, \"EBELP\": 10, \"TXZ01\": \"Brent Crude Oil\", \"MATNR\": \"BRENTCRUDE\", \"MENGE\": 19987, \"NETPR\": 4330.0, \"NETWR\": 86543710.0, \"ERNAM\": \"GBIFAC-01\", \"LIFNR\": 125000.0, \"KNUMV\": 1000000127.0}, {\"index\": 16, \"EBELN\": 4500000116, \"EBELP\": 10, \"TXZ01\": \"Brent Crude Oil\", \"MATNR\": \"BRENTCRUDE\", \"MENGE\": 20184, \"NETPR\": 4345.0, \"NETWR\": 87699480.0, \"ERNAM\": \"GBI-085\", \"LIFNR\": 125000.0, \"KNUMV\": 1000000128.0}, {\"index\": 17, \"EBELN\": 4500000120, \"EBELP\": 10, \"TXZ01\": \"Brent Crude Oil\", \"MATNR\": \"BRENTCRUDE\", \"MENGE\": 19864, \"NETPR\": 4492.5, \"NETWR\": 89239020.0, \"ERNAM\": \"GBIFAC-01\", \"LIFNR\": 125000.0, \"KNUMV\": 1000000138.0}, {\"index\": 18, \"EBELN\": 4500000133, \"EBELP\": 10, \"TXZ01\": \"Brent Crude Oil\", \"MATNR\": \"BRENTCRUDE\", \"MENGE\": 20260, \"NETPR\": 4572.5, \"NETWR\": 92638850.0, \"ERNAM\": \"GBI-085\", \"LIFNR\": 125000.0, \"KNUMV\": 1000000151.0}, {\"index\": 19, \"EBELN\": 4500000147, \"EBELP\": 10, \"TXZ01\": \"Brent Crude Oil\", \"MATNR\": \"BRENTCRUDE\", \"MENGE\": 19856, \"NETPR\": 4517.5, \"NETWR\": 89699480.0, \"ERNAM\": \"GBIFAC-01\", \"LIFNR\": 125000.0, \"KNUMV\": 1000000165.0}, {\"index\": 20, \"EBELN\": 4500000173, \"EBELP\": 10, \"TXZ01\": \"Brent Crude Oil\", \"MATNR\": \"BRENTCRUDE\", \"MENGE\": 19780, \"NETPR\": 4510.0, \"NETWR\": 89207800.0, \"ERNAM\": \"GBIFAC-01\", \"LIFNR\": 125000.0, \"KNUMV\": 1000000190.0}, {\"index\": 21, \"EBELN\": 4500000174, \"EBELP\": 10, \"TXZ01\": \"Brent Crude Oil\", \"MATNR\": \"BRENTCRUDE\", \"MENGE\": 19916, \"NETPR\": 4467.5, \"NETWR\": 88974730.0, \"ERNAM\": \"GBIFAC-01\", \"LIFNR\": 125000.0, \"KNUMV\": 1000000191.0}, {\"index\": 22, \"EBELN\": 4500000175, \"EBELP\": 10, \"TXZ01\": \"Brent Crude Oil\", \"MATNR\": \"BRENTCRUDE\", \"MENGE\": 19929, \"NETPR\": 4402.5, \"NETWR\": 87737422.5, \"ERNAM\": \"GBIFAC-01\", \"LIFNR\": 125000.0, \"KNUMV\": 1000000192.0}, {\"index\": 23, \"EBELN\": 4500000185, \"EBELP\": 10, \"TXZ01\": \"Brent Crude Oil\", \"MATNR\": \"BRENTCRUDE\", \"MENGE\": 19815, \"NETPR\": 4462.5, \"NETWR\": 88424437.5, \"ERNAM\": \"GBIFAC-01\", \"LIFNR\": 125000.0, \"KNUMV\": 1000000202.0}, {\"index\": 24, \"EBELN\": 4500000220, \"EBELP\": 10, \"TXZ01\": \"Brent Crude Oil\", \"MATNR\": \"BRENTCRUDE\", \"MENGE\": 19860, \"NETPR\": 4605.0, \"NETWR\": 91455300.0, \"ERNAM\": \"GBIFAC-01\", \"LIFNR\": 125000.0, \"KNUMV\": 1000000241.0}, {\"index\": 25, \"EBELN\": 4500000222, \"EBELP\": 10, \"TXZ01\": \"Brent Crude Oil\", \"MATNR\": \"BRENTCRUDE\", \"MENGE\": 19960, \"NETPR\": 4562.5, \"NETWR\": 91067500.0, \"ERNAM\": \"GBIFAC-01\", \"LIFNR\": 125000.0, \"KNUMV\": 1000000245.0}, {\"index\": 26, \"EBELN\": 4500000225, \"EBELP\": 10, \"TXZ01\": \"Brent Crude Oil\", \"MATNR\": \"BRENTCRUDE\", \"MENGE\": 19853, \"NETPR\": 4490.0, \"NETWR\": 89139970.0, \"ERNAM\": \"GBIFAC-01\", \"LIFNR\": 125000.0, \"KNUMV\": 1000000252.0}, {\"index\": 27, \"EBELN\": 4500000249, \"EBELP\": 10, \"TXZ01\": \"Brent Crude Oil\", \"MATNR\": \"BRENTCRUDE\", \"MENGE\": 20058, \"NETPR\": 4640.0, \"NETWR\": 93069120.0, \"ERNAM\": \"GBI-085\", \"LIFNR\": 125000.0, \"KNUMV\": 1000000292.0}, {\"index\": 28, \"EBELN\": 4500000256, \"EBELP\": 10, \"TXZ01\": \"Brent Crude Oil\", \"MATNR\": \"BRENTCRUDE\", \"MENGE\": 19919, \"NETPR\": 4607.5, \"NETWR\": 91776792.5, \"ERNAM\": \"GBIFAC-01\", \"LIFNR\": 125000.0, \"KNUMV\": 1000000319.0}]}, \"height\": 300, \"width\": 600, \"$schema\": \"https://vega.github.io/schema/vega-lite/v2.3.0.json\"};\n",
       "var opt = {};\n",
       "var selector = \"#f0da4243-852b-4a5a-b74d-88fcccb4b9d8\";\n",
       "var type = \"vega-lite\";\n",
       "\n",
       "var output_area = this;\n",
       "\n",
       "require(['nbextensions/jupyter-vega3/index'], function(vega) {\n",
       "  vega.render(selector, spec, type, opt, output_area);\n",
       "}, function (err) {\n",
       "  if (err.requireType !== 'scripterror') {\n",
       "    throw(err);\n",
       "  }\n",
       "});\n"
      ]
     },
     "metadata": {
      "jupyter-vega3": "#f0da4243-852b-4a5a-b74d-88fcccb4b9d8"
     },
     "output_type": "display_data"
    },
    {
     "data": {
      "text/plain": []
     },
     "execution_count": 23,
     "metadata": {},
     "output_type": "execute_result"
    },
    {
     "data": {
      "image/png": "[encoded data removed]"
     },
     "metadata": {
      "jupyter-vega3": "#f0da4243-852b-4a5a-b74d-88fcccb4b9d8"
     },
     "output_type": "display_data"
    }
   ],
   "source": [
    "base = alt.Chart().mark_line().encode(\n",
    "    x=alt.X('index', axis=alt.Axis(title='Purchase Orders')),\n",
    "    y=alt.Y('MENGE', scale=alt.Scale(domain=(19760, 20250)), axis=alt.Axis(title='Order Volume of Brent Crude Oil')),\n",
    "    color=alt.Color('ERNAM', legend=alt.Legend(title=\"Purchase Group Employee\"))\n",
    ")\n",
    "alt.layer(base, data = ekko_ekpo_bco.reset_index(), width=600, height=300)"
   ]
  },
  {
   "cell_type": "markdown",
   "metadata": {},
   "source": [
    "## Analysis of the Conditions"
   ]
  },
  {
   "cell_type": "markdown",
   "metadata": {},
   "source": [
    "**Your task:** Filter the conditions for the purchase order of Brent Crude Oil? Store the result in a variable called `konv_bco`."
   ]
  },
  {
   "cell_type": "code",
   "execution_count": 24,
   "metadata": {
    "ExecuteTime": {
     "end_time": "2018-05-04T06:45:59.506414Z",
     "start_time": "2018-05-04T06:45:59.498785Z"
    }
   },
   "outputs": [],
   "source": [
    "konv_bco = konv[konv['KNUMV'].isin(ekko_ekpo_bco['KNUMV'])]"
   ]
  },
  {
   "cell_type": "markdown",
   "metadata": {},
   "source": [
    "**Your task:** Show the first five rows of `konv_bco`."
   ]
  },
  {
   "cell_type": "code",
   "execution_count": 25,
   "metadata": {
    "ExecuteTime": {
     "end_time": "2018-05-04T06:45:59.537802Z",
     "start_time": "2018-05-04T06:45:59.511636Z"
    }
   },
   "outputs": [
    {
     "data": {
      "text/html": [
       "<div>\n",
       "<style scoped>\n",
       "    .dataframe tbody tr th:only-of-type {\n",
       "        vertical-align: middle;\n",
       "    }\n",
       "\n",
       "    .dataframe tbody tr th {\n",
       "        vertical-align: top;\n",
       "    }\n",
       "\n",
       "    .dataframe thead th {\n",
       "        text-align: right;\n",
       "    }\n",
       "</style>\n",
       "<table border=\"1\" class=\"dataframe\">\n",
       "  <thead>\n",
       "    <tr style=\"text-align: right;\">\n",
       "      <th></th>\n",
       "      <th>KNUMV</th>\n",
       "      <th>KPOSN</th>\n",
       "      <th>STUNR</th>\n",
       "      <th>KSCHL</th>\n",
       "      <th>KAWRT</th>\n",
       "      <th>KBETR</th>\n",
       "    </tr>\n",
       "  </thead>\n",
       "  <tbody>\n",
       "    <tr>\n",
       "      <th>52</th>\n",
       "      <td>1000000020</td>\n",
       "      <td>10</td>\n",
       "      <td>1</td>\n",
       "      <td>PBXX</td>\n",
       "      <td>1000</td>\n",
       "      <td>4336</td>\n",
       "    </tr>\n",
       "    <tr>\n",
       "      <th>53</th>\n",
       "      <td>1000000020</td>\n",
       "      <td>10</td>\n",
       "      <td>11</td>\n",
       "      <td>RB00</td>\n",
       "      <td>87561655</td>\n",
       "      <td>-25000</td>\n",
       "    </tr>\n",
       "    <tr>\n",
       "      <th>54</th>\n",
       "      <td>1000000020</td>\n",
       "      <td>10</td>\n",
       "      <td>21</td>\n",
       "      <td>NAVM</td>\n",
       "      <td>87536655</td>\n",
       "      <td>0</td>\n",
       "    </tr>\n",
       "    <tr>\n",
       "      <th>55</th>\n",
       "      <td>1000000020</td>\n",
       "      <td>10</td>\n",
       "      <td>35</td>\n",
       "      <td>SKTO</td>\n",
       "      <td>87536655</td>\n",
       "      <td>0</td>\n",
       "    </tr>\n",
       "    <tr>\n",
       "      <th>56</th>\n",
       "      <td>1000000020</td>\n",
       "      <td>10</td>\n",
       "      <td>60</td>\n",
       "      <td>WOTB</td>\n",
       "      <td>1000</td>\n",
       "      <td>4335</td>\n",
       "    </tr>\n",
       "  </tbody>\n",
       "</table>\n",
       "</div>"
      ],
      "text/plain": [
       "         KNUMV  KPOSN  STUNR KSCHL    KAWRT  KBETR\n",
       "52  1000000020     10      1  PBXX     1000   4336\n",
       "53  1000000020     10     11  RB00 87561655 -25000\n",
       "54  1000000020     10     21  NAVM 87536655      0\n",
       "55  1000000020     10     35  SKTO 87536655      0\n",
       "56  1000000020     10     60  WOTB     1000   4335"
      ]
     },
     "execution_count": 25,
     "metadata": {},
     "output_type": "execute_result"
    }
   ],
   "source": [
    "konv_bco.head()"
   ]
  },
  {
   "cell_type": "markdown",
   "metadata": {},
   "source": [
    "**Your task:** What is the interesting condition type?"
   ]
  },
  {
   "cell_type": "code",
   "execution_count": 26,
   "metadata": {
    "ExecuteTime": {
     "end_time": "2018-05-04T06:45:59.564500Z",
     "start_time": "2018-05-04T06:45:59.541876Z"
    }
   },
   "outputs": [
    {
     "data": {
      "text/html": [
       "<div>\n",
       "<style scoped>\n",
       "    .dataframe tbody tr th:only-of-type {\n",
       "        vertical-align: middle;\n",
       "    }\n",
       "\n",
       "    .dataframe tbody tr th {\n",
       "        vertical-align: top;\n",
       "    }\n",
       "\n",
       "    .dataframe thead th {\n",
       "        text-align: right;\n",
       "    }\n",
       "</style>\n",
       "<table border=\"1\" class=\"dataframe\">\n",
       "  <thead>\n",
       "    <tr style=\"text-align: right;\">\n",
       "      <th></th>\n",
       "      <th>KSCHL</th>\n",
       "    </tr>\n",
       "    <tr>\n",
       "      <th>KSCHL</th>\n",
       "      <th></th>\n",
       "    </tr>\n",
       "  </thead>\n",
       "  <tbody>\n",
       "    <tr>\n",
       "      <th>NAVM</th>\n",
       "      <td>29</td>\n",
       "    </tr>\n",
       "    <tr>\n",
       "      <th>PBXX</th>\n",
       "      <td>29</td>\n",
       "    </tr>\n",
       "    <tr>\n",
       "      <th>RB00</th>\n",
       "      <td>11</td>\n",
       "    </tr>\n",
       "    <tr>\n",
       "      <th>SKTO</th>\n",
       "      <td>29</td>\n",
       "    </tr>\n",
       "    <tr>\n",
       "      <th>WOTB</th>\n",
       "      <td>29</td>\n",
       "    </tr>\n",
       "  </tbody>\n",
       "</table>\n",
       "</div>"
      ],
      "text/plain": [
       "       KSCHL\n",
       "KSCHL       \n",
       "NAVM      29\n",
       "PBXX      29\n",
       "RB00      11\n",
       "SKTO      29\n",
       "WOTB      29"
      ]
     },
     "execution_count": 26,
     "metadata": {},
     "output_type": "execute_result"
    }
   ],
   "source": [
    "konv_bco.groupby('KSCHL')[['KSCHL']].count()"
   ]
  },
  {
   "cell_type": "markdown",
   "metadata": {},
   "source": [
    "**Your task:** Add dummies for the condition type to `konv_bco`. Store the result in a variable called `konv_bco_d`?"
   ]
  },
  {
   "cell_type": "code",
   "execution_count": 27,
   "metadata": {
    "ExecuteTime": {
     "end_time": "2018-05-04T06:45:59.604922Z",
     "start_time": "2018-05-04T06:45:59.573142Z"
    }
   },
   "outputs": [],
   "source": [
    "konv_bco_d = konv_bco.join(konv_bco['KSCHL'].str.get_dummies())"
   ]
  },
  {
   "cell_type": "markdown",
   "metadata": {
    "ExecuteTime": {
     "end_time": "2018-05-04T05:48:03.153060Z",
     "start_time": "2018-05-04T05:48:03.142157Z"
    }
   },
   "source": [
    "**Your task:** Show the first five rows of `konv_bco_d`."
   ]
  },
  {
   "cell_type": "code",
   "execution_count": 28,
   "metadata": {
    "ExecuteTime": {
     "end_time": "2018-05-04T06:45:59.663675Z",
     "start_time": "2018-05-04T06:45:59.615210Z"
    }
   },
   "outputs": [
    {
     "data": {
      "text/html": [
       "<div>\n",
       "<style scoped>\n",
       "    .dataframe tbody tr th:only-of-type {\n",
       "        vertical-align: middle;\n",
       "    }\n",
       "\n",
       "    .dataframe tbody tr th {\n",
       "        vertical-align: top;\n",
       "    }\n",
       "\n",
       "    .dataframe thead th {\n",
       "        text-align: right;\n",
       "    }\n",
       "</style>\n",
       "<table border=\"1\" class=\"dataframe\">\n",
       "  <thead>\n",
       "    <tr style=\"text-align: right;\">\n",
       "      <th></th>\n",
       "      <th>KNUMV</th>\n",
       "      <th>KPOSN</th>\n",
       "      <th>STUNR</th>\n",
       "      <th>KSCHL</th>\n",
       "      <th>KAWRT</th>\n",
       "      <th>KBETR</th>\n",
       "      <th>NAVM</th>\n",
       "      <th>PBXX</th>\n",
       "      <th>RB00</th>\n",
       "      <th>SKTO</th>\n",
       "      <th>WOTB</th>\n",
       "    </tr>\n",
       "  </thead>\n",
       "  <tbody>\n",
       "    <tr>\n",
       "      <th>52</th>\n",
       "      <td>1000000020</td>\n",
       "      <td>10</td>\n",
       "      <td>1</td>\n",
       "      <td>PBXX</td>\n",
       "      <td>1000</td>\n",
       "      <td>4336</td>\n",
       "      <td>0</td>\n",
       "      <td>1</td>\n",
       "      <td>0</td>\n",
       "      <td>0</td>\n",
       "      <td>0</td>\n",
       "    </tr>\n",
       "    <tr>\n",
       "      <th>53</th>\n",
       "      <td>1000000020</td>\n",
       "      <td>10</td>\n",
       "      <td>11</td>\n",
       "      <td>RB00</td>\n",
       "      <td>87561655</td>\n",
       "      <td>-25000</td>\n",
       "      <td>0</td>\n",
       "      <td>0</td>\n",
       "      <td>1</td>\n",
       "      <td>0</td>\n",
       "      <td>0</td>\n",
       "    </tr>\n",
       "    <tr>\n",
       "      <th>54</th>\n",
       "      <td>1000000020</td>\n",
       "      <td>10</td>\n",
       "      <td>21</td>\n",
       "      <td>NAVM</td>\n",
       "      <td>87536655</td>\n",
       "      <td>0</td>\n",
       "      <td>1</td>\n",
       "      <td>0</td>\n",
       "      <td>0</td>\n",
       "      <td>0</td>\n",
       "      <td>0</td>\n",
       "    </tr>\n",
       "    <tr>\n",
       "      <th>55</th>\n",
       "      <td>1000000020</td>\n",
       "      <td>10</td>\n",
       "      <td>35</td>\n",
       "      <td>SKTO</td>\n",
       "      <td>87536655</td>\n",
       "      <td>0</td>\n",
       "      <td>0</td>\n",
       "      <td>0</td>\n",
       "      <td>0</td>\n",
       "      <td>1</td>\n",
       "      <td>0</td>\n",
       "    </tr>\n",
       "    <tr>\n",
       "      <th>56</th>\n",
       "      <td>1000000020</td>\n",
       "      <td>10</td>\n",
       "      <td>60</td>\n",
       "      <td>WOTB</td>\n",
       "      <td>1000</td>\n",
       "      <td>4335</td>\n",
       "      <td>0</td>\n",
       "      <td>0</td>\n",
       "      <td>0</td>\n",
       "      <td>0</td>\n",
       "      <td>1</td>\n",
       "    </tr>\n",
       "  </tbody>\n",
       "</table>\n",
       "</div>"
      ],
      "text/plain": [
       "         KNUMV  KPOSN  STUNR KSCHL    KAWRT  KBETR  NAVM  PBXX  RB00  SKTO  \\\n",
       "52  1000000020     10      1  PBXX     1000   4336     0     1     0     0   \n",
       "53  1000000020     10     11  RB00 87561655 -25000     0     0     1     0   \n",
       "54  1000000020     10     21  NAVM 87536655      0     1     0     0     0   \n",
       "55  1000000020     10     35  SKTO 87536655      0     0     0     0     1   \n",
       "56  1000000020     10     60  WOTB     1000   4335     0     0     0     0   \n",
       "\n",
       "    WOTB  \n",
       "52     0  \n",
       "53     0  \n",
       "54     0  \n",
       "55     0  \n",
       "56     1  "
      ]
     },
     "execution_count": 28,
     "metadata": {},
     "output_type": "execute_result"
    }
   ],
   "source": [
    "konv_bco_d.head()"
   ]
  },
  {
   "cell_type": "markdown",
   "metadata": {},
   "source": [
    "**Your task:** Filter the sets of conditions that contain the condition type of interest. Store the result in a variable called by the name of the condition type."
   ]
  },
  {
   "cell_type": "code",
   "execution_count": 29,
   "metadata": {
    "ExecuteTime": {
     "end_time": "2018-05-04T06:45:59.689305Z",
     "start_time": "2018-05-04T06:45:59.673665Z"
    }
   },
   "outputs": [],
   "source": [
    "rb00 = konv_bco_d.groupby('KNUMV')['RB00'].sum().reset_index()"
   ]
  },
  {
   "cell_type": "markdown",
   "metadata": {},
   "source": [
    "**Your task:** Left join the condition type of interest to the other tables. Store the result in a variable called `eek_bco`."
   ]
  },
  {
   "cell_type": "code",
   "execution_count": 30,
   "metadata": {
    "ExecuteTime": {
     "end_time": "2018-05-04T06:45:59.715952Z",
     "start_time": "2018-05-04T06:45:59.693271Z"
    }
   },
   "outputs": [],
   "source": [
    "eek_bco = pd.merge(ekko_ekpo_bco, rb00, on='KNUMV', how='left')"
   ]
  },
  {
   "cell_type": "markdown",
   "metadata": {},
   "source": [
    "## What is the fraud?"
   ]
  },
  {
   "cell_type": "markdown",
   "metadata": {},
   "source": [
    "**Your task:** What does the fraudster exploit?"
   ]
  },
  {
   "cell_type": "code",
   "execution_count": 31,
   "metadata": {
    "ExecuteTime": {
     "end_time": "2018-05-04T06:45:59.744446Z",
     "start_time": "2018-05-04T06:45:59.721711Z"
    }
   },
   "outputs": [
    {
     "data": {
      "text/plain": [
       "20003"
      ]
     },
     "execution_count": 31,
     "metadata": {},
     "output_type": "execute_result"
    },
    {
     "data": {
      "text/plain": [
       "20260"
      ]
     },
     "execution_count": 31,
     "metadata": {},
     "output_type": "execute_result"
    }
   ],
   "source": [
    "eek_bco[eek_bco['RB00']==1]['MENGE'].min()\n",
    "eek_bco[eek_bco['RB00']==1]['MENGE'].max()"
   ]
  },
  {
   "cell_type": "code",
   "execution_count": 32,
   "metadata": {
    "ExecuteTime": {
     "end_time": "2018-05-04T06:45:59.771874Z",
     "start_time": "2018-05-04T06:45:59.750007Z"
    }
   },
   "outputs": [
    {
     "data": {
      "text/plain": [
       "19775"
      ]
     },
     "execution_count": 32,
     "metadata": {},
     "output_type": "execute_result"
    },
    {
     "data": {
      "text/plain": [
       "19995"
      ]
     },
     "execution_count": 32,
     "metadata": {},
     "output_type": "execute_result"
    }
   ],
   "source": [
    "eek_bco[eek_bco['RB00']==0]['MENGE'].min()\n",
    "eek_bco[eek_bco['RB00']==0]['MENGE'].max()"
   ]
  },
  {
   "cell_type": "markdown",
   "metadata": {},
   "source": [
    "**Your task:** Who is the person of interest?"
   ]
  },
  {
   "cell_type": "code",
   "execution_count": 33,
   "metadata": {
    "ExecuteTime": {
     "end_time": "2018-05-04T06:45:59.801166Z",
     "start_time": "2018-05-04T06:45:59.776502Z"
    }
   },
   "outputs": [
    {
     "data": {
      "text/html": [
       "<div>\n",
       "<style scoped>\n",
       "    .dataframe tbody tr th:only-of-type {\n",
       "        vertical-align: middle;\n",
       "    }\n",
       "\n",
       "    .dataframe tbody tr th {\n",
       "        vertical-align: top;\n",
       "    }\n",
       "\n",
       "    .dataframe thead th {\n",
       "        text-align: right;\n",
       "    }\n",
       "</style>\n",
       "<table border=\"1\" class=\"dataframe\">\n",
       "  <thead>\n",
       "    <tr style=\"text-align: right;\">\n",
       "      <th></th>\n",
       "      <th>MENGE</th>\n",
       "      <th>ERNAM</th>\n",
       "    </tr>\n",
       "    <tr>\n",
       "      <th>RB00</th>\n",
       "      <th></th>\n",
       "      <th></th>\n",
       "    </tr>\n",
       "  </thead>\n",
       "  <tbody>\n",
       "    <tr>\n",
       "      <th>0</th>\n",
       "      <td>19892</td>\n",
       "      <td>[GBIFAC-01]</td>\n",
       "    </tr>\n",
       "    <tr>\n",
       "      <th>1</th>\n",
       "      <td>20117</td>\n",
       "      <td>[GBI-085, GBIFAC-01]</td>\n",
       "    </tr>\n",
       "  </tbody>\n",
       "</table>\n",
       "</div>"
      ],
      "text/plain": [
       "      MENGE                 ERNAM\n",
       "RB00                             \n",
       "0     19892           [GBIFAC-01]\n",
       "1     20117  [GBI-085, GBIFAC-01]"
      ]
     },
     "execution_count": 33,
     "metadata": {},
     "output_type": "execute_result"
    }
   ],
   "source": [
    "eek_bco.groupby('RB00')[['MENGE', 'ERNAM']].agg({'MENGE': 'mean', 'ERNAM':'unique'})"
   ]
  },
  {
   "cell_type": "markdown",
   "metadata": {},
   "source": [
    "**Your task:** What is the financial damage?"
   ]
  },
  {
   "cell_type": "code",
   "execution_count": 34,
   "metadata": {
    "ExecuteTime": {
     "end_time": "2018-05-04T06:45:59.824970Z",
     "start_time": "2018-05-04T06:45:59.807261Z"
    }
   },
   "outputs": [
    {
     "data": {
      "text/plain": [
       "450000.0"
      ]
     },
     "execution_count": 34,
     "metadata": {},
     "output_type": "execute_result"
    }
   ],
   "source": [
    "abs((len(ekko_ekpo_bco) - len(konv_bco[konv_bco['KSCHL']=='RB00'])) *\\\n",
    "konv_bco[konv_bco['KSCHL']=='RB00']['KBETR'].unique()[0])"
   ]
  },
  {
   "cell_type": "markdown",
   "metadata": {
    "ExecuteTime": {
     "end_time": "2018-05-04T06:16:12.187499Z",
     "start_time": "2018-05-04T06:16:12.178351Z"
    }
   },
   "source": [
    "**Reflect:** Can you explain the fraud?"
   ]
  }
 ],
 "metadata": {
  "kernelspec": {
   "display_name": "Python 3",
   "language": "python",
   "name": "python3"
  },
  "language_info": {
   "codemirror_mode": {
    "name": "ipython",
    "version": 3
   },
   "file_extension": ".py",
   "mimetype": "text/x-python",
   "name": "python",
   "nbconvert_exporter": "python",
   "pygments_lexer": "ipython3",
   "version": "3.6.4"
  },
  "toc": {
   "base_numbering": 1,
   "nav_menu": {},
   "number_sections": true,
   "sideBar": true,
   "skip_h1_title": false,
   "title_cell": "Table of Contents",
   "title_sidebar": "Contents",
   "toc_cell": false,
   "toc_position": {},
   "toc_section_display": true,
   "toc_window_display": false
  },
  "varInspector": {
   "cols": {
    "lenName": 16,
    "lenType": 16,
    "lenVar": 40
   },
   "kernels_config": {
    "python": {
     "delete_cmd_postfix": "",
     "delete_cmd_prefix": "del ",
     "library": "var_list.py",
     "varRefreshCmd": "print(var_dic_list())"
    },
    "r": {
     "delete_cmd_postfix": ") ",
     "delete_cmd_prefix": "rm(",
     "library": "var_list.r",
     "varRefreshCmd": "cat(var_dic_list()) "
    }
   },
   "types_to_exclude": [
    "module",
    "function",
    "builtin_function_or_method",
    "instance",
    "_Feature"
   ],
   "window_display": false
  }
 },
 "nbformat": 4,
 "nbformat_minor": 2
}
