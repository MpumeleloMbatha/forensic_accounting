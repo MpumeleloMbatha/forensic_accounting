{
 "cells": [
  {
   "cell_type": "markdown",
   "metadata": {},
   "source": [
    "# The Evaporating Inventory Incident"
   ]
  },
  {
   "cell_type": "markdown",
   "metadata": {},
   "source": [
    "You have been contracted for your first investigation. The [COO](https://en.wikipedia.org/wiki/Chief_operating_officer) of a company has heard rumors about irregularities in the inventory. Nothing specific but enough to get her curious. \n",
    "\n",
    "You have requested a copy of the data from the company's SAP system. You focus on the **material documents**. \n",
    "\n",
    "Your objective is to analyze the data to identify and understand the irregularities. **Can you establish sufficient evidence for fraud?**"
   ]
  },
  {
   "cell_type": "markdown",
   "metadata": {
    "ExecuteTime": {
     "end_time": "2018-04-26T22:50:25.650751Z",
     "start_time": "2018-04-26T22:50:25.644938Z"
    }
   },
   "source": [
    "## Setup"
   ]
  },
  {
   "cell_type": "markdown",
   "metadata": {
    "ExecuteTime": {
     "end_time": "2018-04-20T18:28:35.627732Z",
     "start_time": "2018-04-20T18:28:35.612855Z"
    }
   },
   "source": [
    "Some initialization to make life easier. **Make sure to run the following cell before proceeding.**"
   ]
  },
  {
   "cell_type": "code",
   "execution_count": 335,
   "metadata": {
    "ExecuteTime": {
     "end_time": "2018-05-11T06:52:23.272373Z",
     "start_time": "2018-05-11T06:52:23.253707Z"
    }
   },
   "outputs": [],
   "source": [
    "#Allow multiple outputs for each cell\n",
    "from IPython.core.interactiveshell import InteractiveShell\n",
    "InteractiveShell.ast_node_interactivity = 'all'\n",
    "#Show simple plots in the notebook\n",
    "import matplotlib.pyplot as plt\n",
    "%matplotlib inline"
   ]
  },
  {
   "cell_type": "markdown",
   "metadata": {},
   "source": [
    "We use the following libraries:\n",
    "* [Pandas](https://pandas.pydata.org) is the most important workhorse in data analytics.\n",
    "* [Altair](https://altair-viz.github.io) is a visualization library."
   ]
  },
  {
   "cell_type": "code",
   "execution_count": 336,
   "metadata": {
    "ExecuteTime": {
     "end_time": "2018-05-11T06:52:23.591962Z",
     "start_time": "2018-05-11T06:52:23.583671Z"
    }
   },
   "outputs": [],
   "source": [
    "import pandas as pd\n",
    "import altair as alt\n",
    "from altair import *\n",
    "import numpy as np\n",
    "#Format number without any decimals\n",
    "pd.set_option('display.float_format', lambda x: '%.4f' % x)\n",
    "#Show altair plots in the notebook\n",
    "alt.renderers.enable('notebook')"
   ]
  },
  {
   "cell_type": "markdown",
   "metadata": {},
   "source": [
    "You have received two tables from the SAP system, which contain the information of the **material movements** in the company:\n",
    "2. The header information of the material documents are stored in the table `MKPF`.\n",
    "1. The line item information of the material documents is stored in the table `MSEG`."
   ]
  },
  {
   "cell_type": "code",
   "execution_count": 337,
   "metadata": {
    "ExecuteTime": {
     "end_time": "2018-05-11T06:52:25.427333Z",
     "start_time": "2018-05-11T06:52:23.869850Z"
    }
   },
   "outputs": [],
   "source": [
    "mkpf_table = pd.read_csv('https://raw.githubusercontent.com/mschermann/forensic_accounting/master/MKPK_EI.csv')\n",
    "mseg_table = pd.read_csv('https://raw.githubusercontent.com/mschermann/forensic_accounting/master/MSEG_EI.csv',low_memory=False)"
   ]
  },
  {
   "cell_type": "markdown",
   "metadata": {
    "ExecuteTime": {
     "end_time": "2018-05-11T04:41:25.227421Z",
     "start_time": "2018-05-11T04:41:25.221887Z"
    }
   },
   "source": [
    "## Understanding the tables"
   ]
  },
  {
   "cell_type": "markdown",
   "metadata": {},
   "source": [
    "### The MKPF table"
   ]
  },
  {
   "cell_type": "markdown",
   "metadata": {
    "ExecuteTime": {
     "end_time": "2018-05-11T04:41:43.547267Z",
     "start_time": "2018-05-11T04:41:43.535290Z"
    }
   },
   "source": [
    "For our purposes, we use the following columns from `MKPF`:\n",
    "* `MBLNR` - Contains the material document number.\n",
    "* `USNAM` - Contains the inventory employee who posted the material document."
   ]
  },
  {
   "cell_type": "markdown",
   "metadata": {},
   "source": [
    "### The MSEG table"
   ]
  },
  {
   "cell_type": "markdown",
   "metadata": {
    "ExecuteTime": {
     "end_time": "2018-05-11T04:42:32.460329Z",
     "start_time": "2018-05-11T04:42:32.445833Z"
    }
   },
   "source": [
    "For our purposes, we use the following columns from `MSEG`:\n",
    "* `MBLNR` - Contains the material document number.\n",
    "* `BWART` - Contains the movement type of the line item. This [link](https://wiki.scn.sap.com/wiki/display/ERPLO/Movement+types) contains information about the movement types.\n",
    "* `MATNR` - Contains the material id of the material moved.\n",
    "* `LGORT` - Contains the storage location.\n",
    "* `DMBTR` - Contains the value of the material movement.\n",
    "* `MENGE` - Contains the volume of the movement in units of the material. "
   ]
  },
  {
   "cell_type": "markdown",
   "metadata": {},
   "source": [
    "## Understanding the company"
   ]
  },
  {
   "cell_type": "markdown",
   "metadata": {},
   "source": [
    "After a meeting you understand that the company has four locations:\n",
    "* `DL00` - the factory in Dallas, TX\n",
    "* `MI00` - the factory in Miami, FL\n",
    "* `SD00` - the factory in San Diego, CA\n",
    "* `SC00` - the factory in Santa Clara, CA"
   ]
  },
  {
   "cell_type": "markdown",
   "metadata": {},
   "source": [
    "Furthermore, the company has the following **groups** of raw materials in its storage locations (`RM00`) across the locations in the company code `US00`. You keep a record of the groups in the following variables."
   ]
  },
  {
   "cell_type": "markdown",
   "metadata": {},
   "source": [
    "**Marvelous Materials:**\n",
    "* `ADAMANTIUM`\n",
    "* `CARBONITE`\n",
    "* `KRYPTONITE`"
   ]
  },
  {
   "cell_type": "code",
   "execution_count": 338,
   "metadata": {
    "ExecuteTime": {
     "end_time": "2018-05-11T06:52:27.810070Z",
     "start_time": "2018-05-11T06:52:27.802815Z"
    }
   },
   "outputs": [],
   "source": [
    "marvel = ['ADAMANTIUM', 'CARBONITE', 'KRYPTONITE']"
   ]
  },
  {
   "cell_type": "markdown",
   "metadata": {},
   "source": [
    "**Boring Metals:**\n",
    "* `GOLD` \n",
    "* `IRON`\n",
    "* `PALLADIUM`\n",
    "* `SILVER`"
   ]
  },
  {
   "cell_type": "code",
   "execution_count": 339,
   "metadata": {
    "ExecuteTime": {
     "end_time": "2018-05-11T06:52:28.092463Z",
     "start_time": "2018-05-11T06:52:28.080812Z"
    }
   },
   "outputs": [],
   "source": [
    "boring = ['GOLD', 'IRON', 'PALLADIUM', 'SILVER']"
   ]
  },
  {
   "cell_type": "markdown",
   "metadata": {},
   "source": [
    "**Gems:**\n",
    "* `ANGOLAN AMETHYST`\n",
    "* `AUSTRALIAN AMETHYST`\n",
    "* `BOTSWANA BLACK PE`\n",
    "* `BRITAIN BLACK PEAR`\n",
    "* `CANADIAN CRYSTAL`\n",
    "* `CONGOCRYSTAL`\n",
    "* `DIAMOND`\n",
    "* `ROMANIAN RUBY`\n",
    "* `RUBY`\n",
    "* `RUSSIAN RUBY`\n",
    "* `SA SAPPHIRE`\n",
    "* `SWISS SAPPHIRE`"
   ]
  },
  {
   "cell_type": "code",
   "execution_count": 340,
   "metadata": {
    "ExecuteTime": {
     "end_time": "2018-05-11T06:52:28.341422Z",
     "start_time": "2018-05-11T06:52:28.332591Z"
    }
   },
   "outputs": [],
   "source": [
    "gems = ['ANGOLAN AMETHYST','AUSTRALIAN AMETHYST', 'BOTSWANA BLACK PE',\\\n",
    "        'BRITAIN BLACK PEAR', 'CANADIAN CRYSTAL', 'CONGOCRYSTAL', \\\n",
    "        'DIAMOND', 'ROMANIAN RUBY', 'RUBY', \\\n",
    "        'RUSSIAN RUBY', 'SA SAPPHIRE','SWISS SAPPHIRE']"
   ]
  },
  {
   "cell_type": "markdown",
   "metadata": {},
   "source": [
    "**Essentials:**\n",
    "* `CHRONIUM`\n",
    "* `CONCRETE`\n",
    "* `ICAN HEADMASK`\n",
    "* `MAGICDUST`\n",
    "* `ORANGE`\n",
    "* `PAPER`\n",
    "* `ROSE ESSENTIAL OIL`\n",
    "* `TEST`\n",
    "* `WALLET`"
   ]
  },
  {
   "cell_type": "code",
   "execution_count": 341,
   "metadata": {
    "ExecuteTime": {
     "end_time": "2018-05-11T06:52:28.590501Z",
     "start_time": "2018-05-11T06:52:28.581806Z"
    }
   },
   "outputs": [],
   "source": [
    "essentials = ['CHRONIUM', 'CONCRETE',  'ICAN HEADMASK', \\\n",
    "              'MAGICDUST', 'ORANGE',  'PAPER', \\\n",
    "              'ROSE ESSENTIAL OIL',  'TEST', 'WALLET']"
   ]
  },
  {
   "cell_type": "markdown",
   "metadata": {},
   "source": [
    "**Consumables:**\n",
    "* `AAA LUBE` \n",
    "* `BLUEPAINT`\n",
    "* `BOLT1000`\n",
    "* `HEXNT`\n",
    "* `LIQUID`\n",
    "* `ZTESTHEXNT`"
   ]
  },
  {
   "cell_type": "code",
   "execution_count": 342,
   "metadata": {
    "ExecuteTime": {
     "end_time": "2018-05-11T06:52:29.224952Z",
     "start_time": "2018-05-11T06:52:29.218534Z"
    }
   },
   "outputs": [],
   "source": [
    "consumables = ['AAA LUBE', 'BLUEPAINT', 'BOLT1000', \\\n",
    "               'HEXNT','LIQUID','ZTESTHEXNT']"
   ]
  },
  {
   "cell_type": "markdown",
   "metadata": {},
   "source": [
    "## Your investigation"
   ]
  },
  {
   "cell_type": "markdown",
   "metadata": {},
   "source": [
    "### Reduce the tables to the relevant columns"
   ]
  },
  {
   "cell_type": "markdown",
   "metadata": {},
   "source": [
    "**Your objective:** Focus on the columns that are important to your investigation."
   ]
  },
  {
   "cell_type": "code",
   "execution_count": null,
   "metadata": {},
   "outputs": [],
   "source": []
  },
  {
   "cell_type": "markdown",
   "metadata": {},
   "source": [
    "### Develop an overview of the material movements"
   ]
  },
  {
   "cell_type": "markdown",
   "metadata": {},
   "source": [
    "**Your objective:** Identify potential irregularities in the material movement data.\n",
    "\n",
    "Think along the following lines:\n",
    "\n",
    "* What are the differences between the locations?\n",
    "* What are the differences between the movement types?\n",
    "* What are the relationships between the movement types?\n",
    "\n",
    "**Please note**: You cannot have numbers as column headers."
   ]
  },
  {
   "cell_type": "code",
   "execution_count": null,
   "metadata": {},
   "outputs": [],
   "source": []
  },
  {
   "cell_type": "markdown",
   "metadata": {},
   "source": [
    "## Is there fraud?"
   ]
  },
  {
   "cell_type": "code",
   "execution_count": null,
   "metadata": {},
   "outputs": [],
   "source": []
  },
  {
   "cell_type": "markdown",
   "metadata": {
    "ExecuteTime": {
     "end_time": "2018-05-04T06:16:12.187499Z",
     "start_time": "2018-05-04T06:16:12.178351Z"
    }
   },
   "source": [
    "**Reflect:** Can you explain the fraud?"
   ]
  }
 ],
 "metadata": {
  "kernelspec": {
   "display_name": "Python 3",
   "language": "python",
   "name": "python3"
  },
  "language_info": {
   "codemirror_mode": {
    "name": "ipython",
    "version": 3
   },
   "file_extension": ".py",
   "mimetype": "text/x-python",
   "name": "python",
   "nbconvert_exporter": "python",
   "pygments_lexer": "ipython3",
   "version": "3.6.4"
  },
  "toc": {
   "base_numbering": 1,
   "nav_menu": {},
   "number_sections": true,
   "sideBar": true,
   "skip_h1_title": false,
   "title_cell": "Table of Contents",
   "title_sidebar": "Contents",
   "toc_cell": false,
   "toc_position": {},
   "toc_section_display": true,
   "toc_window_display": false
  },
  "varInspector": {
   "cols": {
    "lenName": 16,
    "lenType": 16,
    "lenVar": 40
   },
   "kernels_config": {
    "python": {
     "delete_cmd_postfix": "",
     "delete_cmd_prefix": "del ",
     "library": "var_list.py",
     "varRefreshCmd": "print(var_dic_list())"
    },
    "r": {
     "delete_cmd_postfix": ") ",
     "delete_cmd_prefix": "rm(",
     "library": "var_list.r",
     "varRefreshCmd": "cat(var_dic_list()) "
    }
   },
   "types_to_exclude": [
    "module",
    "function",
    "builtin_function_or_method",
    "instance",
    "_Feature"
   ],
   "window_display": false
  }
 },
 "nbformat": 4,
 "nbformat_minor": 2
}
