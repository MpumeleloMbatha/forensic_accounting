{
 "cells": [
  {
   "cell_type": "markdown",
   "metadata": {},
   "source": [
    "# The Evaporating Inventory Incident"
   ]
  },
  {
   "cell_type": "markdown",
   "metadata": {},
   "source": [
    "You have been contracted for your first investigation. The [COO](https://en.wikipedia.org/wiki/Chief_operating_officer) of a company has heard rumors about irregularities in the inventory. Nothing specific but enough to get her curious. \n",
    "\n",
    "You have requested a copy of the data from the company's SAP system. You focus on the **material documents**. \n",
    "\n",
    "Your objective is to analyze the data to identify and understand the irregularities. **Can you establish sufficient evidence for fraud?**"
   ]
  },
  {
   "cell_type": "markdown",
   "metadata": {
    "ExecuteTime": {
     "end_time": "2018-04-26T22:50:25.650751Z",
     "start_time": "2018-04-26T22:50:25.644938Z"
    }
   },
   "source": [
    "## Setup"
   ]
  },
  {
   "cell_type": "markdown",
   "metadata": {
    "ExecuteTime": {
     "end_time": "2018-04-20T18:28:35.627732Z",
     "start_time": "2018-04-20T18:28:35.612855Z"
    }
   },
   "source": [
    "Some initialization to make life easier. **Make sure to run the following cell before proceeding.**"
   ]
  },
  {
   "cell_type": "code",
   "execution_count": 55,
   "metadata": {
    "ExecuteTime": {
     "end_time": "2018-05-11T21:57:43.311124Z",
     "start_time": "2018-05-11T21:57:43.292145Z"
    }
   },
   "outputs": [],
   "source": [
    "#Allow multiple outputs for each cell\n",
    "from IPython.core.interactiveshell import InteractiveShell\n",
    "InteractiveShell.ast_node_interactivity = 'all'\n",
    "#Show simple plots in the notebook\n",
    "import matplotlib.pyplot as plt\n",
    "%matplotlib inline"
   ]
  },
  {
   "cell_type": "markdown",
   "metadata": {},
   "source": [
    "We use the following libraries:\n",
    "* [Pandas](https://pandas.pydata.org) is the most important workhorse in data analytics.\n",
    "* [Altair](https://altair-viz.github.io) is a visualization library."
   ]
  },
  {
   "cell_type": "code",
   "execution_count": 56,
   "metadata": {
    "ExecuteTime": {
     "end_time": "2018-05-11T21:57:43.331899Z",
     "start_time": "2018-05-11T21:57:43.317945Z"
    }
   },
   "outputs": [],
   "source": [
    "import pandas as pd\n",
    "import altair as alt\n",
    "from altair import *\n",
    "import numpy as np\n",
    "#Format number without any decimals\n",
    "pd.set_option('display.float_format', lambda x: '%.4f' % x)\n",
    "#Show altair plots in the notebook\n",
    "alt.renderers.enable('notebook')"
   ]
  },
  {
   "cell_type": "markdown",
   "metadata": {},
   "source": [
    "You have received two tables from the SAP system, which contain the information of the **material movements** in the company:\n",
    "2. The header information of the material documents are stored in the table `MKPF`.\n",
    "1. The line item information of the material documents is stored in the table `MSEG`."
   ]
  },
  {
   "cell_type": "code",
   "execution_count": 57,
   "metadata": {
    "ExecuteTime": {
     "end_time": "2018-05-11T21:57:44.570640Z",
     "start_time": "2018-05-11T21:57:43.338369Z"
    }
   },
   "outputs": [],
   "source": [
    "mkpf_table = pd.read_csv('https://raw.githubusercontent.com/mschermann/forensic_accounting/master/MKPK_EI.csv')\n",
    "mseg_table = pd.read_csv('https://raw.githubusercontent.com/mschermann/forensic_accounting/master/MSEG_EI.csv',low_memory=False)"
   ]
  },
  {
   "cell_type": "markdown",
   "metadata": {
    "ExecuteTime": {
     "end_time": "2018-05-11T04:41:25.227421Z",
     "start_time": "2018-05-11T04:41:25.221887Z"
    }
   },
   "source": [
    "## Understanding the tables"
   ]
  },
  {
   "cell_type": "markdown",
   "metadata": {},
   "source": [
    "### The MKPF table"
   ]
  },
  {
   "cell_type": "markdown",
   "metadata": {
    "ExecuteTime": {
     "end_time": "2018-05-11T04:41:43.547267Z",
     "start_time": "2018-05-11T04:41:43.535290Z"
    }
   },
   "source": [
    "For our purposes, we use the following columns from `MKPF`:\n",
    "* `MBLNR` - Contains the material document number.\n",
    "* `USNAM` - Contains the inventory employee who posted the material document."
   ]
  },
  {
   "cell_type": "markdown",
   "metadata": {},
   "source": [
    "### The MSEG table"
   ]
  },
  {
   "cell_type": "markdown",
   "metadata": {
    "ExecuteTime": {
     "end_time": "2018-05-11T04:42:32.460329Z",
     "start_time": "2018-05-11T04:42:32.445833Z"
    }
   },
   "source": [
    "For our purposes, we use the following columns from `MSEG`:\n",
    "* `MBLNR` - Contains the material document number.\n",
    "* `BWART` - Contains the movement type of the line item. This [link](https://wiki.scn.sap.com/wiki/display/ERPLO/Movement+types) contains information about the movement types.\n",
    "* `MATNR` - Contains the material id of the material moved.\n",
    "* `LGORT` - Contains the storage location.\n",
    "* `DMBTR` - Contains the value of the material movement.\n",
    "* `MENGE` - Contains the volume of the movement in units of the material. "
   ]
  },
  {
   "cell_type": "markdown",
   "metadata": {},
   "source": [
    "## Understanding the company"
   ]
  },
  {
   "cell_type": "markdown",
   "metadata": {},
   "source": [
    "After a meeting you understand that the company has four locations:\n",
    "* `DL00` - the factory in Dallas, TX\n",
    "* `MI00` - the factory in Miami, FL\n",
    "* `SD00` - the factory in San Diego, CA\n",
    "* `SC00` - the factory in Santa Clara, CA"
   ]
  },
  {
   "cell_type": "markdown",
   "metadata": {},
   "source": [
    "Furthermore, the company has the following **groups** of raw materials in its storage locations (`RM00`) across the locations in the company code `US00`. You keep a record of the groups in the following variables."
   ]
  },
  {
   "cell_type": "markdown",
   "metadata": {},
   "source": [
    "**Marvelous Materials:**\n",
    "* `ADAMANTIUM`\n",
    "* `CARBONITE`\n",
    "* `KRYPTONITE`"
   ]
  },
  {
   "cell_type": "code",
   "execution_count": 58,
   "metadata": {
    "ExecuteTime": {
     "end_time": "2018-05-11T21:57:44.586554Z",
     "start_time": "2018-05-11T21:57:44.580038Z"
    }
   },
   "outputs": [],
   "source": [
    "marvel = ['ADAMANTIUM', 'CARBONITE', 'KRYPTONITE']"
   ]
  },
  {
   "cell_type": "markdown",
   "metadata": {},
   "source": [
    "**Boring Metals:**\n",
    "* `GOLD` \n",
    "* `IRON`\n",
    "* `PALLADIUM`\n",
    "* `SILVER`"
   ]
  },
  {
   "cell_type": "code",
   "execution_count": 59,
   "metadata": {
    "ExecuteTime": {
     "end_time": "2018-05-11T21:57:44.612821Z",
     "start_time": "2018-05-11T21:57:44.602269Z"
    }
   },
   "outputs": [],
   "source": [
    "boring = ['GOLD', 'IRON', 'PALLADIUM', 'SILVER']"
   ]
  },
  {
   "cell_type": "markdown",
   "metadata": {},
   "source": [
    "**Gems:**\n",
    "* `ANGOLAN AMETHYST`\n",
    "* `AUSTRALIAN AMETHYST`\n",
    "* `BOTSWANA BLACK PE`\n",
    "* `BRITAIN BLACK PEAR`\n",
    "* `CANADIAN CRYSTAL`\n",
    "* `CONGOCRYSTAL`\n",
    "* `DIAMOND`\n",
    "* `ROMANIAN RUBY`\n",
    "* `RUBY`\n",
    "* `RUSSIAN RUBY`\n",
    "* `SA SAPPHIRE`\n",
    "* `SWISS SAPPHIRE`"
   ]
  },
  {
   "cell_type": "code",
   "execution_count": 60,
   "metadata": {
    "ExecuteTime": {
     "end_time": "2018-05-11T21:57:44.636413Z",
     "start_time": "2018-05-11T21:57:44.625416Z"
    }
   },
   "outputs": [],
   "source": [
    "gems = ['ANGOLAN AMETHYST','AUSTRALIAN AMETHYST', 'BOTSWANA BLACK PE',\\\n",
    "        'BRITAIN BLACK PEAR', 'CANADIAN CRYSTAL', 'CONGOCRYSTAL', \\\n",
    "        'DIAMOND', 'ROMANIAN RUBY', 'RUBY', \\\n",
    "        'RUSSIAN RUBY', 'SA SAPPHIRE','SWISS SAPPHIRE']"
   ]
  },
  {
   "cell_type": "markdown",
   "metadata": {},
   "source": [
    "**Essentials:**\n",
    "* `CHRONIUM`\n",
    "* `CONCRETE`\n",
    "* `ICAN HEADMASK`\n",
    "* `MAGICDUST`\n",
    "* `ORANGE`\n",
    "* `PAPER`\n",
    "* `ROSE ESSENTIAL OIL`\n",
    "* `TEST`\n",
    "* `WALLET`"
   ]
  },
  {
   "cell_type": "code",
   "execution_count": 61,
   "metadata": {
    "ExecuteTime": {
     "end_time": "2018-05-11T21:57:44.652767Z",
     "start_time": "2018-05-11T21:57:44.642285Z"
    }
   },
   "outputs": [],
   "source": [
    "essentials = ['CHRONIUM', 'CONCRETE',  'ICAN HEADMASK', \\\n",
    "              'MAGICDUST', 'ORANGE',  'PAPER', \\\n",
    "              'ROSE ESSENTIAL OIL',  'TEST', 'WALLET']"
   ]
  },
  {
   "cell_type": "markdown",
   "metadata": {},
   "source": [
    "**Consumables:**\n",
    "* `AAA LUBE` \n",
    "* `BLUEPAINT`\n",
    "* `BOLT1000`\n",
    "* `HEXNT`\n",
    "* `LIQUID`\n",
    "* `ZTESTHEXNT`"
   ]
  },
  {
   "cell_type": "code",
   "execution_count": 62,
   "metadata": {
    "ExecuteTime": {
     "end_time": "2018-05-11T21:57:44.670536Z",
     "start_time": "2018-05-11T21:57:44.659859Z"
    }
   },
   "outputs": [],
   "source": [
    "consumables = ['AAA LUBE', 'BLUEPAINT', 'BOLT1000', \\\n",
    "               'HEXNT','LIQUID','ZTESTHEXNT']"
   ]
  },
  {
   "cell_type": "markdown",
   "metadata": {},
   "source": [
    "## Your investigation"
   ]
  },
  {
   "cell_type": "markdown",
   "metadata": {},
   "source": [
    "### Reduce the tables to the relevant columns"
   ]
  },
  {
   "cell_type": "markdown",
   "metadata": {},
   "source": [
    "**Your objective:** Focus on the columns that are important to your investigation."
   ]
  },
  {
   "cell_type": "code",
   "execution_count": 63,
   "metadata": {
    "ExecuteTime": {
     "end_time": "2018-05-11T21:57:44.691177Z",
     "start_time": "2018-05-11T21:57:44.676623Z"
    }
   },
   "outputs": [],
   "source": [
    "mseg = mseg_table.loc[:,['MBLNR','BWART','MATNR','WERKS','LGORT','DMBTR','MENGE']]"
   ]
  },
  {
   "cell_type": "code",
   "execution_count": 64,
   "metadata": {
    "ExecuteTime": {
     "end_time": "2018-05-11T21:57:44.706041Z",
     "start_time": "2018-05-11T21:57:44.696076Z"
    }
   },
   "outputs": [],
   "source": [
    "mkpf = mkpf_table.loc[:,['MBLNR', 'USNAM']]"
   ]
  },
  {
   "cell_type": "code",
   "execution_count": 65,
   "metadata": {
    "ExecuteTime": {
     "end_time": "2018-05-11T21:57:44.736445Z",
     "start_time": "2018-05-11T21:57:44.712638Z"
    }
   },
   "outputs": [],
   "source": [
    "mseg = pd.merge(mseg, mkpf, how='left', on='MBLNR')"
   ]
  },
  {
   "cell_type": "markdown",
   "metadata": {},
   "source": [
    "### Include the material group information to the `MATNR` column"
   ]
  },
  {
   "cell_type": "code",
   "execution_count": 66,
   "metadata": {
    "ExecuteTime": {
     "end_time": "2018-05-11T21:57:44.782953Z",
     "start_time": "2018-05-11T21:57:44.740940Z"
    }
   },
   "outputs": [],
   "source": [
    "mseg['GROUP'] = 'MARVEL'\n",
    "mseg.loc[mseg['MATNR'].isin(boring), 'GROUP'] = 'BORING'\n",
    "mseg.loc[mseg['MATNR'].isin(gems), 'GROUP'] = 'GEMS'\n",
    "mseg.loc[mseg['MATNR'].isin(essentials), 'GROUP'] = 'ESSENTIALS'\n",
    "mseg.loc[mseg['MATNR'].isin(consumables), 'GROUP'] = 'CONSUMABLES'"
   ]
  },
  {
   "cell_type": "markdown",
   "metadata": {},
   "source": [
    "### Develop an overview of the material movements"
   ]
  },
  {
   "cell_type": "markdown",
   "metadata": {},
   "source": [
    "**Your objective:** Identify potential irregularities in the material movement data.\n",
    "\n",
    "Think along the following lines:\n",
    "\n",
    "* What are the differences between the locations?\n",
    "* What are the differences between the movement types?\n",
    "* What are the relationships between the movement types?\n",
    "\n",
    "**Please note**: You cannot have numbers as column headers."
   ]
  },
  {
   "cell_type": "code",
   "execution_count": 67,
   "metadata": {
    "ExecuteTime": {
     "end_time": "2018-05-11T21:57:44.800264Z",
     "start_time": "2018-05-11T21:57:44.787616Z"
    }
   },
   "outputs": [],
   "source": [
    "mseg['BWART'] = mseg['BWART'].map({101: 'GR', 261: 'GI', 333: 'SA', 551: 'SC'})"
   ]
  },
  {
   "cell_type": "code",
   "execution_count": 68,
   "metadata": {
    "ExecuteTime": {
     "end_time": "2018-05-11T21:57:44.841859Z",
     "start_time": "2018-05-11T21:57:44.804581Z"
    }
   },
   "outputs": [],
   "source": [
    "mseg_pivot = mseg.pivot_table(index=['WERKS','GROUP'], columns='BWART', values='MENGE', aggfunc='sum').reset_index()"
   ]
  },
  {
   "cell_type": "code",
   "execution_count": 69,
   "metadata": {
    "ExecuteTime": {
     "end_time": "2018-05-11T21:57:44.862128Z",
     "start_time": "2018-05-11T21:57:44.846991Z"
    }
   },
   "outputs": [],
   "source": [
    "mseg_pivot['utilization'] = mseg_pivot['GI'] / mseg_pivot['GR']\n",
    "mseg_pivot['scrapping'] = mseg_pivot['SC'] / mseg_pivot['GR']\n",
    "mseg_pivot['sampling'] = mseg_pivot['SA'] / mseg_pivot['GR']"
   ]
  },
  {
   "cell_type": "code",
   "execution_count": 70,
   "metadata": {
    "ExecuteTime": {
     "end_time": "2018-05-11T21:57:44.904720Z",
     "start_time": "2018-05-11T21:57:44.875140Z"
    }
   },
   "outputs": [],
   "source": [
    "h = mseg_pivot.groupby(['WERKS', 'GROUP'])\\\n",
    "[['utilization', 'scrapping', 'sampling']].mean().reset_index().\\\n",
    "sort_values('sampling', ascending=False)"
   ]
  },
  {
   "cell_type": "code",
   "execution_count": 71,
   "metadata": {
    "ExecuteTime": {
     "end_time": "2018-05-11T21:57:44.927961Z",
     "start_time": "2018-05-11T21:57:44.910435Z"
    }
   },
   "outputs": [],
   "source": [
    "h = mseg_pivot.groupby(['WERKS', 'GROUP'])\\\n",
    "[['utilization', 'scrapping', 'sampling']].mean().reset_index()"
   ]
  },
  {
   "cell_type": "code",
   "execution_count": 72,
   "metadata": {
    "ExecuteTime": {
     "end_time": "2018-05-11T21:57:44.961764Z",
     "start_time": "2018-05-11T21:57:44.932402Z"
    }
   },
   "outputs": [
    {
     "data": {
      "text/html": [
       "<div>\n",
       "<style scoped>\n",
       "    .dataframe tbody tr th:only-of-type {\n",
       "        vertical-align: middle;\n",
       "    }\n",
       "\n",
       "    .dataframe tbody tr th {\n",
       "        vertical-align: top;\n",
       "    }\n",
       "\n",
       "    .dataframe thead th {\n",
       "        text-align: right;\n",
       "    }\n",
       "</style>\n",
       "<table border=\"1\" class=\"dataframe\">\n",
       "  <thead>\n",
       "    <tr style=\"text-align: right;\">\n",
       "      <th>BWART</th>\n",
       "      <th>WERKS</th>\n",
       "      <th>GROUP</th>\n",
       "      <th>utilization</th>\n",
       "      <th>scrapping</th>\n",
       "      <th>sampling</th>\n",
       "    </tr>\n",
       "  </thead>\n",
       "  <tbody>\n",
       "    <tr>\n",
       "      <th>0</th>\n",
       "      <td>DL00</td>\n",
       "      <td>BORING</td>\n",
       "      <td>0.8840</td>\n",
       "      <td>0.0278</td>\n",
       "      <td>0.0159</td>\n",
       "    </tr>\n",
       "    <tr>\n",
       "      <th>1</th>\n",
       "      <td>DL00</td>\n",
       "      <td>CONSUMABLES</td>\n",
       "      <td>0.8820</td>\n",
       "      <td>0.0140</td>\n",
       "      <td>0.0246</td>\n",
       "    </tr>\n",
       "    <tr>\n",
       "      <th>2</th>\n",
       "      <td>DL00</td>\n",
       "      <td>ESSENTIALS</td>\n",
       "      <td>0.8845</td>\n",
       "      <td>0.0232</td>\n",
       "      <td>0.0219</td>\n",
       "    </tr>\n",
       "    <tr>\n",
       "      <th>3</th>\n",
       "      <td>DL00</td>\n",
       "      <td>GEMS</td>\n",
       "      <td>0.9039</td>\n",
       "      <td>0.0155</td>\n",
       "      <td>0.0221</td>\n",
       "    </tr>\n",
       "    <tr>\n",
       "      <th>4</th>\n",
       "      <td>DL00</td>\n",
       "      <td>MARVEL</td>\n",
       "      <td>0.8920</td>\n",
       "      <td>0.0095</td>\n",
       "      <td>0.0100</td>\n",
       "    </tr>\n",
       "    <tr>\n",
       "      <th>5</th>\n",
       "      <td>MI00</td>\n",
       "      <td>BORING</td>\n",
       "      <td>0.9127</td>\n",
       "      <td>0.0102</td>\n",
       "      <td>0.0159</td>\n",
       "    </tr>\n",
       "    <tr>\n",
       "      <th>6</th>\n",
       "      <td>MI00</td>\n",
       "      <td>CONSUMABLES</td>\n",
       "      <td>0.9217</td>\n",
       "      <td>0.0284</td>\n",
       "      <td>0.0196</td>\n",
       "    </tr>\n",
       "    <tr>\n",
       "      <th>7</th>\n",
       "      <td>MI00</td>\n",
       "      <td>ESSENTIALS</td>\n",
       "      <td>0.9146</td>\n",
       "      <td>0.0286</td>\n",
       "      <td>0.0163</td>\n",
       "    </tr>\n",
       "    <tr>\n",
       "      <th>8</th>\n",
       "      <td>MI00</td>\n",
       "      <td>GEMS</td>\n",
       "      <td>0.9225</td>\n",
       "      <td>0.0108</td>\n",
       "      <td>0.0130</td>\n",
       "    </tr>\n",
       "    <tr>\n",
       "      <th>9</th>\n",
       "      <td>MI00</td>\n",
       "      <td>MARVEL</td>\n",
       "      <td>0.9118</td>\n",
       "      <td>0.0411</td>\n",
       "      <td>0.0097</td>\n",
       "    </tr>\n",
       "    <tr>\n",
       "      <th>10</th>\n",
       "      <td>SC00</td>\n",
       "      <td>BORING</td>\n",
       "      <td>0.8849</td>\n",
       "      <td>0.0451</td>\n",
       "      <td>0.0250</td>\n",
       "    </tr>\n",
       "    <tr>\n",
       "      <th>11</th>\n",
       "      <td>SC00</td>\n",
       "      <td>CONSUMABLES</td>\n",
       "      <td>0.8959</td>\n",
       "      <td>0.0269</td>\n",
       "      <td>0.0144</td>\n",
       "    </tr>\n",
       "    <tr>\n",
       "      <th>12</th>\n",
       "      <td>SC00</td>\n",
       "      <td>ESSENTIALS</td>\n",
       "      <td>0.8822</td>\n",
       "      <td>0.0190</td>\n",
       "      <td>0.0157</td>\n",
       "    </tr>\n",
       "    <tr>\n",
       "      <th>13</th>\n",
       "      <td>SC00</td>\n",
       "      <td>GEMS</td>\n",
       "      <td>0.9056</td>\n",
       "      <td>0.0279</td>\n",
       "      <td>0.0153</td>\n",
       "    </tr>\n",
       "    <tr>\n",
       "      <th>14</th>\n",
       "      <td>SC00</td>\n",
       "      <td>MARVEL</td>\n",
       "      <td>0.8908</td>\n",
       "      <td>0.0190</td>\n",
       "      <td>0.0254</td>\n",
       "    </tr>\n",
       "    <tr>\n",
       "      <th>15</th>\n",
       "      <td>SD00</td>\n",
       "      <td>BORING</td>\n",
       "      <td>0.8860</td>\n",
       "      <td>0.0253</td>\n",
       "      <td>0.0197</td>\n",
       "    </tr>\n",
       "    <tr>\n",
       "      <th>16</th>\n",
       "      <td>SD00</td>\n",
       "      <td>CONSUMABLES</td>\n",
       "      <td>0.8893</td>\n",
       "      <td>0.0178</td>\n",
       "      <td>0.0102</td>\n",
       "    </tr>\n",
       "    <tr>\n",
       "      <th>17</th>\n",
       "      <td>SD00</td>\n",
       "      <td>ESSENTIALS</td>\n",
       "      <td>0.9206</td>\n",
       "      <td>0.0207</td>\n",
       "      <td>0.0205</td>\n",
       "    </tr>\n",
       "    <tr>\n",
       "      <th>18</th>\n",
       "      <td>SD00</td>\n",
       "      <td>GEMS</td>\n",
       "      <td>0.9334</td>\n",
       "      <td>0.0143</td>\n",
       "      <td>0.0173</td>\n",
       "    </tr>\n",
       "    <tr>\n",
       "      <th>19</th>\n",
       "      <td>SD00</td>\n",
       "      <td>MARVEL</td>\n",
       "      <td>0.9384</td>\n",
       "      <td>0.0155</td>\n",
       "      <td>0.0109</td>\n",
       "    </tr>\n",
       "  </tbody>\n",
       "</table>\n",
       "</div>"
      ],
      "text/plain": [
       "BWART WERKS        GROUP  utilization  scrapping  sampling\n",
       "0      DL00       BORING       0.8840     0.0278    0.0159\n",
       "1      DL00  CONSUMABLES       0.8820     0.0140    0.0246\n",
       "2      DL00   ESSENTIALS       0.8845     0.0232    0.0219\n",
       "3      DL00         GEMS       0.9039     0.0155    0.0221\n",
       "4      DL00       MARVEL       0.8920     0.0095    0.0100\n",
       "5      MI00       BORING       0.9127     0.0102    0.0159\n",
       "6      MI00  CONSUMABLES       0.9217     0.0284    0.0196\n",
       "7      MI00   ESSENTIALS       0.9146     0.0286    0.0163\n",
       "8      MI00         GEMS       0.9225     0.0108    0.0130\n",
       "9      MI00       MARVEL       0.9118     0.0411    0.0097\n",
       "10     SC00       BORING       0.8849     0.0451    0.0250\n",
       "11     SC00  CONSUMABLES       0.8959     0.0269    0.0144\n",
       "12     SC00   ESSENTIALS       0.8822     0.0190    0.0157\n",
       "13     SC00         GEMS       0.9056     0.0279    0.0153\n",
       "14     SC00       MARVEL       0.8908     0.0190    0.0254\n",
       "15     SD00       BORING       0.8860     0.0253    0.0197\n",
       "16     SD00  CONSUMABLES       0.8893     0.0178    0.0102\n",
       "17     SD00   ESSENTIALS       0.9206     0.0207    0.0205\n",
       "18     SD00         GEMS       0.9334     0.0143    0.0173\n",
       "19     SD00       MARVEL       0.9384     0.0155    0.0109"
      ]
     },
     "execution_count": 72,
     "metadata": {},
     "output_type": "execute_result"
    }
   ],
   "source": [
    "h"
   ]
  },
  {
   "cell_type": "code",
   "execution_count": 73,
   "metadata": {
    "ExecuteTime": {
     "end_time": "2018-05-11T21:57:45.020765Z",
     "start_time": "2018-05-11T21:57:44.967880Z"
    }
   },
   "outputs": [
    {
     "data": {
      "text/html": [
       "<div class=\"vega-embed\" id=\"f2eea82d-808b-4bd2-9c64-efdd011a5436\"></div>\n",
       "\n",
       "<style>\n",
       ".vega-embed .vega-actions > a {\n",
       "    transition: opacity 200ms ease-in;\n",
       "    opacity: 0.3;\n",
       "    margin-right: 0.6em;\n",
       "    color: #444;\n",
       "    text-decoration: none;\n",
       "}\n",
       "\n",
       ".vega-embed .vega-actions > a:hover {\n",
       "    color: #000;\n",
       "    text-decoration: underline;\n",
       "}\n",
       "\n",
       ".vega-embed:hover .vega-actions > a {\n",
       "    opacity: 1;\n",
       "    transition: 0s;\n",
       "}\n",
       "\n",
       ".vega-embed .error p {\n",
       "    color: firebrick;\n",
       "    font-size: 1.2em;\n",
       "}\n",
       "</style>\n"
      ]
     },
     "metadata": {
      "jupyter-vega3": "#f2eea82d-808b-4bd2-9c64-efdd011a5436"
     },
     "output_type": "display_data"
    },
    {
     "data": {
      "application/javascript": [
       "var spec = {\"config\": {\"view\": {\"width\": 400, \"height\": 300}}, \"data\": {\"values\": [{\"WERKS\": \"DL00\", \"GROUP\": \"BORING\", \"utilization\": 0.8839667977282656, \"scrapping\": 0.027810023091805528, \"sampling\": 0.015927104786868877}, {\"WERKS\": \"DL00\", \"GROUP\": \"CONSUMABLES\", \"utilization\": 0.881980362796179, \"scrapping\": 0.014042564874791177, \"sampling\": 0.024634152007755195}, {\"WERKS\": \"DL00\", \"GROUP\": \"ESSENTIALS\", \"utilization\": 0.8845320256689672, \"scrapping\": 0.023156556483835817, \"sampling\": 0.021891270129555638}, {\"WERKS\": \"DL00\", \"GROUP\": \"GEMS\", \"utilization\": 0.9038695842877333, \"scrapping\": 0.015497831278327405, \"sampling\": 0.02212583459232906}, {\"WERKS\": \"DL00\", \"GROUP\": \"MARVEL\", \"utilization\": 0.892024198525023, \"scrapping\": 0.009477081204665703, \"sampling\": 0.009952553895335309}, {\"WERKS\": \"MI00\", \"GROUP\": \"BORING\", \"utilization\": 0.912652589904322, \"scrapping\": 0.01020408163265306, \"sampling\": 0.015907055662911816}, {\"WERKS\": \"MI00\", \"GROUP\": \"CONSUMABLES\", \"utilization\": 0.9216676571697372, \"scrapping\": 0.028383687989432766, \"sampling\": 0.019641360888218752}, {\"WERKS\": \"MI00\", \"GROUP\": \"ESSENTIALS\", \"utilization\": 0.9145750551188949, \"scrapping\": 0.028624456596205827, \"sampling\": 0.016336368505623994}, {\"WERKS\": \"MI00\", \"GROUP\": \"GEMS\", \"utilization\": 0.9224895945312716, \"scrapping\": 0.010832713139832962, \"sampling\": 0.012955153118884203}, {\"WERKS\": \"MI00\", \"GROUP\": \"MARVEL\", \"utilization\": 0.9118120876119468, \"scrapping\": 0.04109193887672322, \"sampling\": 0.009685998092892431}, {\"WERKS\": \"SC00\", \"GROUP\": \"BORING\", \"utilization\": 0.884905131871858, \"scrapping\": 0.04505314679129012, \"sampling\": 0.02503280211112913}, {\"WERKS\": \"SC00\", \"GROUP\": \"CONSUMABLES\", \"utilization\": 0.8958756528987014, \"scrapping\": 0.02688547548086578, \"sampling\": 0.014365104330502254}, {\"WERKS\": \"SC00\", \"GROUP\": \"ESSENTIALS\", \"utilization\": 0.8821791058258754, \"scrapping\": 0.01895716249088598, \"sampling\": 0.015653531723243495}, {\"WERKS\": \"SC00\", \"GROUP\": \"GEMS\", \"utilization\": 0.9056490946125241, \"scrapping\": 0.027899762674490312, \"sampling\": 0.015286005269747539}, {\"WERKS\": \"SC00\", \"GROUP\": \"MARVEL\", \"utilization\": 0.8907814563118557, \"scrapping\": 0.019016123366161524, \"sampling\": 0.02535281220094245}, {\"WERKS\": \"SD00\", \"GROUP\": \"BORING\", \"utilization\": 0.8859575656058069, \"scrapping\": 0.025265214963707427, \"sampling\": 0.01968174204355109}, {\"WERKS\": \"SD00\", \"GROUP\": \"CONSUMABLES\", \"utilization\": 0.8892718843948639, \"scrapping\": 0.01775896351920327, \"sampling\": 0.01015856013947367}, {\"WERKS\": \"SD00\", \"GROUP\": \"ESSENTIALS\", \"utilization\": 0.9206269370887934, \"scrapping\": 0.020669077266054048, \"sampling\": 0.020471969985318906}, {\"WERKS\": \"SD00\", \"GROUP\": \"GEMS\", \"utilization\": 0.9334429963305074, \"scrapping\": 0.01429836770846514, \"sampling\": 0.017293011092833946}, {\"WERKS\": \"SD00\", \"GROUP\": \"MARVEL\", \"utilization\": 0.9384164664215231, \"scrapping\": 0.015484175199032803, \"sampling\": 0.010936143955773832}]}, \"mark\": {\"type\": \"bar\", \"stroke\": \"transparent\"}, \"encoding\": {\"column\": {\"type\": \"nominal\", \"field\": \"WERKS\"}, \"x\": {\"type\": \"nominal\", \"axis\": {\"title\": \"\"}, \"field\": \"GROUP\"}, \"y\": {\"type\": \"quantitative\", \"axis\": {\"title\": \"Utilization\"}, \"field\": \"utilization\", \"scale\": {\"domain\": [0, 1]}}}, \"$schema\": \"https://vega.github.io/schema/vega-lite/v2.3.0.json\"};\n",
       "var opt = {};\n",
       "var selector = \"#f2eea82d-808b-4bd2-9c64-efdd011a5436\";\n",
       "var type = \"vega-lite\";\n",
       "\n",
       "var output_area = this;\n",
       "\n",
       "require(['nbextensions/jupyter-vega3/index'], function(vega) {\n",
       "  vega.render(selector, spec, type, opt, output_area);\n",
       "}, function (err) {\n",
       "  if (err.requireType !== 'scripterror') {\n",
       "    throw(err);\n",
       "  }\n",
       "});\n"
      ]
     },
     "metadata": {
      "jupyter-vega3": "#f2eea82d-808b-4bd2-9c64-efdd011a5436"
     },
     "output_type": "display_data"
    },
    {
     "data": {
      "text/plain": []
     },
     "execution_count": 73,
     "metadata": {},
     "output_type": "execute_result"
    },
    {
     "data": {
      "image/png": "[encoded data removed]"
     },
     "metadata": {
      "jupyter-vega3": "#f2eea82d-808b-4bd2-9c64-efdd011a5436"
     },
     "output_type": "display_data"
    }
   ],
   "source": [
    "util = alt.Chart(h).mark_bar(stroke='transparent').encode(\n",
    "    x=alt.X('GROUP', axis=alt.Axis(title='')),\n",
    "    y=alt.Y('utilization', scale=alt.Scale(domain=(0, 1)), axis=alt.Axis(title='Utilization')),\n",
    "    column='WERKS'\n",
    ")\n",
    "util"
   ]
  },
  {
   "cell_type": "code",
   "execution_count": 74,
   "metadata": {
    "ExecuteTime": {
     "end_time": "2018-05-11T21:57:45.086214Z",
     "start_time": "2018-05-11T21:57:45.028810Z"
    }
   },
   "outputs": [
    {
     "data": {
      "text/html": [
       "<div class=\"vega-embed\" id=\"da1c56b3-2a8d-4900-98be-328359f7953a\"></div>\n",
       "\n",
       "<style>\n",
       ".vega-embed .vega-actions > a {\n",
       "    transition: opacity 200ms ease-in;\n",
       "    opacity: 0.3;\n",
       "    margin-right: 0.6em;\n",
       "    color: #444;\n",
       "    text-decoration: none;\n",
       "}\n",
       "\n",
       ".vega-embed .vega-actions > a:hover {\n",
       "    color: #000;\n",
       "    text-decoration: underline;\n",
       "}\n",
       "\n",
       ".vega-embed:hover .vega-actions > a {\n",
       "    opacity: 1;\n",
       "    transition: 0s;\n",
       "}\n",
       "\n",
       ".vega-embed .error p {\n",
       "    color: firebrick;\n",
       "    font-size: 1.2em;\n",
       "}\n",
       "</style>\n"
      ]
     },
     "metadata": {
      "jupyter-vega3": "#da1c56b3-2a8d-4900-98be-328359f7953a"
     },
     "output_type": "display_data"
    },
    {
     "data": {
      "application/javascript": [
       "var spec = {\"config\": {\"view\": {\"width\": 400, \"height\": 300}}, \"data\": {\"values\": [{\"WERKS\": \"DL00\", \"GROUP\": \"BORING\", \"utilization\": 0.8839667977282656, \"scrapping\": 0.027810023091805528, \"sampling\": 0.015927104786868877}, {\"WERKS\": \"DL00\", \"GROUP\": \"CONSUMABLES\", \"utilization\": 0.881980362796179, \"scrapping\": 0.014042564874791177, \"sampling\": 0.024634152007755195}, {\"WERKS\": \"DL00\", \"GROUP\": \"ESSENTIALS\", \"utilization\": 0.8845320256689672, \"scrapping\": 0.023156556483835817, \"sampling\": 0.021891270129555638}, {\"WERKS\": \"DL00\", \"GROUP\": \"GEMS\", \"utilization\": 0.9038695842877333, \"scrapping\": 0.015497831278327405, \"sampling\": 0.02212583459232906}, {\"WERKS\": \"DL00\", \"GROUP\": \"MARVEL\", \"utilization\": 0.892024198525023, \"scrapping\": 0.009477081204665703, \"sampling\": 0.009952553895335309}, {\"WERKS\": \"MI00\", \"GROUP\": \"BORING\", \"utilization\": 0.912652589904322, \"scrapping\": 0.01020408163265306, \"sampling\": 0.015907055662911816}, {\"WERKS\": \"MI00\", \"GROUP\": \"CONSUMABLES\", \"utilization\": 0.9216676571697372, \"scrapping\": 0.028383687989432766, \"sampling\": 0.019641360888218752}, {\"WERKS\": \"MI00\", \"GROUP\": \"ESSENTIALS\", \"utilization\": 0.9145750551188949, \"scrapping\": 0.028624456596205827, \"sampling\": 0.016336368505623994}, {\"WERKS\": \"MI00\", \"GROUP\": \"GEMS\", \"utilization\": 0.9224895945312716, \"scrapping\": 0.010832713139832962, \"sampling\": 0.012955153118884203}, {\"WERKS\": \"MI00\", \"GROUP\": \"MARVEL\", \"utilization\": 0.9118120876119468, \"scrapping\": 0.04109193887672322, \"sampling\": 0.009685998092892431}, {\"WERKS\": \"SC00\", \"GROUP\": \"BORING\", \"utilization\": 0.884905131871858, \"scrapping\": 0.04505314679129012, \"sampling\": 0.02503280211112913}, {\"WERKS\": \"SC00\", \"GROUP\": \"CONSUMABLES\", \"utilization\": 0.8958756528987014, \"scrapping\": 0.02688547548086578, \"sampling\": 0.014365104330502254}, {\"WERKS\": \"SC00\", \"GROUP\": \"ESSENTIALS\", \"utilization\": 0.8821791058258754, \"scrapping\": 0.01895716249088598, \"sampling\": 0.015653531723243495}, {\"WERKS\": \"SC00\", \"GROUP\": \"GEMS\", \"utilization\": 0.9056490946125241, \"scrapping\": 0.027899762674490312, \"sampling\": 0.015286005269747539}, {\"WERKS\": \"SC00\", \"GROUP\": \"MARVEL\", \"utilization\": 0.8907814563118557, \"scrapping\": 0.019016123366161524, \"sampling\": 0.02535281220094245}, {\"WERKS\": \"SD00\", \"GROUP\": \"BORING\", \"utilization\": 0.8859575656058069, \"scrapping\": 0.025265214963707427, \"sampling\": 0.01968174204355109}, {\"WERKS\": \"SD00\", \"GROUP\": \"CONSUMABLES\", \"utilization\": 0.8892718843948639, \"scrapping\": 0.01775896351920327, \"sampling\": 0.01015856013947367}, {\"WERKS\": \"SD00\", \"GROUP\": \"ESSENTIALS\", \"utilization\": 0.9206269370887934, \"scrapping\": 0.020669077266054048, \"sampling\": 0.020471969985318906}, {\"WERKS\": \"SD00\", \"GROUP\": \"GEMS\", \"utilization\": 0.9334429963305074, \"scrapping\": 0.01429836770846514, \"sampling\": 0.017293011092833946}, {\"WERKS\": \"SD00\", \"GROUP\": \"MARVEL\", \"utilization\": 0.9384164664215231, \"scrapping\": 0.015484175199032803, \"sampling\": 0.010936143955773832}]}, \"mark\": {\"type\": \"bar\", \"stroke\": \"transparent\"}, \"encoding\": {\"column\": {\"type\": \"nominal\", \"field\": \"WERKS\"}, \"x\": {\"type\": \"nominal\", \"axis\": {\"title\": \"\"}, \"field\": \"GROUP\"}, \"y\": {\"type\": \"quantitative\", \"axis\": {\"title\": \"Scrapping\"}, \"field\": \"scrapping\", \"scale\": {\"domain\": [0, 0.05]}}}, \"$schema\": \"https://vega.github.io/schema/vega-lite/v2.3.0.json\"};\n",
       "var opt = {};\n",
       "var selector = \"#da1c56b3-2a8d-4900-98be-328359f7953a\";\n",
       "var type = \"vega-lite\";\n",
       "\n",
       "var output_area = this;\n",
       "\n",
       "require(['nbextensions/jupyter-vega3/index'], function(vega) {\n",
       "  vega.render(selector, spec, type, opt, output_area);\n",
       "}, function (err) {\n",
       "  if (err.requireType !== 'scripterror') {\n",
       "    throw(err);\n",
       "  }\n",
       "});\n"
      ]
     },
     "metadata": {
      "jupyter-vega3": "#da1c56b3-2a8d-4900-98be-328359f7953a"
     },
     "output_type": "display_data"
    },
    {
     "data": {
      "text/plain": []
     },
     "execution_count": 74,
     "metadata": {},
     "output_type": "execute_result"
    },
    {
     "data": {
      "image/png": "[encoded data removed]"
     },
     "metadata": {
      "jupyter-vega3": "#da1c56b3-2a8d-4900-98be-328359f7953a"
     },
     "output_type": "display_data"
    }
   ],
   "source": [
    "scrap = alt.Chart(h).mark_bar(stroke='transparent').encode(\n",
    "    x=alt.X('GROUP', axis=alt.Axis(title='')),\n",
    "    y=alt.Y('scrapping', scale=alt.Scale(domain=(0, .05)), axis=alt.Axis(title='Scrapping')),\n",
    "    column='WERKS'\n",
    ")\n",
    "\n",
    "scrap"
   ]
  },
  {
   "cell_type": "code",
   "execution_count": 75,
   "metadata": {
    "ExecuteTime": {
     "end_time": "2018-05-11T21:57:45.139254Z",
     "start_time": "2018-05-11T21:57:45.091954Z"
    }
   },
   "outputs": [
    {
     "data": {
      "text/html": [
       "<div class=\"vega-embed\" id=\"ddffd2cd-992f-44cc-85a0-ca070bce0039\"></div>\n",
       "\n",
       "<style>\n",
       ".vega-embed .vega-actions > a {\n",
       "    transition: opacity 200ms ease-in;\n",
       "    opacity: 0.3;\n",
       "    margin-right: 0.6em;\n",
       "    color: #444;\n",
       "    text-decoration: none;\n",
       "}\n",
       "\n",
       ".vega-embed .vega-actions > a:hover {\n",
       "    color: #000;\n",
       "    text-decoration: underline;\n",
       "}\n",
       "\n",
       ".vega-embed:hover .vega-actions > a {\n",
       "    opacity: 1;\n",
       "    transition: 0s;\n",
       "}\n",
       "\n",
       ".vega-embed .error p {\n",
       "    color: firebrick;\n",
       "    font-size: 1.2em;\n",
       "}\n",
       "</style>\n"
      ]
     },
     "metadata": {
      "jupyter-vega3": "#ddffd2cd-992f-44cc-85a0-ca070bce0039"
     },
     "output_type": "display_data"
    },
    {
     "data": {
      "application/javascript": [
       "var spec = {\"config\": {\"view\": {\"width\": 400, \"height\": 300}}, \"data\": {\"values\": [{\"WERKS\": \"DL00\", \"GROUP\": \"BORING\", \"utilization\": 0.8839667977282656, \"scrapping\": 0.027810023091805528, \"sampling\": 0.015927104786868877}, {\"WERKS\": \"DL00\", \"GROUP\": \"CONSUMABLES\", \"utilization\": 0.881980362796179, \"scrapping\": 0.014042564874791177, \"sampling\": 0.024634152007755195}, {\"WERKS\": \"DL00\", \"GROUP\": \"ESSENTIALS\", \"utilization\": 0.8845320256689672, \"scrapping\": 0.023156556483835817, \"sampling\": 0.021891270129555638}, {\"WERKS\": \"DL00\", \"GROUP\": \"GEMS\", \"utilization\": 0.9038695842877333, \"scrapping\": 0.015497831278327405, \"sampling\": 0.02212583459232906}, {\"WERKS\": \"DL00\", \"GROUP\": \"MARVEL\", \"utilization\": 0.892024198525023, \"scrapping\": 0.009477081204665703, \"sampling\": 0.009952553895335309}, {\"WERKS\": \"MI00\", \"GROUP\": \"BORING\", \"utilization\": 0.912652589904322, \"scrapping\": 0.01020408163265306, \"sampling\": 0.015907055662911816}, {\"WERKS\": \"MI00\", \"GROUP\": \"CONSUMABLES\", \"utilization\": 0.9216676571697372, \"scrapping\": 0.028383687989432766, \"sampling\": 0.019641360888218752}, {\"WERKS\": \"MI00\", \"GROUP\": \"ESSENTIALS\", \"utilization\": 0.9145750551188949, \"scrapping\": 0.028624456596205827, \"sampling\": 0.016336368505623994}, {\"WERKS\": \"MI00\", \"GROUP\": \"GEMS\", \"utilization\": 0.9224895945312716, \"scrapping\": 0.010832713139832962, \"sampling\": 0.012955153118884203}, {\"WERKS\": \"MI00\", \"GROUP\": \"MARVEL\", \"utilization\": 0.9118120876119468, \"scrapping\": 0.04109193887672322, \"sampling\": 0.009685998092892431}, {\"WERKS\": \"SC00\", \"GROUP\": \"BORING\", \"utilization\": 0.884905131871858, \"scrapping\": 0.04505314679129012, \"sampling\": 0.02503280211112913}, {\"WERKS\": \"SC00\", \"GROUP\": \"CONSUMABLES\", \"utilization\": 0.8958756528987014, \"scrapping\": 0.02688547548086578, \"sampling\": 0.014365104330502254}, {\"WERKS\": \"SC00\", \"GROUP\": \"ESSENTIALS\", \"utilization\": 0.8821791058258754, \"scrapping\": 0.01895716249088598, \"sampling\": 0.015653531723243495}, {\"WERKS\": \"SC00\", \"GROUP\": \"GEMS\", \"utilization\": 0.9056490946125241, \"scrapping\": 0.027899762674490312, \"sampling\": 0.015286005269747539}, {\"WERKS\": \"SC00\", \"GROUP\": \"MARVEL\", \"utilization\": 0.8907814563118557, \"scrapping\": 0.019016123366161524, \"sampling\": 0.02535281220094245}, {\"WERKS\": \"SD00\", \"GROUP\": \"BORING\", \"utilization\": 0.8859575656058069, \"scrapping\": 0.025265214963707427, \"sampling\": 0.01968174204355109}, {\"WERKS\": \"SD00\", \"GROUP\": \"CONSUMABLES\", \"utilization\": 0.8892718843948639, \"scrapping\": 0.01775896351920327, \"sampling\": 0.01015856013947367}, {\"WERKS\": \"SD00\", \"GROUP\": \"ESSENTIALS\", \"utilization\": 0.9206269370887934, \"scrapping\": 0.020669077266054048, \"sampling\": 0.020471969985318906}, {\"WERKS\": \"SD00\", \"GROUP\": \"GEMS\", \"utilization\": 0.9334429963305074, \"scrapping\": 0.01429836770846514, \"sampling\": 0.017293011092833946}, {\"WERKS\": \"SD00\", \"GROUP\": \"MARVEL\", \"utilization\": 0.9384164664215231, \"scrapping\": 0.015484175199032803, \"sampling\": 0.010936143955773832}]}, \"mark\": {\"type\": \"bar\", \"stroke\": \"transparent\"}, \"encoding\": {\"column\": {\"type\": \"nominal\", \"field\": \"WERKS\"}, \"x\": {\"type\": \"nominal\", \"axis\": {\"title\": \"\"}, \"field\": \"GROUP\"}, \"y\": {\"type\": \"quantitative\", \"axis\": {\"title\": \"Sampling\"}, \"field\": \"sampling\", \"scale\": {\"domain\": [0, 0.03]}}}, \"$schema\": \"https://vega.github.io/schema/vega-lite/v2.3.0.json\"};\n",
       "var opt = {};\n",
       "var selector = \"#ddffd2cd-992f-44cc-85a0-ca070bce0039\";\n",
       "var type = \"vega-lite\";\n",
       "\n",
       "var output_area = this;\n",
       "\n",
       "require(['nbextensions/jupyter-vega3/index'], function(vega) {\n",
       "  vega.render(selector, spec, type, opt, output_area);\n",
       "}, function (err) {\n",
       "  if (err.requireType !== 'scripterror') {\n",
       "    throw(err);\n",
       "  }\n",
       "});\n"
      ]
     },
     "metadata": {
      "jupyter-vega3": "#ddffd2cd-992f-44cc-85a0-ca070bce0039"
     },
     "output_type": "display_data"
    },
    {
     "data": {
      "text/plain": []
     },
     "execution_count": 75,
     "metadata": {},
     "output_type": "execute_result"
    },
    {
     "data": {
      "image/png": "[encoded data removed]"
     },
     "metadata": {
      "jupyter-vega3": "#ddffd2cd-992f-44cc-85a0-ca070bce0039"
     },
     "output_type": "display_data"
    }
   ],
   "source": [
    "sample = alt.Chart(h).mark_bar(stroke='transparent').encode(\n",
    "    x=alt.X('GROUP', axis=alt.Axis(title='')),\n",
    "    y=alt.Y('sampling', scale=alt.Scale(domain=(0, .03)), axis=alt.Axis(title='Sampling')),\n",
    "    column='WERKS'\n",
    ")\n",
    "\n",
    "sample"
   ]
  },
  {
   "cell_type": "markdown",
   "metadata": {},
   "source": [
    "## What is the fraud?"
   ]
  },
  {
   "cell_type": "code",
   "execution_count": 76,
   "metadata": {
    "ExecuteTime": {
     "end_time": "2018-05-11T21:57:45.214998Z",
     "start_time": "2018-05-11T21:57:45.146512Z"
    }
   },
   "outputs": [],
   "source": [
    "g = mseg.groupby(['WERKS','GROUP','BWART']).agg({'MENGE':'sum','USNAM':'unique'}).reset_index()"
   ]
  },
  {
   "cell_type": "code",
   "execution_count": 77,
   "metadata": {
    "ExecuteTime": {
     "end_time": "2018-05-11T21:57:45.231319Z",
     "start_time": "2018-05-11T21:57:45.219392Z"
    }
   },
   "outputs": [],
   "source": [
    "g['USNAM_NO'] = g['USNAM'].apply(lambda x: len(x))"
   ]
  },
  {
   "cell_type": "code",
   "execution_count": 78,
   "metadata": {
    "ExecuteTime": {
     "end_time": "2018-05-11T21:57:45.261534Z",
     "start_time": "2018-05-11T21:57:45.238066Z"
    }
   },
   "outputs": [
    {
     "data": {
      "text/html": [
       "<div>\n",
       "<style scoped>\n",
       "    .dataframe tbody tr th:only-of-type {\n",
       "        vertical-align: middle;\n",
       "    }\n",
       "\n",
       "    .dataframe tbody tr th {\n",
       "        vertical-align: top;\n",
       "    }\n",
       "\n",
       "    .dataframe thead th {\n",
       "        text-align: right;\n",
       "    }\n",
       "</style>\n",
       "<table border=\"1\" class=\"dataframe\">\n",
       "  <thead>\n",
       "    <tr style=\"text-align: right;\">\n",
       "      <th></th>\n",
       "      <th>WERKS</th>\n",
       "      <th>GROUP</th>\n",
       "      <th>BWART</th>\n",
       "      <th>MENGE</th>\n",
       "      <th>USNAM</th>\n",
       "      <th>USNAM_NO</th>\n",
       "    </tr>\n",
       "  </thead>\n",
       "  <tbody>\n",
       "    <tr>\n",
       "      <th>58</th>\n",
       "      <td>SC00</td>\n",
       "      <td>MARVEL</td>\n",
       "      <td>SA</td>\n",
       "      <td>20929</td>\n",
       "      <td>[GBI-073]</td>\n",
       "      <td>1</td>\n",
       "    </tr>\n",
       "  </tbody>\n",
       "</table>\n",
       "</div>"
      ],
      "text/plain": [
       "   WERKS   GROUP BWART  MENGE      USNAM  USNAM_NO\n",
       "58  SC00  MARVEL    SA  20929  [GBI-073]         1"
      ]
     },
     "execution_count": 78,
     "metadata": {},
     "output_type": "execute_result"
    }
   ],
   "source": [
    "g[g['USNAM_NO']<3]"
   ]
  },
  {
   "cell_type": "markdown",
   "metadata": {
    "ExecuteTime": {
     "end_time": "2018-05-04T06:16:12.187499Z",
     "start_time": "2018-05-04T06:16:12.178351Z"
    }
   },
   "source": [
    "**Reflect:** Can you explain the fraud?"
   ]
  }
 ],
 "metadata": {
  "kernelspec": {
   "display_name": "Python 3",
   "language": "python",
   "name": "python3"
  },
  "language_info": {
   "codemirror_mode": {
    "name": "ipython",
    "version": 3
   },
   "file_extension": ".py",
   "mimetype": "text/x-python",
   "name": "python",
   "nbconvert_exporter": "python",
   "pygments_lexer": "ipython3",
   "version": "3.6.4"
  },
  "toc": {
   "base_numbering": 1,
   "nav_menu": {},
   "number_sections": true,
   "sideBar": true,
   "skip_h1_title": false,
   "title_cell": "Table of Contents",
   "title_sidebar": "Contents",
   "toc_cell": false,
   "toc_position": {},
   "toc_section_display": true,
   "toc_window_display": false
  },
  "varInspector": {
   "cols": {
    "lenName": 16,
    "lenType": 16,
    "lenVar": 40
   },
   "kernels_config": {
    "python": {
     "delete_cmd_postfix": "",
     "delete_cmd_prefix": "del ",
     "library": "var_list.py",
     "varRefreshCmd": "print(var_dic_list())"
    },
    "r": {
     "delete_cmd_postfix": ") ",
     "delete_cmd_prefix": "rm(",
     "library": "var_list.r",
     "varRefreshCmd": "cat(var_dic_list()) "
    }
   },
   "types_to_exclude": [
    "module",
    "function",
    "builtin_function_or_method",
    "instance",
    "_Feature"
   ],
   "window_display": false
  }
 },
 "nbformat": 4,
 "nbformat_minor": 2
}
