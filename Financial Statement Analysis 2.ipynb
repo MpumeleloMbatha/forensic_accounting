{
 "cells": [
  {
   "cell_type": "markdown",
   "metadata": {},
   "source": [
    "# Analyzing Financial Statements II"
   ]
  },
  {
   "cell_type": "markdown",
   "metadata": {},
   "source": [
    "We analyze this [dataset](https://www.sec.gov/dera/data/financial-statement-and-notes-data-set.html). \n",
    "\n",
    "Here, we compare companies using key figures from the financial statements. We compare:\n",
    "* [Apple](http://investor.apple.com/).\n",
    "* [Microsoft](https://www.microsoft.com/en-us/investor)\n",
    "* [Facebook](https://investor.fb.com/home/default.aspx)"
   ]
  },
  {
   "cell_type": "markdown",
   "metadata": {
    "ExecuteTime": {
     "end_time": "2018-04-26T22:50:25.650751Z",
     "start_time": "2018-04-26T22:50:25.644938Z"
    }
   },
   "source": [
    "## Setup"
   ]
  },
  {
   "cell_type": "markdown",
   "metadata": {
    "ExecuteTime": {
     "end_time": "2018-04-20T18:28:35.627732Z",
     "start_time": "2018-04-20T18:28:35.612855Z"
    }
   },
   "source": [
    "Some initialization to make life easier. **Make sure to run the following cell before proceeding.**"
   ]
  },
  {
   "cell_type": "code",
   "execution_count": 1,
   "metadata": {
    "ExecuteTime": {
     "end_time": "2018-05-24T19:43:18.213918Z",
     "start_time": "2018-05-24T19:43:17.324375Z"
    }
   },
   "outputs": [],
   "source": [
    "#Allow multiple outputs for each cell\n",
    "from IPython.core.interactiveshell import InteractiveShell\n",
    "InteractiveShell.ast_node_interactivity = 'all'\n",
    "#Show simple plots in the notebook\n",
    "import matplotlib.pyplot as plt\n",
    "%matplotlib inline"
   ]
  },
  {
   "cell_type": "markdown",
   "metadata": {},
   "source": [
    "We use the following libraries:\n",
    "* [Pandas](https://pandas.pydata.org) is the most important workhorse in data analytics.\n",
    "* [Altair](https://altair-viz.github.io) is a visualization library."
   ]
  },
  {
   "cell_type": "code",
   "execution_count": 2,
   "metadata": {
    "ExecuteTime": {
     "end_time": "2018-05-24T19:43:19.133662Z",
     "start_time": "2018-05-24T19:43:18.219940Z"
    }
   },
   "outputs": [],
   "source": [
    "import pandas as pd\n",
    "import altair as alt\n",
    "from altair import *\n",
    "import numpy as np\n",
    "#Show up to 500 rows\n",
    "pd.set_option('display.max_rows', 500)\n",
    "#Format number without four decimals\n",
    "pd.set_option('display.float_format', lambda x: '%.4f' % x)\n",
    "#Show altair plots in the notebook\n",
    "alt.renderers.enable('notebook')"
   ]
  },
  {
   "cell_type": "markdown",
   "metadata": {
    "ExecuteTime": {
     "end_time": "2018-05-23T17:14:37.893480Z",
     "start_time": "2018-05-23T17:14:37.885081Z"
    }
   },
   "source": [
    "## Apple"
   ]
  },
  {
   "cell_type": "markdown",
   "metadata": {
    "ExecuteTime": {
     "end_time": "2018-05-23T16:48:19.649812Z",
     "start_time": "2018-05-23T16:48:19.636520Z"
    }
   },
   "source": [
    "The `SUB` file contains the individual filings that have been **sub**mitted to the SEC."
   ]
  },
  {
   "cell_type": "code",
   "execution_count": 3,
   "metadata": {
    "ExecuteTime": {
     "end_time": "2018-05-24T19:43:19.209756Z",
     "start_time": "2018-05-24T19:43:19.136854Z"
    }
   },
   "outputs": [],
   "source": [
    "sub_ap = pd.read_csv('https://raw.githubusercontent.com/mschermann/forensic_accounting/master/apple_sub.csv')"
   ]
  },
  {
   "cell_type": "code",
   "execution_count": 4,
   "metadata": {
    "ExecuteTime": {
     "end_time": "2018-05-24T19:43:19.239445Z",
     "start_time": "2018-05-24T19:43:19.216673Z"
    }
   },
   "outputs": [],
   "source": [
    "sub_ap = sub_ap.loc[:,['adsh', 'cik', 'name', 'sic', 'fye', 'form', 'period', 'fy', 'fp', 'fs_year', 'fs_quarter']]"
   ]
  },
  {
   "cell_type": "code",
   "execution_count": 5,
   "metadata": {
    "ExecuteTime": {
     "end_time": "2018-05-24T19:43:19.255436Z",
     "start_time": "2018-05-24T19:43:19.243953Z"
    }
   },
   "outputs": [],
   "source": [
    "sub_ap = sub_ap[sub_ap['form'].isin(['10-Q','10-K'])]"
   ]
  },
  {
   "cell_type": "code",
   "execution_count": 6,
   "metadata": {
    "ExecuteTime": {
     "end_time": "2018-05-24T19:43:19.278184Z",
     "start_time": "2018-05-24T19:43:19.259300Z"
    }
   },
   "outputs": [
    {
     "data": {
      "text/plain": [
       "33"
      ]
     },
     "execution_count": 6,
     "metadata": {},
     "output_type": "execute_result"
    }
   ],
   "source": [
    "len(sub_ap)"
   ]
  },
  {
   "cell_type": "markdown",
   "metadata": {},
   "source": [
    "The `NUM` file contains \"includes one row for each distinct amount from each submission\n",
    "included in the SUB data set.\" (Source: [SEC](https://www.sec.gov/files/aqfsn_1.pdf))"
   ]
  },
  {
   "cell_type": "code",
   "execution_count": 7,
   "metadata": {
    "ExecuteTime": {
     "end_time": "2018-05-24T19:43:19.616398Z",
     "start_time": "2018-05-24T19:43:19.287991Z"
    }
   },
   "outputs": [],
   "source": [
    "num_ap = pd.read_csv('https://raw.githubusercontent.com/mschermann/forensic_accounting/master/apple_num.csv')"
   ]
  },
  {
   "cell_type": "code",
   "execution_count": 8,
   "metadata": {
    "ExecuteTime": {
     "end_time": "2018-05-24T19:43:19.637505Z",
     "start_time": "2018-05-24T19:43:19.622781Z"
    }
   },
   "outputs": [],
   "source": [
    "num_ap = num_ap[num_ap['adsh'].isin(sub_ap['adsh'])]"
   ]
  },
  {
   "cell_type": "markdown",
   "metadata": {},
   "source": [
    "Apple's financial years ends on September, 30 ([Apple](https://www.apple.com/newsroom/2017/11/apple-reports-fourth-quarter-results/)). This means that:\n",
    "* Q1 - October, 1 to December, 31.\n",
    "* Q2 - January, 1 to March, 31.\n",
    "* Q3 - April, 1 to June, 30.\n",
    "* Q4 - July, 1 to September, 30."
   ]
  },
  {
   "cell_type": "code",
   "execution_count": 9,
   "metadata": {
    "ExecuteTime": {
     "end_time": "2018-05-24T19:43:19.670526Z",
     "start_time": "2018-05-24T19:43:19.644430Z"
    }
   },
   "outputs": [],
   "source": [
    "num_ap = pd.merge(num_ap, sub_ap[['adsh', 'period']], how='left', on='adsh')"
   ]
  },
  {
   "cell_type": "markdown",
   "metadata": {},
   "source": [
    "We add the financial quarter information."
   ]
  },
  {
   "cell_type": "code",
   "execution_count": 10,
   "metadata": {
    "ExecuteTime": {
     "end_time": "2018-05-24T19:43:25.269918Z",
     "start_time": "2018-05-24T19:43:19.676821Z"
    }
   },
   "outputs": [],
   "source": [
    "num_ap['fin_quarter'] = pd.PeriodIndex(num_ap['ddate'], freq='Q-SEP')"
   ]
  },
  {
   "cell_type": "code",
   "execution_count": 11,
   "metadata": {
    "ExecuteTime": {
     "end_time": "2018-05-24T19:43:25.379448Z",
     "start_time": "2018-05-24T19:43:25.273185Z"
    }
   },
   "outputs": [
    {
     "data": {
      "text/html": [
       "<div>\n",
       "<style scoped>\n",
       "    .dataframe tbody tr th:only-of-type {\n",
       "        vertical-align: middle;\n",
       "    }\n",
       "\n",
       "    .dataframe tbody tr th {\n",
       "        vertical-align: top;\n",
       "    }\n",
       "\n",
       "    .dataframe thead th {\n",
       "        text-align: right;\n",
       "    }\n",
       "</style>\n",
       "<table border=\"1\" class=\"dataframe\">\n",
       "  <thead>\n",
       "    <tr style=\"text-align: right;\">\n",
       "      <th></th>\n",
       "      <th>adsh</th>\n",
       "      <th>tag</th>\n",
       "      <th>version</th>\n",
       "      <th>coreg</th>\n",
       "      <th>ddate</th>\n",
       "      <th>qtrs</th>\n",
       "      <th>uom</th>\n",
       "      <th>value</th>\n",
       "      <th>footnote</th>\n",
       "      <th>fs_year</th>\n",
       "      <th>fs_quarter</th>\n",
       "      <th>period</th>\n",
       "      <th>fin_quarter</th>\n",
       "    </tr>\n",
       "  </thead>\n",
       "  <tbody>\n",
       "    <tr>\n",
       "      <th>0</th>\n",
       "      <td>0001193125-14-277160</td>\n",
       "      <td>AccountsPayableCurrent</td>\n",
       "      <td>us-gaap/2014</td>\n",
       "      <td>nan</td>\n",
       "      <td>20130930</td>\n",
       "      <td>0</td>\n",
       "      <td>USD</td>\n",
       "      <td>22367000000.0000</td>\n",
       "      <td>NaN</td>\n",
       "      <td>2014</td>\n",
       "      <td>3</td>\n",
       "      <td>20140630</td>\n",
       "      <td>2013Q4</td>\n",
       "    </tr>\n",
       "    <tr>\n",
       "      <th>1</th>\n",
       "      <td>0001193125-14-277160</td>\n",
       "      <td>AccountsPayableCurrent</td>\n",
       "      <td>us-gaap/2014</td>\n",
       "      <td>nan</td>\n",
       "      <td>20140630</td>\n",
       "      <td>0</td>\n",
       "      <td>USD</td>\n",
       "      <td>20535000000.0000</td>\n",
       "      <td>NaN</td>\n",
       "      <td>2014</td>\n",
       "      <td>3</td>\n",
       "      <td>20140630</td>\n",
       "      <td>2014Q3</td>\n",
       "    </tr>\n",
       "    <tr>\n",
       "      <th>2</th>\n",
       "      <td>0001193125-14-277160</td>\n",
       "      <td>AccountsReceivableNetCurrent</td>\n",
       "      <td>us-gaap/2014</td>\n",
       "      <td>nan</td>\n",
       "      <td>20130930</td>\n",
       "      <td>0</td>\n",
       "      <td>USD</td>\n",
       "      <td>13102000000.0000</td>\n",
       "      <td>NaN</td>\n",
       "      <td>2014</td>\n",
       "      <td>3</td>\n",
       "      <td>20140630</td>\n",
       "      <td>2013Q4</td>\n",
       "    </tr>\n",
       "    <tr>\n",
       "      <th>3</th>\n",
       "      <td>0001193125-14-277160</td>\n",
       "      <td>AccountsReceivableNetCurrent</td>\n",
       "      <td>us-gaap/2014</td>\n",
       "      <td>nan</td>\n",
       "      <td>20140630</td>\n",
       "      <td>0</td>\n",
       "      <td>USD</td>\n",
       "      <td>10788000000.0000</td>\n",
       "      <td>NaN</td>\n",
       "      <td>2014</td>\n",
       "      <td>3</td>\n",
       "      <td>20140630</td>\n",
       "      <td>2014Q3</td>\n",
       "    </tr>\n",
       "    <tr>\n",
       "      <th>4</th>\n",
       "      <td>0001193125-14-277160</td>\n",
       "      <td>AccruedLiabilitiesCurrent</td>\n",
       "      <td>us-gaap/2014</td>\n",
       "      <td>nan</td>\n",
       "      <td>20130930</td>\n",
       "      <td>0</td>\n",
       "      <td>USD</td>\n",
       "      <td>13856000000.0000</td>\n",
       "      <td>NaN</td>\n",
       "      <td>2014</td>\n",
       "      <td>3</td>\n",
       "      <td>20140630</td>\n",
       "      <td>2013Q4</td>\n",
       "    </tr>\n",
       "  </tbody>\n",
       "</table>\n",
       "</div>"
      ],
      "text/plain": [
       "                   adsh                           tag       version  coreg  \\\n",
       "0  0001193125-14-277160        AccountsPayableCurrent  us-gaap/2014    nan   \n",
       "1  0001193125-14-277160        AccountsPayableCurrent  us-gaap/2014    nan   \n",
       "2  0001193125-14-277160  AccountsReceivableNetCurrent  us-gaap/2014    nan   \n",
       "3  0001193125-14-277160  AccountsReceivableNetCurrent  us-gaap/2014    nan   \n",
       "4  0001193125-14-277160     AccruedLiabilitiesCurrent  us-gaap/2014    nan   \n",
       "\n",
       "      ddate  qtrs  uom            value footnote  fs_year  fs_quarter  \\\n",
       "0  20130930     0  USD 22367000000.0000      NaN     2014           3   \n",
       "1  20140630     0  USD 20535000000.0000      NaN     2014           3   \n",
       "2  20130930     0  USD 13102000000.0000      NaN     2014           3   \n",
       "3  20140630     0  USD 10788000000.0000      NaN     2014           3   \n",
       "4  20130930     0  USD 13856000000.0000      NaN     2014           3   \n",
       "\n",
       "     period fin_quarter  \n",
       "0  20140630      2013Q4  \n",
       "1  20140630      2014Q3  \n",
       "2  20140630      2013Q4  \n",
       "3  20140630      2014Q3  \n",
       "4  20140630      2013Q4  "
      ]
     },
     "execution_count": 11,
     "metadata": {},
     "output_type": "execute_result"
    }
   ],
   "source": [
    "num_ap.head()"
   ]
  },
  {
   "cell_type": "markdown",
   "metadata": {},
   "source": [
    "## Microsoft"
   ]
  },
  {
   "cell_type": "markdown",
   "metadata": {
    "ExecuteTime": {
     "end_time": "2018-05-23T16:48:19.649812Z",
     "start_time": "2018-05-23T16:48:19.636520Z"
    }
   },
   "source": [
    "The `SUB` file contains the individual filings that have been **sub**mitted to the SEC."
   ]
  },
  {
   "cell_type": "code",
   "execution_count": 12,
   "metadata": {
    "ExecuteTime": {
     "end_time": "2018-05-24T19:43:25.437065Z",
     "start_time": "2018-05-24T19:43:25.386534Z"
    }
   },
   "outputs": [],
   "source": [
    "sub_ms = pd.read_csv('https://raw.githubusercontent.com/mschermann/forensic_accounting/master/msft_sub.csv')"
   ]
  },
  {
   "cell_type": "code",
   "execution_count": 13,
   "metadata": {
    "ExecuteTime": {
     "end_time": "2018-05-24T19:43:25.450410Z",
     "start_time": "2018-05-24T19:43:25.441194Z"
    }
   },
   "outputs": [],
   "source": [
    "sub_ms = sub_ms.loc[:,['adsh', 'cik', 'name', 'sic', 'fye', 'form', 'period', 'fy', 'fp', 'fs_year', 'fs_quarter']]"
   ]
  },
  {
   "cell_type": "markdown",
   "metadata": {},
   "source": [
    "Microsoft has published for its financial quarter Q2 of 2012 a `10-Q/A` form. We need to include this."
   ]
  },
  {
   "cell_type": "code",
   "execution_count": 14,
   "metadata": {
    "ExecuteTime": {
     "end_time": "2018-05-24T19:43:25.466592Z",
     "start_time": "2018-05-24T19:43:25.457171Z"
    }
   },
   "outputs": [],
   "source": [
    "sub_ms = sub_ms[sub_ms['form'].isin(['10-Q','10-K', '10-Q/A'])]"
   ]
  },
  {
   "cell_type": "code",
   "execution_count": 15,
   "metadata": {
    "ExecuteTime": {
     "end_time": "2018-05-24T19:43:25.482049Z",
     "start_time": "2018-05-24T19:43:25.471666Z"
    }
   },
   "outputs": [
    {
     "data": {
      "text/plain": [
       "33"
      ]
     },
     "execution_count": 15,
     "metadata": {},
     "output_type": "execute_result"
    }
   ],
   "source": [
    "len(sub_ms)"
   ]
  },
  {
   "cell_type": "markdown",
   "metadata": {},
   "source": [
    "The `NUM` file contains \"includes one row for each distinct amount from each submission\n",
    "included in the SUB data set.\" (Source: [SEC](https://www.sec.gov/files/aqfsn_1.pdf))"
   ]
  },
  {
   "cell_type": "code",
   "execution_count": 16,
   "metadata": {
    "ExecuteTime": {
     "end_time": "2018-05-24T19:43:25.814163Z",
     "start_time": "2018-05-24T19:43:25.505707Z"
    }
   },
   "outputs": [],
   "source": [
    "num_ms = pd.read_csv('https://raw.githubusercontent.com/mschermann/forensic_accounting/master/msft_num.csv')"
   ]
  },
  {
   "cell_type": "code",
   "execution_count": 17,
   "metadata": {
    "ExecuteTime": {
     "end_time": "2018-05-24T19:43:25.841311Z",
     "start_time": "2018-05-24T19:43:25.822828Z"
    }
   },
   "outputs": [],
   "source": [
    "num_ms = num_ms[num_ms['adsh'].isin(sub_ms['adsh'])]"
   ]
  },
  {
   "cell_type": "markdown",
   "metadata": {},
   "source": [
    "Microsoft's financial years ends on June, 30. This means that:\n",
    "* Q1 - July, 1 to September, 30.\n",
    "* Q2 - October, 1 to December, 31.\n",
    "* Q3 - January, 1 to March, 31.\n",
    "* Q4 - April, 1 to June, 30."
   ]
  },
  {
   "cell_type": "markdown",
   "metadata": {},
   "source": [
    "We get the reporting period from the SUB."
   ]
  },
  {
   "cell_type": "code",
   "execution_count": 18,
   "metadata": {
    "ExecuteTime": {
     "end_time": "2018-05-24T19:43:25.873165Z",
     "start_time": "2018-05-24T19:43:25.844758Z"
    }
   },
   "outputs": [],
   "source": [
    "num_ms = pd.merge(num_ms, sub_ms[['adsh', 'period']], how='left', on='adsh')"
   ]
  },
  {
   "cell_type": "markdown",
   "metadata": {},
   "source": [
    "We add the financial quarter information."
   ]
  },
  {
   "cell_type": "code",
   "execution_count": 19,
   "metadata": {
    "ExecuteTime": {
     "end_time": "2018-05-24T19:43:32.478015Z",
     "start_time": "2018-05-24T19:43:25.881633Z"
    }
   },
   "outputs": [],
   "source": [
    "num_ms['fin_quarter'] = pd.PeriodIndex(num_ms['ddate'], freq='Q-JUN')"
   ]
  },
  {
   "cell_type": "code",
   "execution_count": 20,
   "metadata": {
    "ExecuteTime": {
     "end_time": "2018-05-24T19:43:32.522582Z",
     "start_time": "2018-05-24T19:43:32.480523Z"
    }
   },
   "outputs": [
    {
     "data": {
      "text/html": [
       "<div>\n",
       "<style scoped>\n",
       "    .dataframe tbody tr th:only-of-type {\n",
       "        vertical-align: middle;\n",
       "    }\n",
       "\n",
       "    .dataframe tbody tr th {\n",
       "        vertical-align: top;\n",
       "    }\n",
       "\n",
       "    .dataframe thead th {\n",
       "        text-align: right;\n",
       "    }\n",
       "</style>\n",
       "<table border=\"1\" class=\"dataframe\">\n",
       "  <thead>\n",
       "    <tr style=\"text-align: right;\">\n",
       "      <th></th>\n",
       "      <th>adsh</th>\n",
       "      <th>tag</th>\n",
       "      <th>version</th>\n",
       "      <th>coreg</th>\n",
       "      <th>ddate</th>\n",
       "      <th>qtrs</th>\n",
       "      <th>uom</th>\n",
       "      <th>value</th>\n",
       "      <th>footnote</th>\n",
       "      <th>fs_year</th>\n",
       "      <th>fs_quarter</th>\n",
       "      <th>period</th>\n",
       "      <th>fin_quarter</th>\n",
       "    </tr>\n",
       "  </thead>\n",
       "  <tbody>\n",
       "    <tr>\n",
       "      <th>0</th>\n",
       "      <td>0001193125-14-289961</td>\n",
       "      <td>AccumulatedOtherComprehensiveIncomeLossNetOfTax</td>\n",
       "      <td>us-gaap/2013</td>\n",
       "      <td>nan</td>\n",
       "      <td>20120630</td>\n",
       "      <td>0</td>\n",
       "      <td>USD</td>\n",
       "      <td>1422000000.0000</td>\n",
       "      <td>NaN</td>\n",
       "      <td>2014</td>\n",
       "      <td>3</td>\n",
       "      <td>20140630</td>\n",
       "      <td>2012Q4</td>\n",
       "    </tr>\n",
       "    <tr>\n",
       "      <th>1</th>\n",
       "      <td>0001193125-14-289961</td>\n",
       "      <td>AccumulatedOtherComprehensiveIncomeLossNetOfTax</td>\n",
       "      <td>us-gaap/2013</td>\n",
       "      <td>nan</td>\n",
       "      <td>20130630</td>\n",
       "      <td>0</td>\n",
       "      <td>USD</td>\n",
       "      <td>1743000000.0000</td>\n",
       "      <td>NaN</td>\n",
       "      <td>2014</td>\n",
       "      <td>3</td>\n",
       "      <td>20140630</td>\n",
       "      <td>2013Q4</td>\n",
       "    </tr>\n",
       "    <tr>\n",
       "      <th>2</th>\n",
       "      <td>0001193125-14-289961</td>\n",
       "      <td>AccumulatedOtherComprehensiveIncomeLossNetOfTax</td>\n",
       "      <td>us-gaap/2013</td>\n",
       "      <td>nan</td>\n",
       "      <td>20140630</td>\n",
       "      <td>0</td>\n",
       "      <td>USD</td>\n",
       "      <td>3708000000.0000</td>\n",
       "      <td>NaN</td>\n",
       "      <td>2014</td>\n",
       "      <td>3</td>\n",
       "      <td>20140630</td>\n",
       "      <td>2014Q4</td>\n",
       "    </tr>\n",
       "    <tr>\n",
       "      <th>3</th>\n",
       "      <td>0001193125-14-289961</td>\n",
       "      <td>Assets</td>\n",
       "      <td>us-gaap/2013</td>\n",
       "      <td>nan</td>\n",
       "      <td>20130630</td>\n",
       "      <td>0</td>\n",
       "      <td>USD</td>\n",
       "      <td>142431000000.0000</td>\n",
       "      <td>NaN</td>\n",
       "      <td>2014</td>\n",
       "      <td>3</td>\n",
       "      <td>20140630</td>\n",
       "      <td>2013Q4</td>\n",
       "    </tr>\n",
       "    <tr>\n",
       "      <th>4</th>\n",
       "      <td>0001193125-14-289961</td>\n",
       "      <td>Assets</td>\n",
       "      <td>us-gaap/2013</td>\n",
       "      <td>nan</td>\n",
       "      <td>20140630</td>\n",
       "      <td>0</td>\n",
       "      <td>USD</td>\n",
       "      <td>172384000000.0000</td>\n",
       "      <td>NaN</td>\n",
       "      <td>2014</td>\n",
       "      <td>3</td>\n",
       "      <td>20140630</td>\n",
       "      <td>2014Q4</td>\n",
       "    </tr>\n",
       "  </tbody>\n",
       "</table>\n",
       "</div>"
      ],
      "text/plain": [
       "                   adsh                                              tag  \\\n",
       "0  0001193125-14-289961  AccumulatedOtherComprehensiveIncomeLossNetOfTax   \n",
       "1  0001193125-14-289961  AccumulatedOtherComprehensiveIncomeLossNetOfTax   \n",
       "2  0001193125-14-289961  AccumulatedOtherComprehensiveIncomeLossNetOfTax   \n",
       "3  0001193125-14-289961                                           Assets   \n",
       "4  0001193125-14-289961                                           Assets   \n",
       "\n",
       "        version  coreg     ddate  qtrs  uom             value footnote  \\\n",
       "0  us-gaap/2013    nan  20120630     0  USD   1422000000.0000      NaN   \n",
       "1  us-gaap/2013    nan  20130630     0  USD   1743000000.0000      NaN   \n",
       "2  us-gaap/2013    nan  20140630     0  USD   3708000000.0000      NaN   \n",
       "3  us-gaap/2013    nan  20130630     0  USD 142431000000.0000      NaN   \n",
       "4  us-gaap/2013    nan  20140630     0  USD 172384000000.0000      NaN   \n",
       "\n",
       "   fs_year  fs_quarter    period fin_quarter  \n",
       "0     2014           3  20140630      2012Q4  \n",
       "1     2014           3  20140630      2013Q4  \n",
       "2     2014           3  20140630      2014Q4  \n",
       "3     2014           3  20140630      2013Q4  \n",
       "4     2014           3  20140630      2014Q4  "
      ]
     },
     "execution_count": 20,
     "metadata": {},
     "output_type": "execute_result"
    }
   ],
   "source": [
    "num_ms.head()"
   ]
  },
  {
   "cell_type": "markdown",
   "metadata": {},
   "source": [
    "## Facebook"
   ]
  },
  {
   "cell_type": "markdown",
   "metadata": {
    "ExecuteTime": {
     "end_time": "2018-05-23T16:48:19.649812Z",
     "start_time": "2018-05-23T16:48:19.636520Z"
    }
   },
   "source": [
    "The `SUB` file contains the individual filings that have been **sub**mitted to the SEC."
   ]
  },
  {
   "cell_type": "code",
   "execution_count": 21,
   "metadata": {
    "ExecuteTime": {
     "end_time": "2018-05-24T19:43:32.603456Z",
     "start_time": "2018-05-24T19:43:32.529140Z"
    }
   },
   "outputs": [],
   "source": [
    "sub_fb = pd.read_csv('https://raw.githubusercontent.com/mschermann/forensic_accounting/master/fb_sub.csv')"
   ]
  },
  {
   "cell_type": "code",
   "execution_count": 22,
   "metadata": {
    "ExecuteTime": {
     "end_time": "2018-05-24T19:43:32.621724Z",
     "start_time": "2018-05-24T19:43:32.613795Z"
    }
   },
   "outputs": [],
   "source": [
    "sub_fb = sub_fb.loc[:,['adsh', 'cik', 'name', 'sic', 'fye', 'form', 'period', 'fy', 'fp', 'fs_year', 'fs_quarter']]"
   ]
  },
  {
   "cell_type": "code",
   "execution_count": 23,
   "metadata": {
    "ExecuteTime": {
     "end_time": "2018-05-24T19:43:32.640425Z",
     "start_time": "2018-05-24T19:43:32.633689Z"
    }
   },
   "outputs": [],
   "source": [
    "sub_fb = sub_fb[sub_fb['form'].isin(['10-Q','10-K'])]"
   ]
  },
  {
   "cell_type": "code",
   "execution_count": 24,
   "metadata": {
    "ExecuteTime": {
     "end_time": "2018-05-24T19:43:32.654119Z",
     "start_time": "2018-05-24T19:43:32.646312Z"
    }
   },
   "outputs": [
    {
     "data": {
      "text/plain": [
       "23"
      ]
     },
     "execution_count": 24,
     "metadata": {},
     "output_type": "execute_result"
    }
   ],
   "source": [
    "len(sub_fb)"
   ]
  },
  {
   "cell_type": "markdown",
   "metadata": {},
   "source": [
    "The `NUM` file contains \"includes one row for each distinct amount from each submission\n",
    "included in the SUB data set.\" (Source: [SEC](https://www.sec.gov/files/aqfsn_1.pdf))"
   ]
  },
  {
   "cell_type": "code",
   "execution_count": 25,
   "metadata": {
    "ExecuteTime": {
     "end_time": "2018-05-24T19:43:32.893296Z",
     "start_time": "2018-05-24T19:43:32.660601Z"
    }
   },
   "outputs": [],
   "source": [
    "num_fb = pd.read_csv('https://raw.githubusercontent.com/mschermann/forensic_accounting/master/fb_num.csv')"
   ]
  },
  {
   "cell_type": "code",
   "execution_count": 26,
   "metadata": {
    "ExecuteTime": {
     "end_time": "2018-05-24T19:43:32.926883Z",
     "start_time": "2018-05-24T19:43:32.911206Z"
    }
   },
   "outputs": [],
   "source": [
    "num_fb = num_fb[num_fb['adsh'].isin(sub_fb['adsh'])]"
   ]
  },
  {
   "cell_type": "markdown",
   "metadata": {},
   "source": [
    "Facebook's financial years ends on December, 31. This means that:\n",
    "* Q1- January, 1 to March, 31.\n",
    "* Q2 - April, 1 to June, 30.\n",
    "* Q3 - July, 1 to September, 30.\n",
    "* Q4 - October, 1 to December, 31."
   ]
  },
  {
   "cell_type": "markdown",
   "metadata": {},
   "source": [
    "We get the reporting period from the SUB."
   ]
  },
  {
   "cell_type": "code",
   "execution_count": 27,
   "metadata": {
    "ExecuteTime": {
     "end_time": "2018-05-24T19:43:32.961835Z",
     "start_time": "2018-05-24T19:43:32.938173Z"
    }
   },
   "outputs": [],
   "source": [
    "num_fb = pd.merge(num_fb, sub_fb[['adsh', 'period']], how='left', on='adsh')"
   ]
  },
  {
   "cell_type": "markdown",
   "metadata": {},
   "source": [
    "We add the financial quarter information."
   ]
  },
  {
   "cell_type": "code",
   "execution_count": 28,
   "metadata": {
    "ExecuteTime": {
     "end_time": "2018-05-24T19:43:35.271558Z",
     "start_time": "2018-05-24T19:43:32.974809Z"
    }
   },
   "outputs": [],
   "source": [
    "num_fb['fin_quarter'] = pd.PeriodIndex(num_fb['ddate'], freq='Q-DEC')"
   ]
  },
  {
   "cell_type": "code",
   "execution_count": 29,
   "metadata": {
    "ExecuteTime": {
     "end_time": "2018-05-24T19:43:35.313662Z",
     "start_time": "2018-05-24T19:43:35.276717Z"
    }
   },
   "outputs": [
    {
     "data": {
      "text/html": [
       "<div>\n",
       "<style scoped>\n",
       "    .dataframe tbody tr th:only-of-type {\n",
       "        vertical-align: middle;\n",
       "    }\n",
       "\n",
       "    .dataframe tbody tr th {\n",
       "        vertical-align: top;\n",
       "    }\n",
       "\n",
       "    .dataframe thead th {\n",
       "        text-align: right;\n",
       "    }\n",
       "</style>\n",
       "<table border=\"1\" class=\"dataframe\">\n",
       "  <thead>\n",
       "    <tr style=\"text-align: right;\">\n",
       "      <th></th>\n",
       "      <th>adsh</th>\n",
       "      <th>tag</th>\n",
       "      <th>version</th>\n",
       "      <th>coreg</th>\n",
       "      <th>ddate</th>\n",
       "      <th>qtrs</th>\n",
       "      <th>uom</th>\n",
       "      <th>value</th>\n",
       "      <th>footnote</th>\n",
       "      <th>fs_year</th>\n",
       "      <th>fs_quarter</th>\n",
       "      <th>period</th>\n",
       "      <th>fin_quarter</th>\n",
       "    </tr>\n",
       "  </thead>\n",
       "  <tbody>\n",
       "    <tr>\n",
       "      <th>0</th>\n",
       "      <td>0001326801-14-000032</td>\n",
       "      <td>AccumulatedOtherComprehensiveIncomeLossNetOfTax</td>\n",
       "      <td>us-gaap/2013</td>\n",
       "      <td>nan</td>\n",
       "      <td>20131231</td>\n",
       "      <td>0</td>\n",
       "      <td>USD</td>\n",
       "      <td>14000000.0000</td>\n",
       "      <td>NaN</td>\n",
       "      <td>2014</td>\n",
       "      <td>3</td>\n",
       "      <td>20140630</td>\n",
       "      <td>2013Q4</td>\n",
       "    </tr>\n",
       "    <tr>\n",
       "      <th>1</th>\n",
       "      <td>0001326801-14-000032</td>\n",
       "      <td>AccumulatedOtherComprehensiveIncomeLossNetOfTax</td>\n",
       "      <td>us-gaap/2013</td>\n",
       "      <td>nan</td>\n",
       "      <td>20140630</td>\n",
       "      <td>0</td>\n",
       "      <td>USD</td>\n",
       "      <td>-5000000.0000</td>\n",
       "      <td>NaN</td>\n",
       "      <td>2014</td>\n",
       "      <td>3</td>\n",
       "      <td>20140630</td>\n",
       "      <td>2014Q2</td>\n",
       "    </tr>\n",
       "    <tr>\n",
       "      <th>2</th>\n",
       "      <td>0001326801-14-000032</td>\n",
       "      <td>Assets</td>\n",
       "      <td>us-gaap/2013</td>\n",
       "      <td>nan</td>\n",
       "      <td>20131231</td>\n",
       "      <td>0</td>\n",
       "      <td>USD</td>\n",
       "      <td>17895000000.0000</td>\n",
       "      <td>NaN</td>\n",
       "      <td>2014</td>\n",
       "      <td>3</td>\n",
       "      <td>20140630</td>\n",
       "      <td>2013Q4</td>\n",
       "    </tr>\n",
       "    <tr>\n",
       "      <th>3</th>\n",
       "      <td>0001326801-14-000032</td>\n",
       "      <td>Assets</td>\n",
       "      <td>us-gaap/2013</td>\n",
       "      <td>nan</td>\n",
       "      <td>20140630</td>\n",
       "      <td>0</td>\n",
       "      <td>USD</td>\n",
       "      <td>20769000000.0000</td>\n",
       "      <td>NaN</td>\n",
       "      <td>2014</td>\n",
       "      <td>3</td>\n",
       "      <td>20140630</td>\n",
       "      <td>2014Q2</td>\n",
       "    </tr>\n",
       "    <tr>\n",
       "      <th>4</th>\n",
       "      <td>0001326801-14-000032</td>\n",
       "      <td>CommonStockParOrStatedValuePerShare</td>\n",
       "      <td>us-gaap/2013</td>\n",
       "      <td>nan</td>\n",
       "      <td>20131231</td>\n",
       "      <td>0</td>\n",
       "      <td>USD</td>\n",
       "      <td>0.0000</td>\n",
       "      <td>NaN</td>\n",
       "      <td>2014</td>\n",
       "      <td>3</td>\n",
       "      <td>20140630</td>\n",
       "      <td>2013Q4</td>\n",
       "    </tr>\n",
       "  </tbody>\n",
       "</table>\n",
       "</div>"
      ],
      "text/plain": [
       "                   adsh                                              tag  \\\n",
       "0  0001326801-14-000032  AccumulatedOtherComprehensiveIncomeLossNetOfTax   \n",
       "1  0001326801-14-000032  AccumulatedOtherComprehensiveIncomeLossNetOfTax   \n",
       "2  0001326801-14-000032                                           Assets   \n",
       "3  0001326801-14-000032                                           Assets   \n",
       "4  0001326801-14-000032              CommonStockParOrStatedValuePerShare   \n",
       "\n",
       "        version  coreg     ddate  qtrs  uom            value footnote  \\\n",
       "0  us-gaap/2013    nan  20131231     0  USD    14000000.0000      NaN   \n",
       "1  us-gaap/2013    nan  20140630     0  USD    -5000000.0000      NaN   \n",
       "2  us-gaap/2013    nan  20131231     0  USD 17895000000.0000      NaN   \n",
       "3  us-gaap/2013    nan  20140630     0  USD 20769000000.0000      NaN   \n",
       "4  us-gaap/2013    nan  20131231     0  USD           0.0000      NaN   \n",
       "\n",
       "   fs_year  fs_quarter    period fin_quarter  \n",
       "0     2014           3  20140630      2013Q4  \n",
       "1     2014           3  20140630      2014Q2  \n",
       "2     2014           3  20140630      2013Q4  \n",
       "3     2014           3  20140630      2014Q2  \n",
       "4     2014           3  20140630      2013Q4  "
      ]
     },
     "execution_count": 29,
     "metadata": {},
     "output_type": "execute_result"
    }
   ],
   "source": [
    "num_fb.head()"
   ]
  },
  {
   "cell_type": "markdown",
   "metadata": {},
   "source": [
    "## Analysis"
   ]
  },
  {
   "cell_type": "markdown",
   "metadata": {},
   "source": [
    "We need to filter the comparison values. A financial statement typically contains a comparison period to shows the performance of the company. Since we analyze multiple periods, we do not need the comparison values."
   ]
  },
  {
   "cell_type": "code",
   "execution_count": 30,
   "metadata": {
    "ExecuteTime": {
     "end_time": "2018-05-24T19:43:35.357829Z",
     "start_time": "2018-05-24T19:43:35.321089Z"
    }
   },
   "outputs": [],
   "source": [
    "num_ap = num_ap[num_ap['ddate']==num_ap['period']]\n",
    "num_ms = num_ms[num_ms['ddate']==num_ms['period']]\n",
    "num_fb = num_fb[num_fb['ddate']==num_fb['period']]"
   ]
  },
  {
   "cell_type": "markdown",
   "metadata": {},
   "source": [
    "We want to use the financial quarter on the x-Axis of our visualizations. However, currently, `fin_quarter` is a TimePeriod object, which cannot be used for this purpose. Thus, we have to transform it into a string."
   ]
  },
  {
   "cell_type": "code",
   "execution_count": 31,
   "metadata": {
    "ExecuteTime": {
     "end_time": "2018-05-24T19:43:35.788665Z",
     "start_time": "2018-05-24T19:43:35.361960Z"
    }
   },
   "outputs": [],
   "source": [
    "num_ap['fin_quarter_viz'] = num_ap['fin_quarter'].dt.strftime('%F-Q%q')\n",
    "num_ms['fin_quarter_viz'] = num_ms['fin_quarter'].dt.strftime('%F-Q%q')\n",
    "num_fb['fin_quarter_viz'] = num_fb['fin_quarter'].dt.strftime('%F-Q%q')"
   ]
  },
  {
   "cell_type": "markdown",
   "metadata": {},
   "source": [
    "It is important to understand that elements in the financial statement represents a value at given point in time. This is represented by the field `qtrs`. A `0` means that it is a value for a given point in time. Any value larger than `0` refers to the number of quarters. The sales revenue refers to a quarter. Thus, we have to filter for the quarterly value (`qtrs` = `1`)"
   ]
  },
  {
   "cell_type": "markdown",
   "metadata": {},
   "source": [
    "## Gross Profit Margin"
   ]
  },
  {
   "cell_type": "markdown",
   "metadata": {},
   "source": [
    "We calculate the quarterly [gross profit margin](https://en.wikipedia.org/wiki/Gross_margin) as follows:\n",
    "\\begin{equation*}\n",
    "Quarterly \\ Gross \\ Profit \\ Margin = \\frac{(Quarterly \\ Sales \\ Revenue - Quarterly \\ Cost \\ of \\ Goods \\ Sold)}{Quarterly \\ Sales \\ Revenue}\n",
    "\\end{equation*}"
   ]
  },
  {
   "cell_type": "markdown",
   "metadata": {},
   "source": [
    "All three companies have different business models and will thus report revenues and sales slightly different:\n",
    "* The latest financial statement from Apple in the dataset is [here](https://www.sec.gov/Archives/edgar/data/320193/000032019318000007/a10-qq1201812302017.htm#s4529F16351385620912BDEFE85B7EB71).\n",
    "* The latest financial statement from Microsoft in the dataset is [here](https://www.sec.gov/Archives/edgar/data/789019/000156459018001129/msft-10q_20171231.htm#INCOME_STATEMENTS).\n",
    "* The latest financial statement from Facebook in the dataset is [here](https://www.sec.gov/Archives/edgar/data/1326801/000132680118000032/fb-03312018x10q.htm#s627D0E15307D56CB957478A0192B894D)."
   ]
  },
  {
   "cell_type": "markdown",
   "metadata": {},
   "source": [
    "### Obtain the Quarterly Sales Revenue"
   ]
  },
  {
   "cell_type": "code",
   "execution_count": 32,
   "metadata": {
    "ExecuteTime": {
     "end_time": "2018-05-24T19:43:35.841851Z",
     "start_time": "2018-05-24T19:43:35.792347Z"
    }
   },
   "outputs": [],
   "source": [
    "sales_ap = num_ap[(num_ap['tag'].str.contains('SalesRevenueNet')) & (num_ap['qtrs']==1)].copy()\n",
    "sales_ms = num_ms[((num_ms['tag'].str.contains('SalesRevenueNet')|(num_ms['tag'].str.contains('Revenues'))))\\\n",
    "                   & (num_ms['qtrs']==1)].copy()\n",
    "sales_fb = num_fb[(num_fb['tag'].str.contains('Revenues')) & (num_fb['qtrs']==1)].copy()"
   ]
  },
  {
   "cell_type": "markdown",
   "metadata": {},
   "source": [
    "### Adjustment for Shift in Microsoft's Financial Year"
   ]
  },
  {
   "cell_type": "markdown",
   "metadata": {},
   "source": [
    "Because of the shift in Microsoft's financial year, we are missing the quarter `Q1` of 2010. However, the dataset provides the cumulative revenues for `Q1` and `Q2`. Thus, we replace the values."
   ]
  },
  {
   "cell_type": "code",
   "execution_count": 33,
   "metadata": {
    "ExecuteTime": {
     "end_time": "2018-05-24T19:43:35.854817Z",
     "start_time": "2018-05-24T19:43:35.844954Z"
    }
   },
   "outputs": [],
   "source": [
    "sales_ms.drop(sales_ms[sales_ms['adsh'] == '0001193125-10-015598'].index, inplace=True)"
   ]
  },
  {
   "cell_type": "code",
   "execution_count": 34,
   "metadata": {
    "ExecuteTime": {
     "end_time": "2018-05-24T19:43:35.895818Z",
     "start_time": "2018-05-24T19:43:35.866038Z"
    }
   },
   "outputs": [],
   "source": [
    "sales_ms = sales_ms.append(num_ms[(num_ms['tag'].str.contains('Revenues')) & \\\n",
    "       (num_ms['adsh'] == '0001193125-10-015598') & \\\n",
    "       (num_ms['qtrs']==2)].copy())"
   ]
  },
  {
   "cell_type": "markdown",
   "metadata": {},
   "source": [
    "### Obtain the Cost of Goods Sold"
   ]
  },
  {
   "cell_type": "code",
   "execution_count": 35,
   "metadata": {
    "ExecuteTime": {
     "end_time": "2018-05-24T19:43:35.941043Z",
     "start_time": "2018-05-24T19:43:35.903432Z"
    }
   },
   "outputs": [],
   "source": [
    "cogs_ap = num_ap[(num_ap['tag'].str.contains('CostOfGoodsAndServicesSold')) & (num_ap['qtrs']==1)].copy()\n",
    "cogs_ms = num_ms[(num_ms['tag'].str.contains('CostOfRevenue')) & (num_ms['qtrs']==1)].copy()\n",
    "cogs_fb = num_fb[(num_fb['tag'].str.contains('CostOfRevenue')) & (num_fb['qtrs']==1)].copy()"
   ]
  },
  {
   "cell_type": "markdown",
   "metadata": {
    "ExecuteTime": {
     "end_time": "2018-05-24T19:41:14.272699Z",
     "start_time": "2018-05-24T19:41:14.264986Z"
    }
   },
   "source": [
    "### Adjustment for Shift in Microsoft's Financial Year"
   ]
  },
  {
   "cell_type": "code",
   "execution_count": 36,
   "metadata": {
    "ExecuteTime": {
     "end_time": "2018-05-24T19:43:35.951071Z",
     "start_time": "2018-05-24T19:43:35.943710Z"
    }
   },
   "outputs": [],
   "source": [
    "cogs_ms.drop(cogs_ms[cogs_ms['adsh'] == '0001193125-10-015598'].index, inplace=True)"
   ]
  },
  {
   "cell_type": "code",
   "execution_count": 37,
   "metadata": {
    "ExecuteTime": {
     "end_time": "2018-05-24T19:43:35.994973Z",
     "start_time": "2018-05-24T19:43:35.968689Z"
    }
   },
   "outputs": [],
   "source": [
    "cogs_ms = cogs_ms.append(num_ms[(num_ms['tag'].str.contains('CostOfRevenue')) & \\\n",
    "       (num_ms['adsh'] == '0001193125-10-015598') & \\\n",
    "       (num_ms['qtrs']==2)].copy())"
   ]
  },
  {
   "cell_type": "markdown",
   "metadata": {},
   "source": [
    "### Adjustment for Apple's Fourth Quarter Reports"
   ]
  },
  {
   "cell_type": "markdown",
   "metadata": {},
   "source": [
    "Apple reports a consolidated figure of its `CostOfGoodsAndServicesSold`. This figure includes also the `CostOfGoodsAndServicesSold` from the previous quarters. We have to adjust this figure and than include it in our data set."
   ]
  },
  {
   "cell_type": "code",
   "execution_count": 38,
   "metadata": {
    "ExecuteTime": {
     "end_time": "2018-05-24T19:43:36.032580Z",
     "start_time": "2018-05-24T19:43:36.008264Z"
    }
   },
   "outputs": [],
   "source": [
    "ap_q4 = num_ap[(num_ap['tag'].str.contains('CostOfGoodsAndServicesSold')) & (num_ap['qtrs']==4)].copy()\n",
    "ap_q4['fin_year'] = ap_q4['fin_quarter_viz'].str[0:4]\n",
    "ap_q4 = ap_q4.sort_values('fin_year')"
   ]
  },
  {
   "cell_type": "code",
   "execution_count": 39,
   "metadata": {
    "ExecuteTime": {
     "end_time": "2018-05-24T19:43:36.072816Z",
     "start_time": "2018-05-24T19:43:36.039180Z"
    }
   },
   "outputs": [],
   "source": [
    "ap_q4 = ap_q4.merge(cogs_ap.groupby(cogs_ap['fin_quarter_viz'].str[0:4])['value'].sum().reset_index(), \\\n",
    "                    left_on='fin_year', \\\n",
    "                    right_on='fin_quarter_viz',\\\n",
    "                    suffixes=['_q4','_q13'])"
   ]
  },
  {
   "cell_type": "code",
   "execution_count": 40,
   "metadata": {
    "ExecuteTime": {
     "end_time": "2018-05-24T19:43:36.396696Z",
     "start_time": "2018-05-24T19:43:36.077626Z"
    }
   },
   "outputs": [],
   "source": [
    "ap_q4['value'] = ap_q4['value_q4'] - ap_q4['value_q13']"
   ]
  },
  {
   "cell_type": "code",
   "execution_count": 41,
   "metadata": {
    "ExecuteTime": {
     "end_time": "2018-05-24T19:43:36.411431Z",
     "start_time": "2018-05-24T19:43:36.400625Z"
    }
   },
   "outputs": [],
   "source": [
    "ap_q4.drop(['value_q4','fin_year', 'fin_quarter_viz_q13','value_q13'], axis=1, inplace=True)"
   ]
  },
  {
   "cell_type": "code",
   "execution_count": 42,
   "metadata": {
    "ExecuteTime": {
     "end_time": "2018-05-24T19:43:36.430410Z",
     "start_time": "2018-05-24T19:43:36.418691Z"
    }
   },
   "outputs": [],
   "source": [
    "ap_q4.rename(columns={'fin_quarter_viz_q4': 'fin_quarter_viz'}, inplace=True)"
   ]
  },
  {
   "cell_type": "code",
   "execution_count": 43,
   "metadata": {
    "ExecuteTime": {
     "end_time": "2018-05-24T19:43:36.466113Z",
     "start_time": "2018-05-24T19:43:36.441930Z"
    }
   },
   "outputs": [],
   "source": [
    "cogs_ap = cogs_ap.append(ap_q4)"
   ]
  },
  {
   "cell_type": "code",
   "execution_count": 44,
   "metadata": {
    "ExecuteTime": {
     "end_time": "2018-05-24T19:43:36.486720Z",
     "start_time": "2018-05-24T19:43:36.471286Z"
    }
   },
   "outputs": [
    {
     "data": {
      "text/plain": [
       "33"
      ]
     },
     "execution_count": 44,
     "metadata": {},
     "output_type": "execute_result"
    }
   ],
   "source": [
    "len(cogs_ap)"
   ]
  },
  {
   "cell_type": "markdown",
   "metadata": {},
   "source": [
    "### Adjustment for Microsoft's Fourth Quarter Reports"
   ]
  },
  {
   "cell_type": "markdown",
   "metadata": {},
   "source": [
    "We observe the same issue with Microsoft's fourth quarter reports."
   ]
  },
  {
   "cell_type": "code",
   "execution_count": 45,
   "metadata": {
    "ExecuteTime": {
     "end_time": "2018-05-24T19:43:36.511850Z",
     "start_time": "2018-05-24T19:43:36.491830Z"
    }
   },
   "outputs": [],
   "source": [
    "ms_q4 = num_ms[(num_ms['tag'].str.contains('CostOfRevenue')) & (num_ms['qtrs']==4)].copy()"
   ]
  },
  {
   "cell_type": "code",
   "execution_count": 46,
   "metadata": {
    "ExecuteTime": {
     "end_time": "2018-05-24T19:43:36.542666Z",
     "start_time": "2018-05-24T19:43:36.514982Z"
    }
   },
   "outputs": [],
   "source": [
    "ms_q4['fin_year'] = ms_q4['fin_quarter_viz'].str[0:4]\n",
    "ms_q4 = ms_q4.sort_values('fin_year')"
   ]
  },
  {
   "cell_type": "code",
   "execution_count": 47,
   "metadata": {
    "ExecuteTime": {
     "end_time": "2018-05-24T19:43:36.572144Z",
     "start_time": "2018-05-24T19:43:36.550866Z"
    }
   },
   "outputs": [],
   "source": [
    "ms_q4 = ms_q4.merge(cogs_ms.groupby(cogs_ms['fin_quarter_viz'].str[0:4])['value'].sum().reset_index(), \\\n",
    "                    left_on='fin_year', \\\n",
    "                    right_on='fin_quarter_viz',\\\n",
    "                    suffixes=['_q4','_q13'])"
   ]
  },
  {
   "cell_type": "code",
   "execution_count": 48,
   "metadata": {
    "ExecuteTime": {
     "end_time": "2018-05-24T19:43:36.582386Z",
     "start_time": "2018-05-24T19:43:36.575590Z"
    }
   },
   "outputs": [],
   "source": [
    "ms_q4['value'] = ms_q4['value_q4'] - ms_q4['value_q13']"
   ]
  },
  {
   "cell_type": "code",
   "execution_count": 49,
   "metadata": {
    "ExecuteTime": {
     "end_time": "2018-05-24T19:43:36.598713Z",
     "start_time": "2018-05-24T19:43:36.589239Z"
    }
   },
   "outputs": [],
   "source": [
    "ms_q4.drop(['value_q4','fin_year', 'fin_quarter_viz_q13','value_q13'], axis=1, inplace=True)"
   ]
  },
  {
   "cell_type": "code",
   "execution_count": 50,
   "metadata": {
    "ExecuteTime": {
     "end_time": "2018-05-24T19:43:36.612972Z",
     "start_time": "2018-05-24T19:43:36.606996Z"
    }
   },
   "outputs": [],
   "source": [
    "ms_q4.rename(columns={'fin_quarter_viz_q4': 'fin_quarter_viz'}, inplace=True)"
   ]
  },
  {
   "cell_type": "code",
   "execution_count": 51,
   "metadata": {
    "ExecuteTime": {
     "end_time": "2018-05-24T19:43:36.630962Z",
     "start_time": "2018-05-24T19:43:36.619055Z"
    }
   },
   "outputs": [],
   "source": [
    "cogs_ms = cogs_ms.append(ms_q4)"
   ]
  },
  {
   "cell_type": "code",
   "execution_count": 52,
   "metadata": {
    "ExecuteTime": {
     "end_time": "2018-05-24T19:43:36.647874Z",
     "start_time": "2018-05-24T19:43:36.639359Z"
    }
   },
   "outputs": [
    {
     "data": {
      "text/plain": [
       "33"
      ]
     },
     "execution_count": 52,
     "metadata": {},
     "output_type": "execute_result"
    }
   ],
   "source": [
    "len(cogs_ms)"
   ]
  },
  {
   "cell_type": "markdown",
   "metadata": {
    "ExecuteTime": {
     "end_time": "2018-05-24T19:15:33.446252Z",
     "start_time": "2018-05-24T19:15:33.438390Z"
    }
   },
   "source": [
    "### Adjustment for Facebook's Fourth Quarter Reports"
   ]
  },
  {
   "cell_type": "markdown",
   "metadata": {},
   "source": [
    "Facebook has this issue for both, the `CostOfRevenue` and the `Revenue` figures."
   ]
  },
  {
   "cell_type": "code",
   "execution_count": 53,
   "metadata": {
    "ExecuteTime": {
     "end_time": "2018-05-24T19:43:36.667204Z",
     "start_time": "2018-05-24T19:43:36.653764Z"
    }
   },
   "outputs": [],
   "source": [
    "fb_r_q4 = num_fb[(num_fb['tag'].str.contains('Revenues')) & (num_fb['qtrs']==4)].copy()"
   ]
  },
  {
   "cell_type": "code",
   "execution_count": 54,
   "metadata": {
    "ExecuteTime": {
     "end_time": "2018-05-24T19:43:36.688177Z",
     "start_time": "2018-05-24T19:43:36.677402Z"
    }
   },
   "outputs": [],
   "source": [
    "fb_r_q4['fin_year'] = fb_r_q4['fin_quarter_viz'].str[0:4]\n",
    "fb_r_q4 = fb_r_q4.sort_values('fin_year')"
   ]
  },
  {
   "cell_type": "code",
   "execution_count": 55,
   "metadata": {
    "ExecuteTime": {
     "end_time": "2018-05-24T19:43:36.741414Z",
     "start_time": "2018-05-24T19:43:36.703847Z"
    }
   },
   "outputs": [],
   "source": [
    "fb_r_q4 = fb_r_q4.merge(sales_fb.groupby(sales_fb['fin_quarter_viz'].str[0:4])['value'].sum().reset_index(), \\\n",
    "                    left_on='fin_year', \\\n",
    "                    right_on='fin_quarter_viz',\\\n",
    "                    suffixes=['_q4','_q13'])"
   ]
  },
  {
   "cell_type": "code",
   "execution_count": 56,
   "metadata": {
    "ExecuteTime": {
     "end_time": "2018-05-24T19:43:36.753712Z",
     "start_time": "2018-05-24T19:43:36.745108Z"
    }
   },
   "outputs": [],
   "source": [
    "fb_r_q4['value'] = fb_r_q4['value_q4'] - fb_r_q4['value_q13']"
   ]
  },
  {
   "cell_type": "code",
   "execution_count": 57,
   "metadata": {
    "ExecuteTime": {
     "end_time": "2018-05-24T19:43:36.771595Z",
     "start_time": "2018-05-24T19:43:36.760368Z"
    }
   },
   "outputs": [],
   "source": [
    "fb_r_q4.drop(['value_q4','fin_year', 'fin_quarter_viz_q13','value_q13'], axis=1, inplace=True)"
   ]
  },
  {
   "cell_type": "code",
   "execution_count": 58,
   "metadata": {
    "ExecuteTime": {
     "end_time": "2018-05-24T19:43:36.791945Z",
     "start_time": "2018-05-24T19:43:36.781753Z"
    }
   },
   "outputs": [],
   "source": [
    "fb_r_q4.rename(columns={'fin_quarter_viz_q4': 'fin_quarter_viz'}, inplace=True)"
   ]
  },
  {
   "cell_type": "code",
   "execution_count": 59,
   "metadata": {
    "ExecuteTime": {
     "end_time": "2018-05-24T19:43:36.808115Z",
     "start_time": "2018-05-24T19:43:36.797971Z"
    }
   },
   "outputs": [],
   "source": [
    "sales_fb = sales_fb.append(fb_r_q4)"
   ]
  },
  {
   "cell_type": "code",
   "execution_count": 60,
   "metadata": {
    "ExecuteTime": {
     "end_time": "2018-05-24T19:43:36.827989Z",
     "start_time": "2018-05-24T19:43:36.819322Z"
    }
   },
   "outputs": [
    {
     "data": {
      "text/plain": [
       "23"
      ]
     },
     "execution_count": 60,
     "metadata": {},
     "output_type": "execute_result"
    }
   ],
   "source": [
    "len(sales_fb)"
   ]
  },
  {
   "cell_type": "code",
   "execution_count": 61,
   "metadata": {
    "ExecuteTime": {
     "end_time": "2018-05-24T19:43:36.847423Z",
     "start_time": "2018-05-24T19:43:36.835615Z"
    }
   },
   "outputs": [],
   "source": [
    "fb_q4 = num_fb[(num_fb['tag'].str.contains('CostOfRevenue')) & (num_fb['qtrs']==4)].copy()"
   ]
  },
  {
   "cell_type": "code",
   "execution_count": 62,
   "metadata": {
    "ExecuteTime": {
     "end_time": "2018-05-24T19:43:36.865042Z",
     "start_time": "2018-05-24T19:43:36.854528Z"
    }
   },
   "outputs": [],
   "source": [
    "fb_q4['fin_year'] = fb_q4['fin_quarter_viz'].str[0:4]\n",
    "fb_q4 = fb_q4.sort_values('fin_year')"
   ]
  },
  {
   "cell_type": "code",
   "execution_count": 63,
   "metadata": {
    "ExecuteTime": {
     "end_time": "2018-05-24T19:43:36.893607Z",
     "start_time": "2018-05-24T19:43:36.873014Z"
    }
   },
   "outputs": [],
   "source": [
    "fb_q4 = fb_q4.merge(cogs_fb.groupby(cogs_fb['fin_quarter_viz'].str[0:4])['value'].sum().reset_index(), \\\n",
    "                    left_on='fin_year', \\\n",
    "                    right_on='fin_quarter_viz',\\\n",
    "                    suffixes=['_q4','_q13'])"
   ]
  },
  {
   "cell_type": "code",
   "execution_count": 64,
   "metadata": {
    "ExecuteTime": {
     "end_time": "2018-05-24T19:43:36.908076Z",
     "start_time": "2018-05-24T19:43:36.900027Z"
    }
   },
   "outputs": [],
   "source": [
    "fb_q4['value'] = fb_q4['value_q4'] - fb_q4['value_q13']"
   ]
  },
  {
   "cell_type": "code",
   "execution_count": 65,
   "metadata": {
    "ExecuteTime": {
     "end_time": "2018-05-24T19:43:36.927170Z",
     "start_time": "2018-05-24T19:43:36.916470Z"
    }
   },
   "outputs": [],
   "source": [
    "fb_q4.drop(['value_q4','fin_year', 'fin_quarter_viz_q13','value_q13'], axis=1, inplace=True)"
   ]
  },
  {
   "cell_type": "code",
   "execution_count": 66,
   "metadata": {
    "ExecuteTime": {
     "end_time": "2018-05-24T19:43:36.941188Z",
     "start_time": "2018-05-24T19:43:36.934061Z"
    }
   },
   "outputs": [],
   "source": [
    "fb_q4.rename(columns={'fin_quarter_viz_q4': 'fin_quarter_viz'}, inplace=True)"
   ]
  },
  {
   "cell_type": "code",
   "execution_count": 67,
   "metadata": {
    "ExecuteTime": {
     "end_time": "2018-05-24T19:43:36.964913Z",
     "start_time": "2018-05-24T19:43:36.947347Z"
    }
   },
   "outputs": [],
   "source": [
    "cogs_fb = cogs_fb.append(fb_q4)"
   ]
  },
  {
   "cell_type": "code",
   "execution_count": 68,
   "metadata": {
    "ExecuteTime": {
     "end_time": "2018-05-24T19:43:36.982813Z",
     "start_time": "2018-05-24T19:43:36.973742Z"
    }
   },
   "outputs": [
    {
     "data": {
      "text/plain": [
       "23"
      ]
     },
     "execution_count": 68,
     "metadata": {},
     "output_type": "execute_result"
    }
   ],
   "source": [
    "len(cogs_fb)"
   ]
  },
  {
   "cell_type": "markdown",
   "metadata": {},
   "source": [
    "### Merge of adjusted datasets"
   ]
  },
  {
   "cell_type": "code",
   "execution_count": 69,
   "metadata": {
    "ExecuteTime": {
     "end_time": "2018-05-24T19:43:37.050046Z",
     "start_time": "2018-05-24T19:43:36.990147Z"
    }
   },
   "outputs": [],
   "source": [
    "gpm_ap = pd.merge(sales_ap.loc[:, ['adsh', 'tag', 'value', 'fin_quarter_viz']], \\\n",
    "               cogs_ap.loc[:, ['adsh', 'tag', 'value', 'fin_quarter_viz']], \\\n",
    "               how='left', on=['adsh', 'fin_quarter_viz'], \\\n",
    "               suffixes=('_sales', '_cogs')).sort_values('fin_quarter_viz')\n",
    "gpm_ms = pd.merge(sales_ms.loc[:, ['adsh', 'tag', 'value', 'fin_quarter_viz']], \\\n",
    "               cogs_ms.loc[:, ['adsh', 'tag', 'value', 'fin_quarter_viz']], \\\n",
    "               how='left', on=['adsh', 'fin_quarter_viz'], \\\n",
    "               suffixes=('_sales', '_cogs')).sort_values('fin_quarter_viz')\n",
    "gpm_fb = pd.merge(sales_fb.loc[:, ['adsh', 'tag', 'value', 'fin_quarter_viz']], \\\n",
    "               cogs_fb.loc[:, ['adsh', 'tag', 'value', 'fin_quarter_viz']], \\\n",
    "               how='left', on=['adsh', 'fin_quarter_viz'], \\\n",
    "               suffixes=('_sales', '_cogs')).sort_values('fin_quarter_viz')"
   ]
  },
  {
   "cell_type": "code",
   "execution_count": 70,
   "metadata": {
    "ExecuteTime": {
     "end_time": "2018-05-24T19:43:37.061966Z",
     "start_time": "2018-05-24T19:43:37.054002Z"
    }
   },
   "outputs": [],
   "source": [
    "gpm_ap['company'] = 'AAPL'\n",
    "gpm_ms['company'] = 'MSFT'\n",
    "gpm_fb['company'] = 'FB'"
   ]
  },
  {
   "cell_type": "code",
   "execution_count": 71,
   "metadata": {
    "ExecuteTime": {
     "end_time": "2018-05-24T19:43:37.141057Z",
     "start_time": "2018-05-24T19:43:37.068458Z"
    }
   },
   "outputs": [],
   "source": [
    "gpm = gpm_ap.append(gpm_ms).append(gpm_fb)"
   ]
  },
  {
   "cell_type": "code",
   "execution_count": 72,
   "metadata": {
    "ExecuteTime": {
     "end_time": "2018-05-24T19:43:37.159088Z",
     "start_time": "2018-05-24T19:43:37.148275Z"
    }
   },
   "outputs": [],
   "source": [
    "gpm['margin'] = (gpm['value_sales'] - gpm['value_cogs'])/gpm['value_sales']"
   ]
  },
  {
   "cell_type": "markdown",
   "metadata": {},
   "source": [
    "### Chart of Gross Profit Margin"
   ]
  },
  {
   "cell_type": "code",
   "execution_count": 73,
   "metadata": {
    "ExecuteTime": {
     "end_time": "2018-05-24T19:43:37.286067Z",
     "start_time": "2018-05-24T19:43:37.165591Z"
    }
   },
   "outputs": [
    {
     "data": {
      "text/html": [
       "<div class=\"vega-embed\" id=\"b999d6de-5a51-47c0-9c5d-cc53b137528a\"></div>\n",
       "\n",
       "<style>\n",
       ".vega-embed .vega-actions > a {\n",
       "    transition: opacity 200ms ease-in;\n",
       "    opacity: 0.3;\n",
       "    margin-right: 0.6em;\n",
       "    color: #444;\n",
       "    text-decoration: none;\n",
       "}\n",
       "\n",
       ".vega-embed .vega-actions > a:hover {\n",
       "    color: #000;\n",
       "    text-decoration: underline;\n",
       "}\n",
       "\n",
       ".vega-embed:hover .vega-actions > a {\n",
       "    opacity: 1;\n",
       "    transition: 0s;\n",
       "}\n",
       "\n",
       ".vega-embed .error p {\n",
       "    color: firebrick;\n",
       "    font-size: 1.2em;\n",
       "}\n",
       "</style>\n"
      ]
     },
     "metadata": {
      "jupyter-vega3": "#b999d6de-5a51-47c0-9c5d-cc53b137528a"
     },
     "output_type": "display_data"
    },
    {
     "data": {
      "application/javascript": [
       "var spec = {\"config\": {\"view\": {\"width\": 400, \"height\": 300}}, \"layer\": [{\"mark\": \"line\", \"encoding\": {\"color\": {\"type\": \"nominal\", \"field\": \"company\"}, \"x\": {\"type\": \"nominal\", \"axis\": {\"title\": \"Financial Quarter\"}, \"field\": \"fin_quarter_viz\"}, \"y\": {\"type\": \"quantitative\", \"axis\": {\"title\": \"Gross Profit Margin\"}, \"field\": \"margin\"}}}, {\"mark\": \"point\", \"encoding\": {\"opacity\": {\"value\": 0}, \"x\": {\"type\": \"nominal\", \"field\": \"fin_quarter_viz\"}}, \"selection\": {\"selector001\": {\"type\": \"single\", \"nearest\": true, \"on\": \"mouseover\", \"fields\": [\"fin_quarter_viz\"], \"empty\": \"none\"}}}, {\"mark\": \"point\", \"encoding\": {\"color\": {\"type\": \"nominal\", \"field\": \"company\"}, \"opacity\": {\"condition\": {\"value\": 1, \"selection\": \"selector001\"}, \"value\": 0}, \"x\": {\"type\": \"nominal\", \"axis\": {\"title\": \"Financial Quarter\"}, \"field\": \"fin_quarter_viz\"}, \"y\": {\"type\": \"quantitative\", \"axis\": {\"title\": \"Gross Profit Margin\"}, \"field\": \"margin\"}}}, {\"mark\": {\"type\": \"rule\", \"color\": \"gray\"}, \"encoding\": {\"x\": {\"type\": \"nominal\", \"field\": \"fin_quarter_viz\"}}, \"transform\": [{\"filter\": {\"selection\": \"selector001\"}}]}, {\"mark\": {\"type\": \"text\", \"align\": \"left\", \"dx\": 5, \"dy\": -5}, \"encoding\": {\"color\": {\"type\": \"nominal\", \"field\": \"company\"}, \"text\": {\"condition\": {\"type\": \"quantitative\", \"field\": \"margin\", \"selection\": \"selector001\"}, \"value\": \" \"}, \"x\": {\"type\": \"nominal\", \"axis\": {\"title\": \"Financial Quarter\"}, \"field\": \"fin_quarter_viz\"}, \"y\": {\"type\": \"quantitative\", \"axis\": {\"title\": \"Gross Profit Margin\"}, \"field\": \"margin\"}}}], \"data\": {\"values\": [{\"margin\": 0.41, \"fin_quarter_viz\": \"2010-Q1\", \"company\": \"AAPL\"}, {\"margin\": 0.42, \"fin_quarter_viz\": \"2010-Q2\", \"company\": \"AAPL\"}, {\"margin\": 0.39, \"fin_quarter_viz\": \"2010-Q3\", \"company\": \"AAPL\"}, {\"margin\": 0.37, \"fin_quarter_viz\": \"2010-Q4\", \"company\": \"AAPL\"}, {\"margin\": 0.39, \"fin_quarter_viz\": \"2011-Q1\", \"company\": \"AAPL\"}, {\"margin\": 0.41, \"fin_quarter_viz\": \"2011-Q2\", \"company\": \"AAPL\"}, {\"margin\": 0.42, \"fin_quarter_viz\": \"2011-Q3\", \"company\": \"AAPL\"}, {\"margin\": 0.4, \"fin_quarter_viz\": \"2011-Q4\", \"company\": \"AAPL\"}, {\"margin\": 0.45, \"fin_quarter_viz\": \"2012-Q1\", \"company\": \"AAPL\"}, {\"margin\": 0.47, \"fin_quarter_viz\": \"2012-Q2\", \"company\": \"AAPL\"}, {\"margin\": 0.43, \"fin_quarter_viz\": \"2012-Q3\", \"company\": \"AAPL\"}, {\"margin\": 0.4, \"fin_quarter_viz\": \"2012-Q4\", \"company\": \"AAPL\"}, {\"margin\": 0.39, \"fin_quarter_viz\": \"2013-Q1\", \"company\": \"AAPL\"}, {\"margin\": 0.37, \"fin_quarter_viz\": \"2013-Q2\", \"company\": \"AAPL\"}, {\"margin\": 0.37, \"fin_quarter_viz\": \"2013-Q3\", \"company\": \"AAPL\"}, {\"margin\": 0.37, \"fin_quarter_viz\": \"2013-Q4\", \"company\": \"AAPL\"}, {\"margin\": 0.38, \"fin_quarter_viz\": \"2014-Q1\", \"company\": \"AAPL\"}, {\"margin\": 0.39, \"fin_quarter_viz\": \"2014-Q2\", \"company\": \"AAPL\"}, {\"margin\": 0.39, \"fin_quarter_viz\": \"2014-Q3\", \"company\": \"AAPL\"}, {\"margin\": 0.38, \"fin_quarter_viz\": \"2014-Q4\", \"company\": \"AAPL\"}, {\"margin\": 0.4, \"fin_quarter_viz\": \"2015-Q1\", \"company\": \"AAPL\"}, {\"margin\": 0.41, \"fin_quarter_viz\": \"2015-Q2\", \"company\": \"AAPL\"}, {\"margin\": 0.4, \"fin_quarter_viz\": \"2015-Q3\", \"company\": \"AAPL\"}, {\"margin\": 0.4, \"fin_quarter_viz\": \"2015-Q4\", \"company\": \"AAPL\"}, {\"margin\": 0.4, \"fin_quarter_viz\": \"2016-Q1\", \"company\": \"AAPL\"}, {\"margin\": 0.39, \"fin_quarter_viz\": \"2016-Q2\", \"company\": \"AAPL\"}, {\"margin\": 0.38, \"fin_quarter_viz\": \"2016-Q3\", \"company\": \"AAPL\"}, {\"margin\": 0.38, \"fin_quarter_viz\": \"2016-Q4\", \"company\": \"AAPL\"}, {\"margin\": 0.39, \"fin_quarter_viz\": \"2017-Q1\", \"company\": \"AAPL\"}, {\"margin\": 0.39, \"fin_quarter_viz\": \"2017-Q2\", \"company\": \"AAPL\"}, {\"margin\": 0.39, \"fin_quarter_viz\": \"2017-Q3\", \"company\": \"AAPL\"}, {\"margin\": 0.38, \"fin_quarter_viz\": \"2017-Q4\", \"company\": \"AAPL\"}, {\"margin\": 0.38, \"fin_quarter_viz\": \"2018-Q1\", \"company\": \"AAPL\"}, {\"margin\": 0.8, \"fin_quarter_viz\": \"2010-Q2\", \"company\": \"MSFT\"}, {\"margin\": 0.81, \"fin_quarter_viz\": \"2010-Q3\", \"company\": \"MSFT\"}, {\"margin\": 0.8, \"fin_quarter_viz\": \"2010-Q4\", \"company\": \"MSFT\"}, {\"margin\": 0.81, \"fin_quarter_viz\": \"2011-Q1\", \"company\": \"MSFT\"}, {\"margin\": 0.76, \"fin_quarter_viz\": \"2011-Q2\", \"company\": \"MSFT\"}, {\"margin\": 0.76, \"fin_quarter_viz\": \"2011-Q3\", \"company\": \"MSFT\"}, {\"margin\": 0.79, \"fin_quarter_viz\": \"2011-Q4\", \"company\": \"MSFT\"}, {\"margin\": 0.78, \"fin_quarter_viz\": \"2012-Q1\", \"company\": \"MSFT\"}, {\"margin\": 0.73, \"fin_quarter_viz\": \"2012-Q2\", \"company\": \"MSFT\"}, {\"margin\": 0.77, \"fin_quarter_viz\": \"2012-Q3\", \"company\": \"MSFT\"}, {\"margin\": 0.77, \"fin_quarter_viz\": \"2012-Q4\", \"company\": \"MSFT\"}, {\"margin\": 0.74, \"fin_quarter_viz\": \"2013-Q1\", \"company\": \"MSFT\"}, {\"margin\": 0.73, \"fin_quarter_viz\": \"2013-Q2\", \"company\": \"MSFT\"}, {\"margin\": 0.77, \"fin_quarter_viz\": \"2013-Q3\", \"company\": \"MSFT\"}, {\"margin\": 0.72, \"fin_quarter_viz\": \"2013-Q4\", \"company\": \"MSFT\"}, {\"margin\": 0.72, \"fin_quarter_viz\": \"2014-Q1\", \"company\": \"MSFT\"}, {\"margin\": 0.66, \"fin_quarter_viz\": \"2014-Q2\", \"company\": \"MSFT\"}, {\"margin\": 0.71, \"fin_quarter_viz\": \"2014-Q3\", \"company\": \"MSFT\"}, {\"margin\": 0.68, \"fin_quarter_viz\": \"2014-Q4\", \"company\": \"MSFT\"}, {\"margin\": 0.64, \"fin_quarter_viz\": \"2015-Q1\", \"company\": \"MSFT\"}, {\"margin\": 0.62, \"fin_quarter_viz\": \"2015-Q2\", \"company\": \"MSFT\"}, {\"margin\": 0.67, \"fin_quarter_viz\": \"2015-Q3\", \"company\": \"MSFT\"}, {\"margin\": 0.66, \"fin_quarter_viz\": \"2015-Q4\", \"company\": \"MSFT\"}, {\"margin\": 0.65, \"fin_quarter_viz\": \"2016-Q1\", \"company\": \"MSFT\"}, {\"margin\": 0.59, \"fin_quarter_viz\": \"2016-Q2\", \"company\": \"MSFT\"}, {\"margin\": 0.62, \"fin_quarter_viz\": \"2016-Q3\", \"company\": \"MSFT\"}, {\"margin\": 0.61, \"fin_quarter_viz\": \"2016-Q4\", \"company\": \"MSFT\"}, {\"margin\": 0.62, \"fin_quarter_viz\": \"2017-Q1\", \"company\": \"MSFT\"}, {\"margin\": 0.59, \"fin_quarter_viz\": \"2017-Q2\", \"company\": \"MSFT\"}, {\"margin\": 0.64, \"fin_quarter_viz\": \"2017-Q3\", \"company\": \"MSFT\"}, {\"margin\": 0.64, \"fin_quarter_viz\": \"2017-Q4\", \"company\": \"MSFT\"}, {\"margin\": 0.66, \"fin_quarter_viz\": \"2018-Q1\", \"company\": \"MSFT\"}, {\"margin\": 0.62, \"fin_quarter_viz\": \"2018-Q2\", \"company\": \"MSFT\"}, {\"margin\": 0.69, \"fin_quarter_viz\": \"2012-Q2\", \"company\": \"FB\"}, {\"margin\": 0.74, \"fin_quarter_viz\": \"2012-Q3\", \"company\": \"FB\"}, {\"margin\": 0.74, \"fin_quarter_viz\": \"2012-Q4\", \"company\": \"FB\"}, {\"margin\": 0.72, \"fin_quarter_viz\": \"2013-Q1\", \"company\": \"FB\"}, {\"margin\": 0.74, \"fin_quarter_viz\": \"2013-Q2\", \"company\": \"FB\"}, {\"margin\": 0.75, \"fin_quarter_viz\": \"2013-Q3\", \"company\": \"FB\"}, {\"margin\": 0.81, \"fin_quarter_viz\": \"2013-Q4\", \"company\": \"FB\"}, {\"margin\": 0.82, \"fin_quarter_viz\": \"2014-Q1\", \"company\": \"FB\"}, {\"margin\": 0.84, \"fin_quarter_viz\": \"2014-Q2\", \"company\": \"FB\"}, {\"margin\": 0.82, \"fin_quarter_viz\": \"2014-Q3\", \"company\": \"FB\"}, {\"margin\": 0.83, \"fin_quarter_viz\": \"2014-Q4\", \"company\": \"FB\"}, {\"margin\": 0.82, \"fin_quarter_viz\": \"2015-Q1\", \"company\": \"FB\"}, {\"margin\": 0.83, \"fin_quarter_viz\": \"2015-Q2\", \"company\": \"FB\"}, {\"margin\": 0.84, \"fin_quarter_viz\": \"2015-Q3\", \"company\": \"FB\"}, {\"margin\": 0.86, \"fin_quarter_viz\": \"2015-Q4\", \"company\": \"FB\"}, {\"margin\": 0.84, \"fin_quarter_viz\": \"2016-Q1\", \"company\": \"FB\"}, {\"margin\": 0.86, \"fin_quarter_viz\": \"2016-Q2\", \"company\": \"FB\"}, {\"margin\": 0.86, \"fin_quarter_viz\": \"2016-Q3\", \"company\": \"FB\"}, {\"margin\": 0.88, \"fin_quarter_viz\": \"2016-Q4\", \"company\": \"FB\"}, {\"margin\": 0.86, \"fin_quarter_viz\": \"2017-Q1\", \"company\": \"FB\"}, {\"margin\": 0.87, \"fin_quarter_viz\": \"2017-Q2\", \"company\": \"FB\"}, {\"margin\": 0.86, \"fin_quarter_viz\": \"2017-Q3\", \"company\": \"FB\"}, {\"margin\": 0.88, \"fin_quarter_viz\": \"2017-Q4\", \"company\": \"FB\"}]}, \"height\": 300, \"width\": 600, \"$schema\": \"https://vega.github.io/schema/vega-lite/v2.3.0.json\"};\n",
       "var opt = {};\n",
       "var selector = \"#b999d6de-5a51-47c0-9c5d-cc53b137528a\";\n",
       "var type = \"vega-lite\";\n",
       "\n",
       "var output_area = this;\n",
       "\n",
       "require(['nbextensions/jupyter-vega3/index'], function(vega) {\n",
       "  vega.render(selector, spec, type, opt, output_area);\n",
       "}, function (err) {\n",
       "  if (err.requireType !== 'scripterror') {\n",
       "    throw(err);\n",
       "  }\n",
       "});\n"
      ]
     },
     "metadata": {
      "jupyter-vega3": "#b999d6de-5a51-47c0-9c5d-cc53b137528a"
     },
     "output_type": "display_data"
    },
    {
     "data": {
      "text/plain": []
     },
     "execution_count": 73,
     "metadata": {},
     "output_type": "execute_result"
    },
    {
     "data": {
      "image/png": "[encoded data removed]"
     },
     "metadata": {
      "jupyter-vega3": "#b999d6de-5a51-47c0-9c5d-cc53b137528a"
     },
     "output_type": "display_data"
    }
   ],
   "source": [
    "## Source: https://altair-viz.github.io/gallery/multiline_tooltip.html\n",
    "\n",
    "gpm['margin'] = round(gpm['margin'],2)\n",
    "\n",
    "# Create a selection that chooses the nearest point & selects based on x-value\n",
    "nearest = alt.selection(type='single', nearest=True, on='mouseover',\n",
    "                        fields=['fin_quarter_viz'], empty='none')\n",
    "\n",
    "gpm_chart = alt.Chart().mark_line().encode(\n",
    "    x=alt.X('fin_quarter_viz', axis=alt.Axis(title='Financial Quarter')),\n",
    "    y=alt.Y('margin', axis=alt.Axis(title='Gross Profit Margin')),\n",
    "    color = 'company'\n",
    ")\n",
    "\n",
    "# Transparent selectors across the chart. This is what tells us\n",
    "# the x-value of the cursor\n",
    "selectors = alt.Chart().mark_point().encode(\n",
    "    x='fin_quarter_viz',\n",
    "    opacity=alt.value(0),\n",
    ").properties(\n",
    "    selection=nearest\n",
    ")\n",
    "\n",
    "# Draw points on the line, and highlight based on selection\n",
    "points = gpm_chart.mark_point().encode(\n",
    "    opacity=alt.condition(nearest, alt.value(1), alt.value(0))\n",
    ")\n",
    "\n",
    "# Draw text labels near the points, and highlight based on selection\n",
    "text = gpm_chart.mark_text(align='left', dx=5, dy=-5).encode(\n",
    "    text=alt.condition(nearest, 'margin:Q', alt.value(' '))\n",
    ")\n",
    "\n",
    "# Draw a rule at the location of the selection\n",
    "rules = alt.Chart().mark_rule(color='gray').encode(\n",
    "    x='fin_quarter_viz',\n",
    ").transform_filter(\n",
    "    nearest.ref()\n",
    ")\n",
    "\n",
    "# Put the five layers into a chart and bind the data\n",
    "alt.layer(gpm_chart, selectors, points, rules, text,\n",
    "          data=gpm.loc[:,['margin', 'fin_quarter_viz', 'company']], width=600, height=300)"
   ]
  }
 ],
 "metadata": {
  "kernelspec": {
   "display_name": "Python 3",
   "language": "python",
   "name": "python3"
  },
  "language_info": {
   "codemirror_mode": {
    "name": "ipython",
    "version": 3
   },
   "file_extension": ".py",
   "mimetype": "text/x-python",
   "name": "python",
   "nbconvert_exporter": "python",
   "pygments_lexer": "ipython3",
   "version": "3.6.4"
  },
  "toc": {
   "base_numbering": 1,
   "nav_menu": {},
   "number_sections": true,
   "sideBar": true,
   "skip_h1_title": false,
   "title_cell": "Table of Contents",
   "title_sidebar": "Contents",
   "toc_cell": false,
   "toc_position": {},
   "toc_section_display": true,
   "toc_window_display": false
  },
  "varInspector": {
   "cols": {
    "lenName": 16,
    "lenType": 16,
    "lenVar": 40
   },
   "kernels_config": {
    "python": {
     "delete_cmd_postfix": "",
     "delete_cmd_prefix": "del ",
     "library": "var_list.py",
     "varRefreshCmd": "print(var_dic_list())"
    },
    "r": {
     "delete_cmd_postfix": ") ",
     "delete_cmd_prefix": "rm(",
     "library": "var_list.r",
     "varRefreshCmd": "cat(var_dic_list()) "
    }
   },
   "types_to_exclude": [
    "module",
    "function",
    "builtin_function_or_method",
    "instance",
    "_Feature"
   ],
   "window_display": false
  }
 },
 "nbformat": 4,
 "nbformat_minor": 2
}
